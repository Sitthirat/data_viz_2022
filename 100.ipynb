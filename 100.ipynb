{
  "nbformat": 4,
  "nbformat_minor": 0,
  "metadata": {
    "colab": {
      "provenance": [],
      "toc_visible": true,
      "include_colab_link": true
    },
    "kernelspec": {
      "name": "python3",
      "display_name": "Python 3"
    },
    "language_info": {
      "name": "python"
    }
  },
  "cells": [
    {
      "cell_type": "markdown",
      "metadata": {
        "id": "view-in-github",
        "colab_type": "text"
      },
      "source": [
        "<a href=\"https://colab.research.google.com/github/Sitthirat/data_viz_2022/blob/main/100.ipynb\" target=\"_parent\"><img src=\"https://colab.research.google.com/assets/colab-badge.svg\" alt=\"Open In Colab\"/></a>"
      ]
    },
    {
      "cell_type": "code",
      "execution_count": null,
      "metadata": {
        "id": "nhXQEboODk1V"
      },
      "outputs": [],
      "source": [
        "import os \n",
        "import numpy as np\n",
        "import pandas as pd\n",
        "from matplotlib.pyplot import figure\n",
        "from sklearn.model_selection import train_test_split\n",
        "from sklearn.ensemble import ExtraTreesRegressor\n",
        "from sklearn.ensemble import RandomForestRegressor\n",
        "from sklearn.ensemble import GradientBoostingRegressor"
      ]
    },
    {
      "cell_type": "code",
      "source": [
        "from google.colab import drive    \n",
        "drive.mount('/content/drive')\n",
        "path = '/content/drive/My Drive/project 2023'"
      ],
      "metadata": {
        "colab": {
          "base_uri": "https://localhost:8080/"
        },
        "id": "xHqDBUMXDnaN",
        "outputId": "f070e17d-dda7-4bca-dd31-42cdd1836717"
      },
      "execution_count": null,
      "outputs": [
        {
          "output_type": "stream",
          "name": "stdout",
          "text": [
            "Mounted at /content/drive\n"
          ]
        }
      ]
    },
    {
      "cell_type": "markdown",
      "source": [
        "#data"
      ],
      "metadata": {
        "id": "jOldmewVauGO"
      }
    },
    {
      "cell_type": "code",
      "source": [
        "data_file_path = os.path.join(path,'data.csv')\n",
        "data= pd.read_csv(data_file_path)   "
      ],
      "metadata": {
        "id": "DcBYMeUCDo57"
      },
      "execution_count": null,
      "outputs": []
    },
    {
      "cell_type": "code",
      "source": [
        "data"
      ],
      "metadata": {
        "colab": {
          "base_uri": "https://localhost:8080/",
          "height": 424
        },
        "id": "hZ3uP9L2b5pn",
        "outputId": "f6eb5e30-6a3f-4de7-d7b3-89d67f272431"
      },
      "execution_count": null,
      "outputs": [
        {
          "output_type": "execute_result",
          "data": {
            "text/plain": [
              "     Sex  AgeSYear  telomere length (kb)  Weight  Height   BMI   SMM  \\\n",
              "0      2        21                 11.82    51.6     160  20.2  20.8   \n",
              "1      2        22                 11.40    48.6     155  20.2  20.2   \n",
              "2      2        20                 10.82    47.2     159  18.7  20.5   \n",
              "3      2        32                 10.57    49.9     163  18.8  22.2   \n",
              "4      2        25                 10.30    50.5     158  20.2  20.5   \n",
              "..   ...       ...                   ...     ...     ...   ...   ...   \n",
              "109    2        70                  5.30    43.1     150  19.2  17.3   \n",
              "110    2        71                  5.02    40.9     150  18.2  17.6   \n",
              "111    2        76                  4.79    53.8     150  23.9  18.6   \n",
              "112    1        74                  4.54    61.1     170  21.1  28.8   \n",
              "113    1        68                  4.28    71.2     189  19.9  36.5   \n",
              "\n",
              "     Fat Mass  % Body fat  abdominal circumference  ...  AST   GGT  Glucose  \\\n",
              "0        13.8        26.7                     72.1  ...    9  12.0       77   \n",
              "1        12.1        24.9                     70.1  ...   28  14.0       82   \n",
              "2        10.3        21.8                     68.0  ...   13  11.0       84   \n",
              "3        10.1        20.2                     67.8  ...   20  25.0       84   \n",
              "4        13.3        26.3                     71.5  ...   13  13.0       79   \n",
              "..        ...         ...                      ...  ...  ...   ...      ...   \n",
              "109      11.7        27.1                     69.6  ...   15   9.0       87   \n",
              "110       9.1        22.2                     66.6  ...   15  17.0       79   \n",
              "111      19.6        36.4                     78.9  ...   22  11.0       86   \n",
              "112       9.5        15.5                     77.9  ...   12  17.0       83   \n",
              "113       6.0         8.4                     72.9  ...   15   9.0       94   \n",
              "\n",
              "     HbA1c  AMY7  BUN  Creatinine  LD-P  Uric Acid   CK  \n",
              "0      3.4   127   12         0.9   494        5.4   94  \n",
              "1      6.1   102   13         0.7   321        2.9   49  \n",
              "2      4.5   117   12         0.8   273        3.9   41  \n",
              "3      4.1   119    8         0.9   296        3.9  103  \n",
              "4      5.3   145   14         0.5   344        3.9   52  \n",
              "..     ...   ...  ...         ...   ...        ...  ...  \n",
              "109    4.9   108    8         0.9   302        4.1   61  \n",
              "110    4.4   139   17         0.7   497        3.6   94  \n",
              "111    6.2    99   13         1.0   373        4.4  102  \n",
              "112    7.1   131   17         1.1   290        6.2   89  \n",
              "113    4.2   120   13         0.9   610        5.6  355  \n",
              "\n",
              "[114 rows x 36 columns]"
            ],
            "text/html": [
              "\n",
              "  <div id=\"df-8158cb1b-067a-4c61-a8d1-7f1b3bb643dc\">\n",
              "    <div class=\"colab-df-container\">\n",
              "      <div>\n",
              "<style scoped>\n",
              "    .dataframe tbody tr th:only-of-type {\n",
              "        vertical-align: middle;\n",
              "    }\n",
              "\n",
              "    .dataframe tbody tr th {\n",
              "        vertical-align: top;\n",
              "    }\n",
              "\n",
              "    .dataframe thead th {\n",
              "        text-align: right;\n",
              "    }\n",
              "</style>\n",
              "<table border=\"1\" class=\"dataframe\">\n",
              "  <thead>\n",
              "    <tr style=\"text-align: right;\">\n",
              "      <th></th>\n",
              "      <th>Sex</th>\n",
              "      <th>AgeSYear</th>\n",
              "      <th>telomere length (kb)</th>\n",
              "      <th>Weight</th>\n",
              "      <th>Height</th>\n",
              "      <th>BMI</th>\n",
              "      <th>SMM</th>\n",
              "      <th>Fat Mass</th>\n",
              "      <th>% Body fat</th>\n",
              "      <th>abdominal circumference</th>\n",
              "      <th>...</th>\n",
              "      <th>AST</th>\n",
              "      <th>GGT</th>\n",
              "      <th>Glucose</th>\n",
              "      <th>HbA1c</th>\n",
              "      <th>AMY7</th>\n",
              "      <th>BUN</th>\n",
              "      <th>Creatinine</th>\n",
              "      <th>LD-P</th>\n",
              "      <th>Uric Acid</th>\n",
              "      <th>CK</th>\n",
              "    </tr>\n",
              "  </thead>\n",
              "  <tbody>\n",
              "    <tr>\n",
              "      <th>0</th>\n",
              "      <td>2</td>\n",
              "      <td>21</td>\n",
              "      <td>11.82</td>\n",
              "      <td>51.6</td>\n",
              "      <td>160</td>\n",
              "      <td>20.2</td>\n",
              "      <td>20.8</td>\n",
              "      <td>13.8</td>\n",
              "      <td>26.7</td>\n",
              "      <td>72.1</td>\n",
              "      <td>...</td>\n",
              "      <td>9</td>\n",
              "      <td>12.0</td>\n",
              "      <td>77</td>\n",
              "      <td>3.4</td>\n",
              "      <td>127</td>\n",
              "      <td>12</td>\n",
              "      <td>0.9</td>\n",
              "      <td>494</td>\n",
              "      <td>5.4</td>\n",
              "      <td>94</td>\n",
              "    </tr>\n",
              "    <tr>\n",
              "      <th>1</th>\n",
              "      <td>2</td>\n",
              "      <td>22</td>\n",
              "      <td>11.40</td>\n",
              "      <td>48.6</td>\n",
              "      <td>155</td>\n",
              "      <td>20.2</td>\n",
              "      <td>20.2</td>\n",
              "      <td>12.1</td>\n",
              "      <td>24.9</td>\n",
              "      <td>70.1</td>\n",
              "      <td>...</td>\n",
              "      <td>28</td>\n",
              "      <td>14.0</td>\n",
              "      <td>82</td>\n",
              "      <td>6.1</td>\n",
              "      <td>102</td>\n",
              "      <td>13</td>\n",
              "      <td>0.7</td>\n",
              "      <td>321</td>\n",
              "      <td>2.9</td>\n",
              "      <td>49</td>\n",
              "    </tr>\n",
              "    <tr>\n",
              "      <th>2</th>\n",
              "      <td>2</td>\n",
              "      <td>20</td>\n",
              "      <td>10.82</td>\n",
              "      <td>47.2</td>\n",
              "      <td>159</td>\n",
              "      <td>18.7</td>\n",
              "      <td>20.5</td>\n",
              "      <td>10.3</td>\n",
              "      <td>21.8</td>\n",
              "      <td>68.0</td>\n",
              "      <td>...</td>\n",
              "      <td>13</td>\n",
              "      <td>11.0</td>\n",
              "      <td>84</td>\n",
              "      <td>4.5</td>\n",
              "      <td>117</td>\n",
              "      <td>12</td>\n",
              "      <td>0.8</td>\n",
              "      <td>273</td>\n",
              "      <td>3.9</td>\n",
              "      <td>41</td>\n",
              "    </tr>\n",
              "    <tr>\n",
              "      <th>3</th>\n",
              "      <td>2</td>\n",
              "      <td>32</td>\n",
              "      <td>10.57</td>\n",
              "      <td>49.9</td>\n",
              "      <td>163</td>\n",
              "      <td>18.8</td>\n",
              "      <td>22.2</td>\n",
              "      <td>10.1</td>\n",
              "      <td>20.2</td>\n",
              "      <td>67.8</td>\n",
              "      <td>...</td>\n",
              "      <td>20</td>\n",
              "      <td>25.0</td>\n",
              "      <td>84</td>\n",
              "      <td>4.1</td>\n",
              "      <td>119</td>\n",
              "      <td>8</td>\n",
              "      <td>0.9</td>\n",
              "      <td>296</td>\n",
              "      <td>3.9</td>\n",
              "      <td>103</td>\n",
              "    </tr>\n",
              "    <tr>\n",
              "      <th>4</th>\n",
              "      <td>2</td>\n",
              "      <td>25</td>\n",
              "      <td>10.30</td>\n",
              "      <td>50.5</td>\n",
              "      <td>158</td>\n",
              "      <td>20.2</td>\n",
              "      <td>20.5</td>\n",
              "      <td>13.3</td>\n",
              "      <td>26.3</td>\n",
              "      <td>71.5</td>\n",
              "      <td>...</td>\n",
              "      <td>13</td>\n",
              "      <td>13.0</td>\n",
              "      <td>79</td>\n",
              "      <td>5.3</td>\n",
              "      <td>145</td>\n",
              "      <td>14</td>\n",
              "      <td>0.5</td>\n",
              "      <td>344</td>\n",
              "      <td>3.9</td>\n",
              "      <td>52</td>\n",
              "    </tr>\n",
              "    <tr>\n",
              "      <th>...</th>\n",
              "      <td>...</td>\n",
              "      <td>...</td>\n",
              "      <td>...</td>\n",
              "      <td>...</td>\n",
              "      <td>...</td>\n",
              "      <td>...</td>\n",
              "      <td>...</td>\n",
              "      <td>...</td>\n",
              "      <td>...</td>\n",
              "      <td>...</td>\n",
              "      <td>...</td>\n",
              "      <td>...</td>\n",
              "      <td>...</td>\n",
              "      <td>...</td>\n",
              "      <td>...</td>\n",
              "      <td>...</td>\n",
              "      <td>...</td>\n",
              "      <td>...</td>\n",
              "      <td>...</td>\n",
              "      <td>...</td>\n",
              "      <td>...</td>\n",
              "    </tr>\n",
              "    <tr>\n",
              "      <th>109</th>\n",
              "      <td>2</td>\n",
              "      <td>70</td>\n",
              "      <td>5.30</td>\n",
              "      <td>43.1</td>\n",
              "      <td>150</td>\n",
              "      <td>19.2</td>\n",
              "      <td>17.3</td>\n",
              "      <td>11.7</td>\n",
              "      <td>27.1</td>\n",
              "      <td>69.6</td>\n",
              "      <td>...</td>\n",
              "      <td>15</td>\n",
              "      <td>9.0</td>\n",
              "      <td>87</td>\n",
              "      <td>4.9</td>\n",
              "      <td>108</td>\n",
              "      <td>8</td>\n",
              "      <td>0.9</td>\n",
              "      <td>302</td>\n",
              "      <td>4.1</td>\n",
              "      <td>61</td>\n",
              "    </tr>\n",
              "    <tr>\n",
              "      <th>110</th>\n",
              "      <td>2</td>\n",
              "      <td>71</td>\n",
              "      <td>5.02</td>\n",
              "      <td>40.9</td>\n",
              "      <td>150</td>\n",
              "      <td>18.2</td>\n",
              "      <td>17.6</td>\n",
              "      <td>9.1</td>\n",
              "      <td>22.2</td>\n",
              "      <td>66.6</td>\n",
              "      <td>...</td>\n",
              "      <td>15</td>\n",
              "      <td>17.0</td>\n",
              "      <td>79</td>\n",
              "      <td>4.4</td>\n",
              "      <td>139</td>\n",
              "      <td>17</td>\n",
              "      <td>0.7</td>\n",
              "      <td>497</td>\n",
              "      <td>3.6</td>\n",
              "      <td>94</td>\n",
              "    </tr>\n",
              "    <tr>\n",
              "      <th>111</th>\n",
              "      <td>2</td>\n",
              "      <td>76</td>\n",
              "      <td>4.79</td>\n",
              "      <td>53.8</td>\n",
              "      <td>150</td>\n",
              "      <td>23.9</td>\n",
              "      <td>18.6</td>\n",
              "      <td>19.6</td>\n",
              "      <td>36.4</td>\n",
              "      <td>78.9</td>\n",
              "      <td>...</td>\n",
              "      <td>22</td>\n",
              "      <td>11.0</td>\n",
              "      <td>86</td>\n",
              "      <td>6.2</td>\n",
              "      <td>99</td>\n",
              "      <td>13</td>\n",
              "      <td>1.0</td>\n",
              "      <td>373</td>\n",
              "      <td>4.4</td>\n",
              "      <td>102</td>\n",
              "    </tr>\n",
              "    <tr>\n",
              "      <th>112</th>\n",
              "      <td>1</td>\n",
              "      <td>74</td>\n",
              "      <td>4.54</td>\n",
              "      <td>61.1</td>\n",
              "      <td>170</td>\n",
              "      <td>21.1</td>\n",
              "      <td>28.8</td>\n",
              "      <td>9.5</td>\n",
              "      <td>15.5</td>\n",
              "      <td>77.9</td>\n",
              "      <td>...</td>\n",
              "      <td>12</td>\n",
              "      <td>17.0</td>\n",
              "      <td>83</td>\n",
              "      <td>7.1</td>\n",
              "      <td>131</td>\n",
              "      <td>17</td>\n",
              "      <td>1.1</td>\n",
              "      <td>290</td>\n",
              "      <td>6.2</td>\n",
              "      <td>89</td>\n",
              "    </tr>\n",
              "    <tr>\n",
              "      <th>113</th>\n",
              "      <td>1</td>\n",
              "      <td>68</td>\n",
              "      <td>4.28</td>\n",
              "      <td>71.2</td>\n",
              "      <td>189</td>\n",
              "      <td>19.9</td>\n",
              "      <td>36.5</td>\n",
              "      <td>6.0</td>\n",
              "      <td>8.4</td>\n",
              "      <td>72.9</td>\n",
              "      <td>...</td>\n",
              "      <td>15</td>\n",
              "      <td>9.0</td>\n",
              "      <td>94</td>\n",
              "      <td>4.2</td>\n",
              "      <td>120</td>\n",
              "      <td>13</td>\n",
              "      <td>0.9</td>\n",
              "      <td>610</td>\n",
              "      <td>5.6</td>\n",
              "      <td>355</td>\n",
              "    </tr>\n",
              "  </tbody>\n",
              "</table>\n",
              "<p>114 rows × 36 columns</p>\n",
              "</div>\n",
              "      <button class=\"colab-df-convert\" onclick=\"convertToInteractive('df-8158cb1b-067a-4c61-a8d1-7f1b3bb643dc')\"\n",
              "              title=\"Convert this dataframe to an interactive table.\"\n",
              "              style=\"display:none;\">\n",
              "        \n",
              "  <svg xmlns=\"http://www.w3.org/2000/svg\" height=\"24px\"viewBox=\"0 0 24 24\"\n",
              "       width=\"24px\">\n",
              "    <path d=\"M0 0h24v24H0V0z\" fill=\"none\"/>\n",
              "    <path d=\"M18.56 5.44l.94 2.06.94-2.06 2.06-.94-2.06-.94-.94-2.06-.94 2.06-2.06.94zm-11 1L8.5 8.5l.94-2.06 2.06-.94-2.06-.94L8.5 2.5l-.94 2.06-2.06.94zm10 10l.94 2.06.94-2.06 2.06-.94-2.06-.94-.94-2.06-.94 2.06-2.06.94z\"/><path d=\"M17.41 7.96l-1.37-1.37c-.4-.4-.92-.59-1.43-.59-.52 0-1.04.2-1.43.59L10.3 9.45l-7.72 7.72c-.78.78-.78 2.05 0 2.83L4 21.41c.39.39.9.59 1.41.59.51 0 1.02-.2 1.41-.59l7.78-7.78 2.81-2.81c.8-.78.8-2.07 0-2.86zM5.41 20L4 18.59l7.72-7.72 1.47 1.35L5.41 20z\"/>\n",
              "  </svg>\n",
              "      </button>\n",
              "      \n",
              "  <style>\n",
              "    .colab-df-container {\n",
              "      display:flex;\n",
              "      flex-wrap:wrap;\n",
              "      gap: 12px;\n",
              "    }\n",
              "\n",
              "    .colab-df-convert {\n",
              "      background-color: #E8F0FE;\n",
              "      border: none;\n",
              "      border-radius: 50%;\n",
              "      cursor: pointer;\n",
              "      display: none;\n",
              "      fill: #1967D2;\n",
              "      height: 32px;\n",
              "      padding: 0 0 0 0;\n",
              "      width: 32px;\n",
              "    }\n",
              "\n",
              "    .colab-df-convert:hover {\n",
              "      background-color: #E2EBFA;\n",
              "      box-shadow: 0px 1px 2px rgba(60, 64, 67, 0.3), 0px 1px 3px 1px rgba(60, 64, 67, 0.15);\n",
              "      fill: #174EA6;\n",
              "    }\n",
              "\n",
              "    [theme=dark] .colab-df-convert {\n",
              "      background-color: #3B4455;\n",
              "      fill: #D2E3FC;\n",
              "    }\n",
              "\n",
              "    [theme=dark] .colab-df-convert:hover {\n",
              "      background-color: #434B5C;\n",
              "      box-shadow: 0px 1px 3px 1px rgba(0, 0, 0, 0.15);\n",
              "      filter: drop-shadow(0px 1px 2px rgba(0, 0, 0, 0.3));\n",
              "      fill: #FFFFFF;\n",
              "    }\n",
              "  </style>\n",
              "\n",
              "      <script>\n",
              "        const buttonEl =\n",
              "          document.querySelector('#df-8158cb1b-067a-4c61-a8d1-7f1b3bb643dc button.colab-df-convert');\n",
              "        buttonEl.style.display =\n",
              "          google.colab.kernel.accessAllowed ? 'block' : 'none';\n",
              "\n",
              "        async function convertToInteractive(key) {\n",
              "          const element = document.querySelector('#df-8158cb1b-067a-4c61-a8d1-7f1b3bb643dc');\n",
              "          const dataTable =\n",
              "            await google.colab.kernel.invokeFunction('convertToInteractive',\n",
              "                                                     [key], {});\n",
              "          if (!dataTable) return;\n",
              "\n",
              "          const docLinkHtml = 'Like what you see? Visit the ' +\n",
              "            '<a target=\"_blank\" href=https://colab.research.google.com/notebooks/data_table.ipynb>data table notebook</a>'\n",
              "            + ' to learn more about interactive tables.';\n",
              "          element.innerHTML = '';\n",
              "          dataTable['output_type'] = 'display_data';\n",
              "          await google.colab.output.renderOutput(dataTable, element);\n",
              "          const docLink = document.createElement('div');\n",
              "          docLink.innerHTML = docLinkHtml;\n",
              "          element.appendChild(docLink);\n",
              "        }\n",
              "      </script>\n",
              "    </div>\n",
              "  </div>\n",
              "  "
            ]
          },
          "metadata": {},
          "execution_count": 5
        }
      ]
    },
    {
      "cell_type": "code",
      "source": [
        "data.drop(['AgeSYear'], axis=1, inplace=True) \n",
        "data"
      ],
      "metadata": {
        "colab": {
          "base_uri": "https://localhost:8080/",
          "height": 424
        },
        "id": "n2qJelMKbr9y",
        "outputId": "f011f066-a685-415c-91c0-f36bed76d6d5"
      },
      "execution_count": null,
      "outputs": [
        {
          "output_type": "execute_result",
          "data": {
            "text/plain": [
              "     Sex  telomere length (kb)  Weight  Height   BMI   SMM  Fat Mass  \\\n",
              "0      2                 11.82    51.6     160  20.2  20.8      13.8   \n",
              "1      2                 11.40    48.6     155  20.2  20.2      12.1   \n",
              "2      2                 10.82    47.2     159  18.7  20.5      10.3   \n",
              "3      2                 10.57    49.9     163  18.8  22.2      10.1   \n",
              "4      2                 10.30    50.5     158  20.2  20.5      13.3   \n",
              "..   ...                   ...     ...     ...   ...   ...       ...   \n",
              "109    2                  5.30    43.1     150  19.2  17.3      11.7   \n",
              "110    2                  5.02    40.9     150  18.2  17.6       9.1   \n",
              "111    2                  4.79    53.8     150  23.9  18.6      19.6   \n",
              "112    1                  4.54    61.1     170  21.1  28.8       9.5   \n",
              "113    1                  4.28    71.2     189  19.9  36.5       6.0   \n",
              "\n",
              "     % Body fat  abdominal circumference  waist to hip radio  ...  AST   GGT  \\\n",
              "0          26.7                     72.1                0.76  ...    9  12.0   \n",
              "1          24.9                     70.1                0.73  ...   28  14.0   \n",
              "2          21.8                     68.0                0.71  ...   13  11.0   \n",
              "3          20.2                     67.8                0.71  ...   20  25.0   \n",
              "4          26.3                     71.5                0.75  ...   13  13.0   \n",
              "..          ...                      ...                 ...  ...  ...   ...   \n",
              "109        27.1                     69.6                0.83  ...   15   9.0   \n",
              "110        22.2                     66.6                0.75  ...   15  17.0   \n",
              "111        36.4                     78.9                0.90  ...   22  11.0   \n",
              "112        15.5                     77.9                0.88  ...   12  17.0   \n",
              "113         8.4                     72.9                0.77  ...   15   9.0   \n",
              "\n",
              "     Glucose  HbA1c  AMY7  BUN  Creatinine  LD-P  Uric Acid   CK  \n",
              "0         77    3.4   127   12         0.9   494        5.4   94  \n",
              "1         82    6.1   102   13         0.7   321        2.9   49  \n",
              "2         84    4.5   117   12         0.8   273        3.9   41  \n",
              "3         84    4.1   119    8         0.9   296        3.9  103  \n",
              "4         79    5.3   145   14         0.5   344        3.9   52  \n",
              "..       ...    ...   ...  ...         ...   ...        ...  ...  \n",
              "109       87    4.9   108    8         0.9   302        4.1   61  \n",
              "110       79    4.4   139   17         0.7   497        3.6   94  \n",
              "111       86    6.2    99   13         1.0   373        4.4  102  \n",
              "112       83    7.1   131   17         1.1   290        6.2   89  \n",
              "113       94    4.2   120   13         0.9   610        5.6  355  \n",
              "\n",
              "[114 rows x 35 columns]"
            ],
            "text/html": [
              "\n",
              "  <div id=\"df-a13e426a-b03a-47e2-b4a0-211d0b03a375\">\n",
              "    <div class=\"colab-df-container\">\n",
              "      <div>\n",
              "<style scoped>\n",
              "    .dataframe tbody tr th:only-of-type {\n",
              "        vertical-align: middle;\n",
              "    }\n",
              "\n",
              "    .dataframe tbody tr th {\n",
              "        vertical-align: top;\n",
              "    }\n",
              "\n",
              "    .dataframe thead th {\n",
              "        text-align: right;\n",
              "    }\n",
              "</style>\n",
              "<table border=\"1\" class=\"dataframe\">\n",
              "  <thead>\n",
              "    <tr style=\"text-align: right;\">\n",
              "      <th></th>\n",
              "      <th>Sex</th>\n",
              "      <th>telomere length (kb)</th>\n",
              "      <th>Weight</th>\n",
              "      <th>Height</th>\n",
              "      <th>BMI</th>\n",
              "      <th>SMM</th>\n",
              "      <th>Fat Mass</th>\n",
              "      <th>% Body fat</th>\n",
              "      <th>abdominal circumference</th>\n",
              "      <th>waist to hip radio</th>\n",
              "      <th>...</th>\n",
              "      <th>AST</th>\n",
              "      <th>GGT</th>\n",
              "      <th>Glucose</th>\n",
              "      <th>HbA1c</th>\n",
              "      <th>AMY7</th>\n",
              "      <th>BUN</th>\n",
              "      <th>Creatinine</th>\n",
              "      <th>LD-P</th>\n",
              "      <th>Uric Acid</th>\n",
              "      <th>CK</th>\n",
              "    </tr>\n",
              "  </thead>\n",
              "  <tbody>\n",
              "    <tr>\n",
              "      <th>0</th>\n",
              "      <td>2</td>\n",
              "      <td>11.82</td>\n",
              "      <td>51.6</td>\n",
              "      <td>160</td>\n",
              "      <td>20.2</td>\n",
              "      <td>20.8</td>\n",
              "      <td>13.8</td>\n",
              "      <td>26.7</td>\n",
              "      <td>72.1</td>\n",
              "      <td>0.76</td>\n",
              "      <td>...</td>\n",
              "      <td>9</td>\n",
              "      <td>12.0</td>\n",
              "      <td>77</td>\n",
              "      <td>3.4</td>\n",
              "      <td>127</td>\n",
              "      <td>12</td>\n",
              "      <td>0.9</td>\n",
              "      <td>494</td>\n",
              "      <td>5.4</td>\n",
              "      <td>94</td>\n",
              "    </tr>\n",
              "    <tr>\n",
              "      <th>1</th>\n",
              "      <td>2</td>\n",
              "      <td>11.40</td>\n",
              "      <td>48.6</td>\n",
              "      <td>155</td>\n",
              "      <td>20.2</td>\n",
              "      <td>20.2</td>\n",
              "      <td>12.1</td>\n",
              "      <td>24.9</td>\n",
              "      <td>70.1</td>\n",
              "      <td>0.73</td>\n",
              "      <td>...</td>\n",
              "      <td>28</td>\n",
              "      <td>14.0</td>\n",
              "      <td>82</td>\n",
              "      <td>6.1</td>\n",
              "      <td>102</td>\n",
              "      <td>13</td>\n",
              "      <td>0.7</td>\n",
              "      <td>321</td>\n",
              "      <td>2.9</td>\n",
              "      <td>49</td>\n",
              "    </tr>\n",
              "    <tr>\n",
              "      <th>2</th>\n",
              "      <td>2</td>\n",
              "      <td>10.82</td>\n",
              "      <td>47.2</td>\n",
              "      <td>159</td>\n",
              "      <td>18.7</td>\n",
              "      <td>20.5</td>\n",
              "      <td>10.3</td>\n",
              "      <td>21.8</td>\n",
              "      <td>68.0</td>\n",
              "      <td>0.71</td>\n",
              "      <td>...</td>\n",
              "      <td>13</td>\n",
              "      <td>11.0</td>\n",
              "      <td>84</td>\n",
              "      <td>4.5</td>\n",
              "      <td>117</td>\n",
              "      <td>12</td>\n",
              "      <td>0.8</td>\n",
              "      <td>273</td>\n",
              "      <td>3.9</td>\n",
              "      <td>41</td>\n",
              "    </tr>\n",
              "    <tr>\n",
              "      <th>3</th>\n",
              "      <td>2</td>\n",
              "      <td>10.57</td>\n",
              "      <td>49.9</td>\n",
              "      <td>163</td>\n",
              "      <td>18.8</td>\n",
              "      <td>22.2</td>\n",
              "      <td>10.1</td>\n",
              "      <td>20.2</td>\n",
              "      <td>67.8</td>\n",
              "      <td>0.71</td>\n",
              "      <td>...</td>\n",
              "      <td>20</td>\n",
              "      <td>25.0</td>\n",
              "      <td>84</td>\n",
              "      <td>4.1</td>\n",
              "      <td>119</td>\n",
              "      <td>8</td>\n",
              "      <td>0.9</td>\n",
              "      <td>296</td>\n",
              "      <td>3.9</td>\n",
              "      <td>103</td>\n",
              "    </tr>\n",
              "    <tr>\n",
              "      <th>4</th>\n",
              "      <td>2</td>\n",
              "      <td>10.30</td>\n",
              "      <td>50.5</td>\n",
              "      <td>158</td>\n",
              "      <td>20.2</td>\n",
              "      <td>20.5</td>\n",
              "      <td>13.3</td>\n",
              "      <td>26.3</td>\n",
              "      <td>71.5</td>\n",
              "      <td>0.75</td>\n",
              "      <td>...</td>\n",
              "      <td>13</td>\n",
              "      <td>13.0</td>\n",
              "      <td>79</td>\n",
              "      <td>5.3</td>\n",
              "      <td>145</td>\n",
              "      <td>14</td>\n",
              "      <td>0.5</td>\n",
              "      <td>344</td>\n",
              "      <td>3.9</td>\n",
              "      <td>52</td>\n",
              "    </tr>\n",
              "    <tr>\n",
              "      <th>...</th>\n",
              "      <td>...</td>\n",
              "      <td>...</td>\n",
              "      <td>...</td>\n",
              "      <td>...</td>\n",
              "      <td>...</td>\n",
              "      <td>...</td>\n",
              "      <td>...</td>\n",
              "      <td>...</td>\n",
              "      <td>...</td>\n",
              "      <td>...</td>\n",
              "      <td>...</td>\n",
              "      <td>...</td>\n",
              "      <td>...</td>\n",
              "      <td>...</td>\n",
              "      <td>...</td>\n",
              "      <td>...</td>\n",
              "      <td>...</td>\n",
              "      <td>...</td>\n",
              "      <td>...</td>\n",
              "      <td>...</td>\n",
              "      <td>...</td>\n",
              "    </tr>\n",
              "    <tr>\n",
              "      <th>109</th>\n",
              "      <td>2</td>\n",
              "      <td>5.30</td>\n",
              "      <td>43.1</td>\n",
              "      <td>150</td>\n",
              "      <td>19.2</td>\n",
              "      <td>17.3</td>\n",
              "      <td>11.7</td>\n",
              "      <td>27.1</td>\n",
              "      <td>69.6</td>\n",
              "      <td>0.83</td>\n",
              "      <td>...</td>\n",
              "      <td>15</td>\n",
              "      <td>9.0</td>\n",
              "      <td>87</td>\n",
              "      <td>4.9</td>\n",
              "      <td>108</td>\n",
              "      <td>8</td>\n",
              "      <td>0.9</td>\n",
              "      <td>302</td>\n",
              "      <td>4.1</td>\n",
              "      <td>61</td>\n",
              "    </tr>\n",
              "    <tr>\n",
              "      <th>110</th>\n",
              "      <td>2</td>\n",
              "      <td>5.02</td>\n",
              "      <td>40.9</td>\n",
              "      <td>150</td>\n",
              "      <td>18.2</td>\n",
              "      <td>17.6</td>\n",
              "      <td>9.1</td>\n",
              "      <td>22.2</td>\n",
              "      <td>66.6</td>\n",
              "      <td>0.75</td>\n",
              "      <td>...</td>\n",
              "      <td>15</td>\n",
              "      <td>17.0</td>\n",
              "      <td>79</td>\n",
              "      <td>4.4</td>\n",
              "      <td>139</td>\n",
              "      <td>17</td>\n",
              "      <td>0.7</td>\n",
              "      <td>497</td>\n",
              "      <td>3.6</td>\n",
              "      <td>94</td>\n",
              "    </tr>\n",
              "    <tr>\n",
              "      <th>111</th>\n",
              "      <td>2</td>\n",
              "      <td>4.79</td>\n",
              "      <td>53.8</td>\n",
              "      <td>150</td>\n",
              "      <td>23.9</td>\n",
              "      <td>18.6</td>\n",
              "      <td>19.6</td>\n",
              "      <td>36.4</td>\n",
              "      <td>78.9</td>\n",
              "      <td>0.90</td>\n",
              "      <td>...</td>\n",
              "      <td>22</td>\n",
              "      <td>11.0</td>\n",
              "      <td>86</td>\n",
              "      <td>6.2</td>\n",
              "      <td>99</td>\n",
              "      <td>13</td>\n",
              "      <td>1.0</td>\n",
              "      <td>373</td>\n",
              "      <td>4.4</td>\n",
              "      <td>102</td>\n",
              "    </tr>\n",
              "    <tr>\n",
              "      <th>112</th>\n",
              "      <td>1</td>\n",
              "      <td>4.54</td>\n",
              "      <td>61.1</td>\n",
              "      <td>170</td>\n",
              "      <td>21.1</td>\n",
              "      <td>28.8</td>\n",
              "      <td>9.5</td>\n",
              "      <td>15.5</td>\n",
              "      <td>77.9</td>\n",
              "      <td>0.88</td>\n",
              "      <td>...</td>\n",
              "      <td>12</td>\n",
              "      <td>17.0</td>\n",
              "      <td>83</td>\n",
              "      <td>7.1</td>\n",
              "      <td>131</td>\n",
              "      <td>17</td>\n",
              "      <td>1.1</td>\n",
              "      <td>290</td>\n",
              "      <td>6.2</td>\n",
              "      <td>89</td>\n",
              "    </tr>\n",
              "    <tr>\n",
              "      <th>113</th>\n",
              "      <td>1</td>\n",
              "      <td>4.28</td>\n",
              "      <td>71.2</td>\n",
              "      <td>189</td>\n",
              "      <td>19.9</td>\n",
              "      <td>36.5</td>\n",
              "      <td>6.0</td>\n",
              "      <td>8.4</td>\n",
              "      <td>72.9</td>\n",
              "      <td>0.77</td>\n",
              "      <td>...</td>\n",
              "      <td>15</td>\n",
              "      <td>9.0</td>\n",
              "      <td>94</td>\n",
              "      <td>4.2</td>\n",
              "      <td>120</td>\n",
              "      <td>13</td>\n",
              "      <td>0.9</td>\n",
              "      <td>610</td>\n",
              "      <td>5.6</td>\n",
              "      <td>355</td>\n",
              "    </tr>\n",
              "  </tbody>\n",
              "</table>\n",
              "<p>114 rows × 35 columns</p>\n",
              "</div>\n",
              "      <button class=\"colab-df-convert\" onclick=\"convertToInteractive('df-a13e426a-b03a-47e2-b4a0-211d0b03a375')\"\n",
              "              title=\"Convert this dataframe to an interactive table.\"\n",
              "              style=\"display:none;\">\n",
              "        \n",
              "  <svg xmlns=\"http://www.w3.org/2000/svg\" height=\"24px\"viewBox=\"0 0 24 24\"\n",
              "       width=\"24px\">\n",
              "    <path d=\"M0 0h24v24H0V0z\" fill=\"none\"/>\n",
              "    <path d=\"M18.56 5.44l.94 2.06.94-2.06 2.06-.94-2.06-.94-.94-2.06-.94 2.06-2.06.94zm-11 1L8.5 8.5l.94-2.06 2.06-.94-2.06-.94L8.5 2.5l-.94 2.06-2.06.94zm10 10l.94 2.06.94-2.06 2.06-.94-2.06-.94-.94-2.06-.94 2.06-2.06.94z\"/><path d=\"M17.41 7.96l-1.37-1.37c-.4-.4-.92-.59-1.43-.59-.52 0-1.04.2-1.43.59L10.3 9.45l-7.72 7.72c-.78.78-.78 2.05 0 2.83L4 21.41c.39.39.9.59 1.41.59.51 0 1.02-.2 1.41-.59l7.78-7.78 2.81-2.81c.8-.78.8-2.07 0-2.86zM5.41 20L4 18.59l7.72-7.72 1.47 1.35L5.41 20z\"/>\n",
              "  </svg>\n",
              "      </button>\n",
              "      \n",
              "  <style>\n",
              "    .colab-df-container {\n",
              "      display:flex;\n",
              "      flex-wrap:wrap;\n",
              "      gap: 12px;\n",
              "    }\n",
              "\n",
              "    .colab-df-convert {\n",
              "      background-color: #E8F0FE;\n",
              "      border: none;\n",
              "      border-radius: 50%;\n",
              "      cursor: pointer;\n",
              "      display: none;\n",
              "      fill: #1967D2;\n",
              "      height: 32px;\n",
              "      padding: 0 0 0 0;\n",
              "      width: 32px;\n",
              "    }\n",
              "\n",
              "    .colab-df-convert:hover {\n",
              "      background-color: #E2EBFA;\n",
              "      box-shadow: 0px 1px 2px rgba(60, 64, 67, 0.3), 0px 1px 3px 1px rgba(60, 64, 67, 0.15);\n",
              "      fill: #174EA6;\n",
              "    }\n",
              "\n",
              "    [theme=dark] .colab-df-convert {\n",
              "      background-color: #3B4455;\n",
              "      fill: #D2E3FC;\n",
              "    }\n",
              "\n",
              "    [theme=dark] .colab-df-convert:hover {\n",
              "      background-color: #434B5C;\n",
              "      box-shadow: 0px 1px 3px 1px rgba(0, 0, 0, 0.15);\n",
              "      filter: drop-shadow(0px 1px 2px rgba(0, 0, 0, 0.3));\n",
              "      fill: #FFFFFF;\n",
              "    }\n",
              "  </style>\n",
              "\n",
              "      <script>\n",
              "        const buttonEl =\n",
              "          document.querySelector('#df-a13e426a-b03a-47e2-b4a0-211d0b03a375 button.colab-df-convert');\n",
              "        buttonEl.style.display =\n",
              "          google.colab.kernel.accessAllowed ? 'block' : 'none';\n",
              "\n",
              "        async function convertToInteractive(key) {\n",
              "          const element = document.querySelector('#df-a13e426a-b03a-47e2-b4a0-211d0b03a375');\n",
              "          const dataTable =\n",
              "            await google.colab.kernel.invokeFunction('convertToInteractive',\n",
              "                                                     [key], {});\n",
              "          if (!dataTable) return;\n",
              "\n",
              "          const docLinkHtml = 'Like what you see? Visit the ' +\n",
              "            '<a target=\"_blank\" href=https://colab.research.google.com/notebooks/data_table.ipynb>data table notebook</a>'\n",
              "            + ' to learn more about interactive tables.';\n",
              "          element.innerHTML = '';\n",
              "          dataTable['output_type'] = 'display_data';\n",
              "          await google.colab.output.renderOutput(dataTable, element);\n",
              "          const docLink = document.createElement('div');\n",
              "          docLink.innerHTML = docLinkHtml;\n",
              "          element.appendChild(docLink);\n",
              "        }\n",
              "      </script>\n",
              "    </div>\n",
              "  </div>\n",
              "  "
            ]
          },
          "metadata": {},
          "execution_count": 7
        }
      ]
    },
    {
      "cell_type": "code",
      "source": [
        "a1=pd.DataFrame.sample(data,n=100,replace=True)\n",
        "A1=pd.concat([data, a1])\n",
        "A1"
      ],
      "metadata": {
        "colab": {
          "base_uri": "https://localhost:8080/",
          "height": 424
        },
        "id": "Iqm8L0JaEQbT",
        "outputId": "405361f0-487f-4c49-d8a3-06c45db9aff3"
      },
      "execution_count": null,
      "outputs": [
        {
          "output_type": "execute_result",
          "data": {
            "text/plain": [
              "     Sex  telomere length (kb)  Weight  Height   BMI   SMM  Fat Mass  \\\n",
              "0      2                 11.82    51.6     160  20.2  20.8      13.8   \n",
              "1      2                 11.40    48.6     155  20.2  20.2      12.1   \n",
              "2      2                 10.82    47.2     159  18.7  20.5      10.3   \n",
              "3      2                 10.57    49.9     163  18.8  22.2      10.1   \n",
              "4      2                 10.30    50.5     158  20.2  20.5      13.3   \n",
              "..   ...                   ...     ...     ...   ...   ...       ...   \n",
              "108    1                  5.31    77.7     165  28.5  29.7      23.7   \n",
              "70     2                  7.46    54.1     162  20.6  22.7      13.1   \n",
              "96     1                  6.23    62.5     170  21.6  27.9      12.4   \n",
              "97     2                  6.19    67.3     165  24.7  24.2      23.1   \n",
              "21     2                  9.26    51.2     162  19.5  20.8      13.4   \n",
              "\n",
              "     % Body fat  abdominal circumference  waist to hip radio  ...  AST   GGT  \\\n",
              "0          26.7                     72.1                0.76  ...    9  12.0   \n",
              "1          24.9                     70.1                0.73  ...   28  14.0   \n",
              "2          21.8                     68.0                0.71  ...   13  11.0   \n",
              "3          20.2                     67.8                0.71  ...   20  25.0   \n",
              "4          26.3                     71.5                0.75  ...   13  13.0   \n",
              "..          ...                      ...                 ...  ...  ...   ...   \n",
              "108        30.5                     98.1                1.02  ...   59  48.0   \n",
              "70         24.2                     71.3                0.75  ...   13  10.0   \n",
              "96         19.8                     82.0                0.89  ...   15  21.0   \n",
              "97         34.3                     83.1                0.87  ...   20  34.0   \n",
              "21         26.2                     71.6                0.76  ...   22  12.0   \n",
              "\n",
              "     Glucose  HbA1c  AMY7  BUN  Creatinine  LD-P  Uric Acid   CK  \n",
              "0         77    3.4   127   12         0.9   494        5.4   94  \n",
              "1         82    6.1   102   13         0.7   321        2.9   49  \n",
              "2         84    4.5   117   12         0.8   273        3.9   41  \n",
              "3         84    4.1   119    8         0.9   296        3.9  103  \n",
              "4         79    5.3   145   14         0.5   344        3.9   52  \n",
              "..       ...    ...   ...  ...         ...   ...        ...  ...  \n",
              "108      106    6.3    95   13         1.3   426        6.0  158  \n",
              "70        93    7.7    52    9         0.6   457        3.6   66  \n",
              "96        99    5.2   104   12         1.2   299        5.7   46  \n",
              "97        83    7.0    95   13         0.8   305        4.7   30  \n",
              "21        83    6.8    81   14         0.4   339        3.0   37  \n",
              "\n",
              "[214 rows x 35 columns]"
            ],
            "text/html": [
              "\n",
              "  <div id=\"df-45ef8827-afee-46c7-a350-bdd02f01caa7\">\n",
              "    <div class=\"colab-df-container\">\n",
              "      <div>\n",
              "<style scoped>\n",
              "    .dataframe tbody tr th:only-of-type {\n",
              "        vertical-align: middle;\n",
              "    }\n",
              "\n",
              "    .dataframe tbody tr th {\n",
              "        vertical-align: top;\n",
              "    }\n",
              "\n",
              "    .dataframe thead th {\n",
              "        text-align: right;\n",
              "    }\n",
              "</style>\n",
              "<table border=\"1\" class=\"dataframe\">\n",
              "  <thead>\n",
              "    <tr style=\"text-align: right;\">\n",
              "      <th></th>\n",
              "      <th>Sex</th>\n",
              "      <th>telomere length (kb)</th>\n",
              "      <th>Weight</th>\n",
              "      <th>Height</th>\n",
              "      <th>BMI</th>\n",
              "      <th>SMM</th>\n",
              "      <th>Fat Mass</th>\n",
              "      <th>% Body fat</th>\n",
              "      <th>abdominal circumference</th>\n",
              "      <th>waist to hip radio</th>\n",
              "      <th>...</th>\n",
              "      <th>AST</th>\n",
              "      <th>GGT</th>\n",
              "      <th>Glucose</th>\n",
              "      <th>HbA1c</th>\n",
              "      <th>AMY7</th>\n",
              "      <th>BUN</th>\n",
              "      <th>Creatinine</th>\n",
              "      <th>LD-P</th>\n",
              "      <th>Uric Acid</th>\n",
              "      <th>CK</th>\n",
              "    </tr>\n",
              "  </thead>\n",
              "  <tbody>\n",
              "    <tr>\n",
              "      <th>0</th>\n",
              "      <td>2</td>\n",
              "      <td>11.82</td>\n",
              "      <td>51.6</td>\n",
              "      <td>160</td>\n",
              "      <td>20.2</td>\n",
              "      <td>20.8</td>\n",
              "      <td>13.8</td>\n",
              "      <td>26.7</td>\n",
              "      <td>72.1</td>\n",
              "      <td>0.76</td>\n",
              "      <td>...</td>\n",
              "      <td>9</td>\n",
              "      <td>12.0</td>\n",
              "      <td>77</td>\n",
              "      <td>3.4</td>\n",
              "      <td>127</td>\n",
              "      <td>12</td>\n",
              "      <td>0.9</td>\n",
              "      <td>494</td>\n",
              "      <td>5.4</td>\n",
              "      <td>94</td>\n",
              "    </tr>\n",
              "    <tr>\n",
              "      <th>1</th>\n",
              "      <td>2</td>\n",
              "      <td>11.40</td>\n",
              "      <td>48.6</td>\n",
              "      <td>155</td>\n",
              "      <td>20.2</td>\n",
              "      <td>20.2</td>\n",
              "      <td>12.1</td>\n",
              "      <td>24.9</td>\n",
              "      <td>70.1</td>\n",
              "      <td>0.73</td>\n",
              "      <td>...</td>\n",
              "      <td>28</td>\n",
              "      <td>14.0</td>\n",
              "      <td>82</td>\n",
              "      <td>6.1</td>\n",
              "      <td>102</td>\n",
              "      <td>13</td>\n",
              "      <td>0.7</td>\n",
              "      <td>321</td>\n",
              "      <td>2.9</td>\n",
              "      <td>49</td>\n",
              "    </tr>\n",
              "    <tr>\n",
              "      <th>2</th>\n",
              "      <td>2</td>\n",
              "      <td>10.82</td>\n",
              "      <td>47.2</td>\n",
              "      <td>159</td>\n",
              "      <td>18.7</td>\n",
              "      <td>20.5</td>\n",
              "      <td>10.3</td>\n",
              "      <td>21.8</td>\n",
              "      <td>68.0</td>\n",
              "      <td>0.71</td>\n",
              "      <td>...</td>\n",
              "      <td>13</td>\n",
              "      <td>11.0</td>\n",
              "      <td>84</td>\n",
              "      <td>4.5</td>\n",
              "      <td>117</td>\n",
              "      <td>12</td>\n",
              "      <td>0.8</td>\n",
              "      <td>273</td>\n",
              "      <td>3.9</td>\n",
              "      <td>41</td>\n",
              "    </tr>\n",
              "    <tr>\n",
              "      <th>3</th>\n",
              "      <td>2</td>\n",
              "      <td>10.57</td>\n",
              "      <td>49.9</td>\n",
              "      <td>163</td>\n",
              "      <td>18.8</td>\n",
              "      <td>22.2</td>\n",
              "      <td>10.1</td>\n",
              "      <td>20.2</td>\n",
              "      <td>67.8</td>\n",
              "      <td>0.71</td>\n",
              "      <td>...</td>\n",
              "      <td>20</td>\n",
              "      <td>25.0</td>\n",
              "      <td>84</td>\n",
              "      <td>4.1</td>\n",
              "      <td>119</td>\n",
              "      <td>8</td>\n",
              "      <td>0.9</td>\n",
              "      <td>296</td>\n",
              "      <td>3.9</td>\n",
              "      <td>103</td>\n",
              "    </tr>\n",
              "    <tr>\n",
              "      <th>4</th>\n",
              "      <td>2</td>\n",
              "      <td>10.30</td>\n",
              "      <td>50.5</td>\n",
              "      <td>158</td>\n",
              "      <td>20.2</td>\n",
              "      <td>20.5</td>\n",
              "      <td>13.3</td>\n",
              "      <td>26.3</td>\n",
              "      <td>71.5</td>\n",
              "      <td>0.75</td>\n",
              "      <td>...</td>\n",
              "      <td>13</td>\n",
              "      <td>13.0</td>\n",
              "      <td>79</td>\n",
              "      <td>5.3</td>\n",
              "      <td>145</td>\n",
              "      <td>14</td>\n",
              "      <td>0.5</td>\n",
              "      <td>344</td>\n",
              "      <td>3.9</td>\n",
              "      <td>52</td>\n",
              "    </tr>\n",
              "    <tr>\n",
              "      <th>...</th>\n",
              "      <td>...</td>\n",
              "      <td>...</td>\n",
              "      <td>...</td>\n",
              "      <td>...</td>\n",
              "      <td>...</td>\n",
              "      <td>...</td>\n",
              "      <td>...</td>\n",
              "      <td>...</td>\n",
              "      <td>...</td>\n",
              "      <td>...</td>\n",
              "      <td>...</td>\n",
              "      <td>...</td>\n",
              "      <td>...</td>\n",
              "      <td>...</td>\n",
              "      <td>...</td>\n",
              "      <td>...</td>\n",
              "      <td>...</td>\n",
              "      <td>...</td>\n",
              "      <td>...</td>\n",
              "      <td>...</td>\n",
              "      <td>...</td>\n",
              "    </tr>\n",
              "    <tr>\n",
              "      <th>108</th>\n",
              "      <td>1</td>\n",
              "      <td>5.31</td>\n",
              "      <td>77.7</td>\n",
              "      <td>165</td>\n",
              "      <td>28.5</td>\n",
              "      <td>29.7</td>\n",
              "      <td>23.7</td>\n",
              "      <td>30.5</td>\n",
              "      <td>98.1</td>\n",
              "      <td>1.02</td>\n",
              "      <td>...</td>\n",
              "      <td>59</td>\n",
              "      <td>48.0</td>\n",
              "      <td>106</td>\n",
              "      <td>6.3</td>\n",
              "      <td>95</td>\n",
              "      <td>13</td>\n",
              "      <td>1.3</td>\n",
              "      <td>426</td>\n",
              "      <td>6.0</td>\n",
              "      <td>158</td>\n",
              "    </tr>\n",
              "    <tr>\n",
              "      <th>70</th>\n",
              "      <td>2</td>\n",
              "      <td>7.46</td>\n",
              "      <td>54.1</td>\n",
              "      <td>162</td>\n",
              "      <td>20.6</td>\n",
              "      <td>22.7</td>\n",
              "      <td>13.1</td>\n",
              "      <td>24.2</td>\n",
              "      <td>71.3</td>\n",
              "      <td>0.75</td>\n",
              "      <td>...</td>\n",
              "      <td>13</td>\n",
              "      <td>10.0</td>\n",
              "      <td>93</td>\n",
              "      <td>7.7</td>\n",
              "      <td>52</td>\n",
              "      <td>9</td>\n",
              "      <td>0.6</td>\n",
              "      <td>457</td>\n",
              "      <td>3.6</td>\n",
              "      <td>66</td>\n",
              "    </tr>\n",
              "    <tr>\n",
              "      <th>96</th>\n",
              "      <td>1</td>\n",
              "      <td>6.23</td>\n",
              "      <td>62.5</td>\n",
              "      <td>170</td>\n",
              "      <td>21.6</td>\n",
              "      <td>27.9</td>\n",
              "      <td>12.4</td>\n",
              "      <td>19.8</td>\n",
              "      <td>82.0</td>\n",
              "      <td>0.89</td>\n",
              "      <td>...</td>\n",
              "      <td>15</td>\n",
              "      <td>21.0</td>\n",
              "      <td>99</td>\n",
              "      <td>5.2</td>\n",
              "      <td>104</td>\n",
              "      <td>12</td>\n",
              "      <td>1.2</td>\n",
              "      <td>299</td>\n",
              "      <td>5.7</td>\n",
              "      <td>46</td>\n",
              "    </tr>\n",
              "    <tr>\n",
              "      <th>97</th>\n",
              "      <td>2</td>\n",
              "      <td>6.19</td>\n",
              "      <td>67.3</td>\n",
              "      <td>165</td>\n",
              "      <td>24.7</td>\n",
              "      <td>24.2</td>\n",
              "      <td>23.1</td>\n",
              "      <td>34.3</td>\n",
              "      <td>83.1</td>\n",
              "      <td>0.87</td>\n",
              "      <td>...</td>\n",
              "      <td>20</td>\n",
              "      <td>34.0</td>\n",
              "      <td>83</td>\n",
              "      <td>7.0</td>\n",
              "      <td>95</td>\n",
              "      <td>13</td>\n",
              "      <td>0.8</td>\n",
              "      <td>305</td>\n",
              "      <td>4.7</td>\n",
              "      <td>30</td>\n",
              "    </tr>\n",
              "    <tr>\n",
              "      <th>21</th>\n",
              "      <td>2</td>\n",
              "      <td>9.26</td>\n",
              "      <td>51.2</td>\n",
              "      <td>162</td>\n",
              "      <td>19.5</td>\n",
              "      <td>20.8</td>\n",
              "      <td>13.4</td>\n",
              "      <td>26.2</td>\n",
              "      <td>71.6</td>\n",
              "      <td>0.76</td>\n",
              "      <td>...</td>\n",
              "      <td>22</td>\n",
              "      <td>12.0</td>\n",
              "      <td>83</td>\n",
              "      <td>6.8</td>\n",
              "      <td>81</td>\n",
              "      <td>14</td>\n",
              "      <td>0.4</td>\n",
              "      <td>339</td>\n",
              "      <td>3.0</td>\n",
              "      <td>37</td>\n",
              "    </tr>\n",
              "  </tbody>\n",
              "</table>\n",
              "<p>214 rows × 35 columns</p>\n",
              "</div>\n",
              "      <button class=\"colab-df-convert\" onclick=\"convertToInteractive('df-45ef8827-afee-46c7-a350-bdd02f01caa7')\"\n",
              "              title=\"Convert this dataframe to an interactive table.\"\n",
              "              style=\"display:none;\">\n",
              "        \n",
              "  <svg xmlns=\"http://www.w3.org/2000/svg\" height=\"24px\"viewBox=\"0 0 24 24\"\n",
              "       width=\"24px\">\n",
              "    <path d=\"M0 0h24v24H0V0z\" fill=\"none\"/>\n",
              "    <path d=\"M18.56 5.44l.94 2.06.94-2.06 2.06-.94-2.06-.94-.94-2.06-.94 2.06-2.06.94zm-11 1L8.5 8.5l.94-2.06 2.06-.94-2.06-.94L8.5 2.5l-.94 2.06-2.06.94zm10 10l.94 2.06.94-2.06 2.06-.94-2.06-.94-.94-2.06-.94 2.06-2.06.94z\"/><path d=\"M17.41 7.96l-1.37-1.37c-.4-.4-.92-.59-1.43-.59-.52 0-1.04.2-1.43.59L10.3 9.45l-7.72 7.72c-.78.78-.78 2.05 0 2.83L4 21.41c.39.39.9.59 1.41.59.51 0 1.02-.2 1.41-.59l7.78-7.78 2.81-2.81c.8-.78.8-2.07 0-2.86zM5.41 20L4 18.59l7.72-7.72 1.47 1.35L5.41 20z\"/>\n",
              "  </svg>\n",
              "      </button>\n",
              "      \n",
              "  <style>\n",
              "    .colab-df-container {\n",
              "      display:flex;\n",
              "      flex-wrap:wrap;\n",
              "      gap: 12px;\n",
              "    }\n",
              "\n",
              "    .colab-df-convert {\n",
              "      background-color: #E8F0FE;\n",
              "      border: none;\n",
              "      border-radius: 50%;\n",
              "      cursor: pointer;\n",
              "      display: none;\n",
              "      fill: #1967D2;\n",
              "      height: 32px;\n",
              "      padding: 0 0 0 0;\n",
              "      width: 32px;\n",
              "    }\n",
              "\n",
              "    .colab-df-convert:hover {\n",
              "      background-color: #E2EBFA;\n",
              "      box-shadow: 0px 1px 2px rgba(60, 64, 67, 0.3), 0px 1px 3px 1px rgba(60, 64, 67, 0.15);\n",
              "      fill: #174EA6;\n",
              "    }\n",
              "\n",
              "    [theme=dark] .colab-df-convert {\n",
              "      background-color: #3B4455;\n",
              "      fill: #D2E3FC;\n",
              "    }\n",
              "\n",
              "    [theme=dark] .colab-df-convert:hover {\n",
              "      background-color: #434B5C;\n",
              "      box-shadow: 0px 1px 3px 1px rgba(0, 0, 0, 0.15);\n",
              "      filter: drop-shadow(0px 1px 2px rgba(0, 0, 0, 0.3));\n",
              "      fill: #FFFFFF;\n",
              "    }\n",
              "  </style>\n",
              "\n",
              "      <script>\n",
              "        const buttonEl =\n",
              "          document.querySelector('#df-45ef8827-afee-46c7-a350-bdd02f01caa7 button.colab-df-convert');\n",
              "        buttonEl.style.display =\n",
              "          google.colab.kernel.accessAllowed ? 'block' : 'none';\n",
              "\n",
              "        async function convertToInteractive(key) {\n",
              "          const element = document.querySelector('#df-45ef8827-afee-46c7-a350-bdd02f01caa7');\n",
              "          const dataTable =\n",
              "            await google.colab.kernel.invokeFunction('convertToInteractive',\n",
              "                                                     [key], {});\n",
              "          if (!dataTable) return;\n",
              "\n",
              "          const docLinkHtml = 'Like what you see? Visit the ' +\n",
              "            '<a target=\"_blank\" href=https://colab.research.google.com/notebooks/data_table.ipynb>data table notebook</a>'\n",
              "            + ' to learn more about interactive tables.';\n",
              "          element.innerHTML = '';\n",
              "          dataTable['output_type'] = 'display_data';\n",
              "          await google.colab.output.renderOutput(dataTable, element);\n",
              "          const docLink = document.createElement('div');\n",
              "          docLink.innerHTML = docLinkHtml;\n",
              "          element.appendChild(docLink);\n",
              "        }\n",
              "      </script>\n",
              "    </div>\n",
              "  </div>\n",
              "  "
            ]
          },
          "metadata": {},
          "execution_count": 8
        }
      ]
    },
    {
      "cell_type": "code",
      "source": [
        "a2=pd.DataFrame.sample(data,n=100,replace=True)\n",
        "A2=pd.concat([data, a2])\n",
        "A2"
      ],
      "metadata": {
        "colab": {
          "base_uri": "https://localhost:8080/",
          "height": 201
        },
        "id": "syhRBShSeeiY",
        "outputId": "04a47669-0aaa-4def-ac59-bcc5ce0d1ff5"
      },
      "execution_count": 1,
      "outputs": [
        {
          "output_type": "error",
          "ename": "NameError",
          "evalue": "ignored",
          "traceback": [
            "\u001b[0;31m---------------------------------------------------------------------------\u001b[0m",
            "\u001b[0;31mNameError\u001b[0m                                 Traceback (most recent call last)",
            "\u001b[0;32m<ipython-input-1-d69d4c00fd10>\u001b[0m in \u001b[0;36m<module>\u001b[0;34m\u001b[0m\n\u001b[0;32m----> 1\u001b[0;31m \u001b[0ma2\u001b[0m\u001b[0;34m=\u001b[0m\u001b[0mpd\u001b[0m\u001b[0;34m.\u001b[0m\u001b[0mDataFrame\u001b[0m\u001b[0;34m.\u001b[0m\u001b[0msample\u001b[0m\u001b[0;34m(\u001b[0m\u001b[0mdata\u001b[0m\u001b[0;34m,\u001b[0m\u001b[0mn\u001b[0m\u001b[0;34m=\u001b[0m\u001b[0;36m100\u001b[0m\u001b[0;34m,\u001b[0m\u001b[0mreplace\u001b[0m\u001b[0;34m=\u001b[0m\u001b[0;32mTrue\u001b[0m\u001b[0;34m)\u001b[0m\u001b[0;34m\u001b[0m\u001b[0;34m\u001b[0m\u001b[0m\n\u001b[0m\u001b[1;32m      2\u001b[0m \u001b[0mA2\u001b[0m\u001b[0;34m=\u001b[0m\u001b[0mpd\u001b[0m\u001b[0;34m.\u001b[0m\u001b[0mconcat\u001b[0m\u001b[0;34m(\u001b[0m\u001b[0;34m[\u001b[0m\u001b[0mdata\u001b[0m\u001b[0;34m,\u001b[0m \u001b[0ma2\u001b[0m\u001b[0;34m]\u001b[0m\u001b[0;34m)\u001b[0m\u001b[0;34m\u001b[0m\u001b[0;34m\u001b[0m\u001b[0m\n\u001b[1;32m      3\u001b[0m \u001b[0mA2\u001b[0m\u001b[0;34m\u001b[0m\u001b[0;34m\u001b[0m\u001b[0m\n",
            "\u001b[0;31mNameError\u001b[0m: name 'pd' is not defined"
          ]
        }
      ]
    },
    {
      "cell_type": "code",
      "source": [
        "a3=pd.DataFrame.sample(data,n=100,replace=True)\n",
        "A3=pd.concat([data, a3])\n",
        "A3"
      ],
      "metadata": {
        "id": "cc0KC3I4elns"
      },
      "execution_count": null,
      "outputs": []
    },
    {
      "cell_type": "code",
      "source": [
        "a4=pd.DataFrame.sample(data,n=100,replace=True)\n",
        "A4=pd.concat([data, a4])\n",
        "A4"
      ],
      "metadata": {
        "id": "F2gbm6tXeq8U"
      },
      "execution_count": null,
      "outputs": []
    },
    {
      "cell_type": "code",
      "source": [
        "a5=pd.DataFrame.sample(data,n=100,replace=True)\n",
        "A5=pd.concat([data, a5])\n",
        "A5"
      ],
      "metadata": {
        "id": "0K34JdvbethA"
      },
      "execution_count": null,
      "outputs": []
    },
    {
      "cell_type": "code",
      "source": [
        "a6=pd.DataFrame.sample(data,n=100,replace=True)\n",
        "A6=pd.concat([data, a6])\n",
        "A6"
      ],
      "metadata": {
        "id": "Z4j1C_7Wev_b"
      },
      "execution_count": null,
      "outputs": []
    },
    {
      "cell_type": "code",
      "source": [
        "a7=pd.DataFrame.sample(data,n=100,replace=True)\n",
        "A7=pd.concat([data, a7])\n",
        "A7"
      ],
      "metadata": {
        "id": "M4aPNhZ4ezMc"
      },
      "execution_count": null,
      "outputs": []
    },
    {
      "cell_type": "code",
      "source": [
        "a8=pd.DataFrame.sample(data,n=100,replace=True)\n",
        "A8=pd.concat([data, a8])\n",
        "A8"
      ],
      "metadata": {
        "id": "43H8xeyHe3xF"
      },
      "execution_count": null,
      "outputs": []
    },
    {
      "cell_type": "code",
      "source": [
        "a9=pd.DataFrame.sample(data,n=100,replace=True)\n",
        "A9=pd.concat([data, a9])\n",
        "A9"
      ],
      "metadata": {
        "id": "InSlzA4we6As"
      },
      "execution_count": null,
      "outputs": []
    },
    {
      "cell_type": "code",
      "source": [
        "a10=pd.DataFrame.sample(data,n=100,replace=True)\n",
        "A10=pd.concat([data, a10])\n",
        "A10"
      ],
      "metadata": {
        "id": "9PjJ4yEUe8Wl"
      },
      "execution_count": null,
      "outputs": []
    },
    {
      "cell_type": "code",
      "source": [
        "a11=pd.DataFrame.sample(data,n=100,replace=True)\n",
        "A11=pd.concat([data, a11])\n",
        "A11"
      ],
      "metadata": {
        "id": "Yeg9kiCMe-8O"
      },
      "execution_count": null,
      "outputs": []
    },
    {
      "cell_type": "code",
      "source": [
        "a12=pd.DataFrame.sample(data,n=100,replace=True)\n",
        "A12=pd.concat([data, a12])\n",
        "A12"
      ],
      "metadata": {
        "id": "7BN_KfEhfBmn"
      },
      "execution_count": null,
      "outputs": []
    },
    {
      "cell_type": "code",
      "source": [
        "a13=pd.DataFrame.sample(data,n=100,replace=True)\n",
        "A13=pd.concat([data, a13])\n",
        "A13"
      ],
      "metadata": {
        "id": "F5-keVD1fH6h"
      },
      "execution_count": null,
      "outputs": []
    },
    {
      "cell_type": "code",
      "source": [
        "a14=pd.DataFrame.sample(data,n=100,replace=True)\n",
        "A14=pd.concat([data, a14])\n",
        "A14"
      ],
      "metadata": {
        "id": "AXoH874DfKys"
      },
      "execution_count": null,
      "outputs": []
    },
    {
      "cell_type": "code",
      "source": [
        "a15=pd.DataFrame.sample(data,n=100,replace=True)\n",
        "A15=pd.concat([data, a15])\n",
        "A15"
      ],
      "metadata": {
        "id": "P03vvkgZfNGU"
      },
      "execution_count": null,
      "outputs": []
    },
    {
      "cell_type": "code",
      "source": [
        "a16=pd.DataFrame.sample(data,n=100,replace=True)\n",
        "A16=pd.concat([data, a16])\n",
        "A16"
      ],
      "metadata": {
        "id": "NSE2hgIrfPbS"
      },
      "execution_count": null,
      "outputs": []
    },
    {
      "cell_type": "code",
      "source": [
        "a17=pd.DataFrame.sample(data,n=100,replace=True)\n",
        "A17=pd.concat([data, a17])\n",
        "A17"
      ],
      "metadata": {
        "id": "hIRRIBcefSYz"
      },
      "execution_count": null,
      "outputs": []
    },
    {
      "cell_type": "code",
      "source": [
        "a18=pd.DataFrame.sample(data,n=100,replace=True)\n",
        "A18=pd.concat([data, a18])\n",
        "A18"
      ],
      "metadata": {
        "id": "_sv_mlvNfUzJ"
      },
      "execution_count": null,
      "outputs": []
    },
    {
      "cell_type": "code",
      "source": [
        "a19=pd.DataFrame.sample(data,n=100,replace=True)\n",
        "A19=pd.concat([data, a19])\n",
        "A19"
      ],
      "metadata": {
        "id": "nxzx0_uyfYnQ"
      },
      "execution_count": null,
      "outputs": []
    },
    {
      "cell_type": "code",
      "source": [
        "a20=pd.DataFrame.sample(data,n=100,replace=True)\n",
        "A20=pd.concat([data, a20])\n",
        "A20"
      ],
      "metadata": {
        "id": "HpQEWefhfbFr"
      },
      "execution_count": null,
      "outputs": []
    },
    {
      "cell_type": "code",
      "source": [
        "a21=pd.DataFrame.sample(data,n=100,replace=True)\n",
        "A21=pd.concat([data, a21])\n",
        "A21"
      ],
      "metadata": {
        "id": "fXOgCWNDfdwW"
      },
      "execution_count": null,
      "outputs": []
    },
    {
      "cell_type": "code",
      "source": [
        "a22=pd.DataFrame.sample(data,n=100,replace=True)\n",
        "A22=pd.concat([data, a22])\n",
        "A22"
      ],
      "metadata": {
        "id": "TcGd0l6IffAd"
      },
      "execution_count": null,
      "outputs": []
    },
    {
      "cell_type": "code",
      "source": [
        "a23=pd.DataFrame.sample(data,n=100,replace=True)\n",
        "A23=pd.concat([data, a23])\n",
        "A23"
      ],
      "metadata": {
        "id": "u3otN9fHfgDW"
      },
      "execution_count": null,
      "outputs": []
    },
    {
      "cell_type": "code",
      "source": [
        "a24=pd.DataFrame.sample(data,n=100,replace=True)\n",
        "A24=pd.concat([data, a24])\n",
        "A24"
      ],
      "metadata": {
        "id": "QHMoFYuXfj2e"
      },
      "execution_count": null,
      "outputs": []
    },
    {
      "cell_type": "code",
      "source": [
        "a25=pd.DataFrame.sample(data,n=100,replace=True)\n",
        "A25=pd.concat([data, a25])\n",
        "A25"
      ],
      "metadata": {
        "id": "sF_Pd5Y5flOB"
      },
      "execution_count": null,
      "outputs": []
    },
    {
      "cell_type": "code",
      "source": [
        "a26=pd.DataFrame.sample(data,n=100,replace=True)\n",
        "A26=pd.concat([data, a26])\n",
        "A26"
      ],
      "metadata": {
        "id": "tO4Y8aOLfnQL"
      },
      "execution_count": null,
      "outputs": []
    },
    {
      "cell_type": "code",
      "source": [
        "a27=pd.DataFrame.sample(data,n=100,replace=True)\n",
        "A27=pd.concat([data, a27])\n",
        "A27"
      ],
      "metadata": {
        "id": "UTNTGpuAfo94"
      },
      "execution_count": null,
      "outputs": []
    },
    {
      "cell_type": "code",
      "source": [
        "a28=pd.DataFrame.sample(data,n=100,replace=True)\n",
        "A28=pd.concat([data, a28])\n",
        "A28"
      ],
      "metadata": {
        "id": "jJQD2RdhfqXI"
      },
      "execution_count": null,
      "outputs": []
    },
    {
      "cell_type": "code",
      "source": [
        "a29=pd.DataFrame.sample(data,n=100,replace=True)\n",
        "A29=pd.concat([data, a29])\n",
        "A29"
      ],
      "metadata": {
        "id": "SzyNTcIBfwbH"
      },
      "execution_count": null,
      "outputs": []
    },
    {
      "cell_type": "code",
      "source": [
        "a30=pd.DataFrame.sample(data,n=100,replace=True)\n",
        "A30=pd.concat([data, a30])\n",
        "A30"
      ],
      "metadata": {
        "id": "G9C-tHtUfxxR"
      },
      "execution_count": null,
      "outputs": []
    },
    {
      "cell_type": "code",
      "source": [
        "a31=pd.DataFrame.sample(data,n=100,replace=True)\n",
        "A31=pd.concat([data, a31])\n",
        "A31"
      ],
      "metadata": {
        "id": "BjgrOeuof1-l"
      },
      "execution_count": null,
      "outputs": []
    },
    {
      "cell_type": "code",
      "source": [
        "a32=pd.DataFrame.sample(data,n=100,replace=True)\n",
        "A32=pd.concat([data, a32])\n",
        "A32"
      ],
      "metadata": {
        "id": "61yVc_ybgG2A"
      },
      "execution_count": null,
      "outputs": []
    },
    {
      "cell_type": "code",
      "source": [
        "a33=pd.DataFrame.sample(data,n=100,replace=True)\n",
        "A33=pd.concat([data, a33])\n",
        "A33"
      ],
      "metadata": {
        "id": "xKmXBNXygHzg"
      },
      "execution_count": null,
      "outputs": []
    },
    {
      "cell_type": "code",
      "source": [
        "a34=pd.DataFrame.sample(data,n=100,replace=True)\n",
        "A34=pd.concat([data, a34])\n",
        "A34"
      ],
      "metadata": {
        "id": "ksqwBWZsgIyK"
      },
      "execution_count": null,
      "outputs": []
    },
    {
      "cell_type": "code",
      "source": [
        "a35=pd.DataFrame.sample(data,n=100,replace=True)\n",
        "A35=pd.concat([data, a35])\n",
        "A35"
      ],
      "metadata": {
        "id": "nVbsBDJjgJ6s"
      },
      "execution_count": null,
      "outputs": []
    },
    {
      "cell_type": "code",
      "source": [
        "a36=pd.DataFrame.sample(data,n=100,replace=True)\n",
        "A36=pd.concat([data, a36])\n",
        "A36"
      ],
      "metadata": {
        "id": "f7hUYAYAgLFZ"
      },
      "execution_count": null,
      "outputs": []
    },
    {
      "cell_type": "code",
      "source": [
        "a37=pd.DataFrame.sample(data,n=100,replace=True)\n",
        "A37=pd.concat([data, a37])\n",
        "A37"
      ],
      "metadata": {
        "id": "FoeC0738gMY9"
      },
      "execution_count": null,
      "outputs": []
    },
    {
      "cell_type": "code",
      "source": [
        "a38=pd.DataFrame.sample(data,n=100,replace=True)\n",
        "A38=pd.concat([data, a38])\n",
        "A38"
      ],
      "metadata": {
        "id": "NoRziYKZgNbW"
      },
      "execution_count": null,
      "outputs": []
    },
    {
      "cell_type": "code",
      "source": [
        "a39=pd.DataFrame.sample(data,n=100,replace=True)\n",
        "A39=pd.concat([data, a39])\n",
        "A39"
      ],
      "metadata": {
        "id": "08kkcMMvgO-2"
      },
      "execution_count": null,
      "outputs": []
    },
    {
      "cell_type": "code",
      "source": [
        "a40=pd.DataFrame.sample(data,n=100,replace=True)\n",
        "A40=pd.concat([data, a40])\n",
        "A40"
      ],
      "metadata": {
        "id": "oZHt4XrigXAT"
      },
      "execution_count": null,
      "outputs": []
    },
    {
      "cell_type": "code",
      "source": [
        "a41=pd.DataFrame.sample(data,n=100,replace=True)\n",
        "A41=pd.concat([data, a41])\n",
        "A41"
      ],
      "metadata": {
        "id": "D_9mX1NDgaag"
      },
      "execution_count": null,
      "outputs": []
    },
    {
      "cell_type": "code",
      "source": [
        "a42=pd.DataFrame.sample(data,n=100,replace=True)\n",
        "A42=pd.concat([data, a42])\n",
        "A42"
      ],
      "metadata": {
        "id": "gWnJF9Awgbgo"
      },
      "execution_count": null,
      "outputs": []
    },
    {
      "cell_type": "code",
      "source": [
        "a43=pd.DataFrame.sample(data,n=100,replace=True)\n",
        "A43=pd.concat([data, a43])\n",
        "A43"
      ],
      "metadata": {
        "id": "bVQjo6bugdYk"
      },
      "execution_count": null,
      "outputs": []
    },
    {
      "cell_type": "code",
      "source": [
        "a44=pd.DataFrame.sample(data,n=100,replace=True)\n",
        "A44=pd.concat([data, a44])\n",
        "A44"
      ],
      "metadata": {
        "id": "1Jw9fgaQgei3"
      },
      "execution_count": null,
      "outputs": []
    },
    {
      "cell_type": "code",
      "source": [
        "a45=pd.DataFrame.sample(data,n=100,replace=True)\n",
        "A45=pd.concat([data, a45])\n",
        "A45"
      ],
      "metadata": {
        "id": "zz2dNvlugf2W"
      },
      "execution_count": null,
      "outputs": []
    },
    {
      "cell_type": "code",
      "source": [
        "a46=pd.DataFrame.sample(data,n=100,replace=True)\n",
        "A46=pd.concat([data, a46])\n",
        "A46"
      ],
      "metadata": {
        "id": "UdZinKN3glmt"
      },
      "execution_count": null,
      "outputs": []
    },
    {
      "cell_type": "code",
      "source": [
        "a47=pd.DataFrame.sample(data,n=100,replace=True)\n",
        "A47=pd.concat([data, a47])\n",
        "A47"
      ],
      "metadata": {
        "id": "hwwYoFMvgm3m"
      },
      "execution_count": null,
      "outputs": []
    },
    {
      "cell_type": "code",
      "source": [
        "a48=pd.DataFrame.sample(data,n=100,replace=True)\n",
        "A48=pd.concat([data, a48])\n",
        "A48"
      ],
      "metadata": {
        "id": "lLJt8dStgn4Y"
      },
      "execution_count": null,
      "outputs": []
    },
    {
      "cell_type": "code",
      "source": [
        "a49=pd.DataFrame.sample(data,n=100,replace=True)\n",
        "A49=pd.concat([data, a49])\n",
        "A49"
      ],
      "metadata": {
        "id": "YMnr0jqBgpIp"
      },
      "execution_count": null,
      "outputs": []
    },
    {
      "cell_type": "code",
      "source": [
        "a50=pd.DataFrame.sample(data,n=100,replace=True)\n",
        "A50=pd.concat([data, a50])\n",
        "A50"
      ],
      "metadata": {
        "id": "zxT1Ns7IgqcY"
      },
      "execution_count": null,
      "outputs": []
    },
    {
      "cell_type": "code",
      "source": [
        "a51=pd.DataFrame.sample(data,n=100,replace=True)\n",
        "A51=pd.concat([data, a51])\n",
        "A51"
      ],
      "metadata": {
        "id": "Rix4Ut7hguAr"
      },
      "execution_count": null,
      "outputs": []
    },
    {
      "cell_type": "code",
      "source": [
        "a52=pd.DataFrame.sample(data,n=100,replace=True)\n",
        "A52=pd.concat([data, a52])\n",
        "A52"
      ],
      "metadata": {
        "id": "sNLUzSiygvQn"
      },
      "execution_count": null,
      "outputs": []
    },
    {
      "cell_type": "code",
      "source": [
        "a53=pd.DataFrame.sample(data,n=100,replace=True)\n",
        "A53=pd.concat([data, a53])\n",
        "A53"
      ],
      "metadata": {
        "id": "c5sahR5Yg2Ag"
      },
      "execution_count": null,
      "outputs": []
    },
    {
      "cell_type": "code",
      "source": [
        "a54=pd.DataFrame.sample(data,n=100,replace=True)\n",
        "A54=pd.concat([data, a54])\n",
        "A54"
      ],
      "metadata": {
        "id": "BBy42yWUg2-P"
      },
      "execution_count": null,
      "outputs": []
    },
    {
      "cell_type": "code",
      "source": [
        "a55=pd.DataFrame.sample(data,n=100,replace=True)\n",
        "A55=pd.concat([data, a55])\n",
        "A55"
      ],
      "metadata": {
        "id": "UmYmSCM9g4Gj"
      },
      "execution_count": null,
      "outputs": []
    },
    {
      "cell_type": "code",
      "source": [
        "a56=pd.DataFrame.sample(data,n=100,replace=True)\n",
        "A56=pd.concat([data, a56])\n",
        "A56"
      ],
      "metadata": {
        "id": "L1y3Y3AOg5O1"
      },
      "execution_count": null,
      "outputs": []
    },
    {
      "cell_type": "code",
      "source": [
        "a57=pd.DataFrame.sample(data,n=100,replace=True)\n",
        "A57=pd.concat([data, a57])\n",
        "A57"
      ],
      "metadata": {
        "id": "40S8Blbjg6TK"
      },
      "execution_count": null,
      "outputs": []
    },
    {
      "cell_type": "code",
      "source": [
        "a58=pd.DataFrame.sample(data,n=100,replace=True)\n",
        "A58=pd.concat([data, a58])\n",
        "A58"
      ],
      "metadata": {
        "id": "bSE8-XOBg8PK"
      },
      "execution_count": null,
      "outputs": []
    },
    {
      "cell_type": "code",
      "source": [
        "a59=pd.DataFrame.sample(data,n=100,replace=True)\n",
        "A59=pd.concat([data, a59])\n",
        "A59"
      ],
      "metadata": {
        "id": "HRKkqdE5g_2g"
      },
      "execution_count": null,
      "outputs": []
    },
    {
      "cell_type": "code",
      "source": [
        "a60=pd.DataFrame.sample(data,n=100,replace=True)\n",
        "A60=pd.concat([data, a60])\n",
        "A60"
      ],
      "metadata": {
        "id": "bDXs53SMhEV0"
      },
      "execution_count": null,
      "outputs": []
    },
    {
      "cell_type": "code",
      "source": [
        "a61=pd.DataFrame.sample(data,n=100,replace=True)\n",
        "A61=pd.concat([data, a61])\n",
        "A61"
      ],
      "metadata": {
        "id": "UNgNinKyhFwu"
      },
      "execution_count": null,
      "outputs": []
    },
    {
      "cell_type": "code",
      "source": [
        "a62=pd.DataFrame.sample(data,n=100,replace=True)\n",
        "A62=pd.concat([data, a62])\n",
        "A62"
      ],
      "metadata": {
        "id": "khD-9k-DhHGO"
      },
      "execution_count": null,
      "outputs": []
    },
    {
      "cell_type": "code",
      "source": [
        "a63=pd.DataFrame.sample(data,n=100,replace=True)\n",
        "A63=pd.concat([data, a63])\n",
        "A63"
      ],
      "metadata": {
        "id": "blncRunhhINU"
      },
      "execution_count": null,
      "outputs": []
    },
    {
      "cell_type": "code",
      "source": [
        "a64=pd.DataFrame.sample(data,n=100,replace=True)\n",
        "A64=pd.concat([data, a64])\n",
        "A64"
      ],
      "metadata": {
        "id": "HSEkwkR2hJSL"
      },
      "execution_count": null,
      "outputs": []
    },
    {
      "cell_type": "code",
      "source": [
        "a65=pd.DataFrame.sample(data,n=100,replace=True)\n",
        "A65=pd.concat([data, a65])\n",
        "A65"
      ],
      "metadata": {
        "id": "pEff-I7qhK8t"
      },
      "execution_count": null,
      "outputs": []
    },
    {
      "cell_type": "code",
      "source": [
        "a66=pd.DataFrame.sample(data,n=100,replace=True)\n",
        "A66=pd.concat([data, a66])\n",
        "A66"
      ],
      "metadata": {
        "id": "vZnmLiRrhPV0"
      },
      "execution_count": null,
      "outputs": []
    },
    {
      "cell_type": "code",
      "source": [
        "a67=pd.DataFrame.sample(data,n=100,replace=True)\n",
        "A67=pd.concat([data, a67])\n",
        "A67"
      ],
      "metadata": {
        "id": "wEImDC9RhQhn"
      },
      "execution_count": null,
      "outputs": []
    },
    {
      "cell_type": "code",
      "source": [
        "a68=pd.DataFrame.sample(data,n=100,replace=True)\n",
        "A68=pd.concat([data, a68])\n",
        "A68"
      ],
      "metadata": {
        "id": "POvxCBirhR3_"
      },
      "execution_count": null,
      "outputs": []
    },
    {
      "cell_type": "code",
      "source": [
        "a69=pd.DataFrame.sample(data,n=100,replace=True)\n",
        "A69=pd.concat([data, a69])\n",
        "A69"
      ],
      "metadata": {
        "id": "LUd7RV6ahTF7"
      },
      "execution_count": null,
      "outputs": []
    },
    {
      "cell_type": "code",
      "source": [
        "a70=pd.DataFrame.sample(data,n=100,replace=True)\n",
        "A70=pd.concat([data, a70])\n",
        "A70"
      ],
      "metadata": {
        "id": "6G2Sg4dnhUUt"
      },
      "execution_count": null,
      "outputs": []
    },
    {
      "cell_type": "code",
      "source": [
        "a71=pd.DataFrame.sample(data,n=100,replace=True)\n",
        "A71=pd.concat([data, a71])\n",
        "A71"
      ],
      "metadata": {
        "id": "j9cz0OUxhX2P"
      },
      "execution_count": null,
      "outputs": []
    },
    {
      "cell_type": "code",
      "source": [
        "a72=pd.DataFrame.sample(data,n=100,replace=True)\n",
        "A72=pd.concat([data, a72])\n",
        "A72"
      ],
      "metadata": {
        "id": "foMu-aF4hbHX"
      },
      "execution_count": null,
      "outputs": []
    },
    {
      "cell_type": "code",
      "source": [
        "a73=pd.DataFrame.sample(data,n=100,replace=True)\n",
        "A73=pd.concat([data, a73])\n",
        "A73"
      ],
      "metadata": {
        "id": "WHh42OFMhcOj"
      },
      "execution_count": null,
      "outputs": []
    },
    {
      "cell_type": "code",
      "source": [
        "a74=pd.DataFrame.sample(data,n=100,replace=True)\n",
        "A74=pd.concat([data, a74])\n",
        "A74"
      ],
      "metadata": {
        "id": "ZqMK8ZT1hdbh"
      },
      "execution_count": null,
      "outputs": []
    },
    {
      "cell_type": "code",
      "source": [
        "a75=pd.DataFrame.sample(data,n=100,replace=True)\n",
        "A75=pd.concat([data, a75])\n",
        "A75"
      ],
      "metadata": {
        "id": "y3Ap830qhena"
      },
      "execution_count": null,
      "outputs": []
    },
    {
      "cell_type": "code",
      "source": [
        "a76=pd.DataFrame.sample(data,n=100,replace=True)\n",
        "A76=pd.concat([data, a76])\n",
        "A76"
      ],
      "metadata": {
        "id": "2sAuTHNohgJR"
      },
      "execution_count": null,
      "outputs": []
    },
    {
      "cell_type": "code",
      "source": [
        "a77=pd.DataFrame.sample(data,n=100,replace=True)\n",
        "A77=pd.concat([data, a77])\n",
        "A77"
      ],
      "metadata": {
        "id": "2_dA3dGJhhWu"
      },
      "execution_count": null,
      "outputs": []
    },
    {
      "cell_type": "code",
      "source": [
        "a78=pd.DataFrame.sample(data,n=100,replace=True)\n",
        "A78=pd.concat([data, a78])\n",
        "A78"
      ],
      "metadata": {
        "id": "qWPgjFV0hijf"
      },
      "execution_count": null,
      "outputs": []
    },
    {
      "cell_type": "code",
      "source": [
        "a79=pd.DataFrame.sample(data,n=100,replace=True)\n",
        "A79=pd.concat([data, a79])\n",
        "A79"
      ],
      "metadata": {
        "id": "OFsQBWOmhj-Z"
      },
      "execution_count": null,
      "outputs": []
    },
    {
      "cell_type": "code",
      "source": [
        "a80=pd.DataFrame.sample(data,n=100,replace=True)\n",
        "A80=pd.concat([data, a80])\n",
        "A80"
      ],
      "metadata": {
        "id": "_rbLRDLohwuf"
      },
      "execution_count": null,
      "outputs": []
    },
    {
      "cell_type": "code",
      "source": [
        "a81=pd.DataFrame.sample(data,n=100,replace=True)\n",
        "A81=pd.concat([data, a81])\n",
        "A81"
      ],
      "metadata": {
        "id": "TMMaNEyQhx7A"
      },
      "execution_count": null,
      "outputs": []
    },
    {
      "cell_type": "code",
      "source": [
        "a82=pd.DataFrame.sample(data,n=100,replace=True)\n",
        "A82=pd.concat([data, a82])\n",
        "A82"
      ],
      "metadata": {
        "id": "8gN1jSXGhzEK"
      },
      "execution_count": null,
      "outputs": []
    },
    {
      "cell_type": "code",
      "source": [
        "a83=pd.DataFrame.sample(data,n=100,replace=True)\n",
        "A83=pd.concat([data, a83])\n",
        "A83"
      ],
      "metadata": {
        "id": "CKi6nAxCh73R"
      },
      "execution_count": null,
      "outputs": []
    },
    {
      "cell_type": "code",
      "source": [
        "a84=pd.DataFrame.sample(data,n=100,replace=True)\n",
        "A84=pd.concat([data, a84])\n",
        "A84"
      ],
      "metadata": {
        "id": "DlNSTzc0h8z-"
      },
      "execution_count": null,
      "outputs": []
    },
    {
      "cell_type": "code",
      "source": [
        "a85=pd.DataFrame.sample(data,n=100,replace=True)\n",
        "A85=pd.concat([data, a85])\n",
        "A85"
      ],
      "metadata": {
        "id": "2jTqy5UAh-D9"
      },
      "execution_count": null,
      "outputs": []
    },
    {
      "cell_type": "code",
      "source": [
        "a86=pd.DataFrame.sample(data,n=100,replace=True)\n",
        "A86=pd.concat([data, a86])\n",
        "A86"
      ],
      "metadata": {
        "id": "OvkPSnXhh_MM"
      },
      "execution_count": null,
      "outputs": []
    },
    {
      "cell_type": "code",
      "source": [
        "a87=pd.DataFrame.sample(data,n=100,replace=True)\n",
        "A87=pd.concat([data, a87])\n",
        "A87"
      ],
      "metadata": {
        "id": "8hy5tvX_iBIf"
      },
      "execution_count": null,
      "outputs": []
    },
    {
      "cell_type": "code",
      "source": [
        "a88=pd.DataFrame.sample(data,n=100,replace=True)\n",
        "A88=pd.concat([data, a88])\n",
        "A88"
      ],
      "metadata": {
        "id": "2LTSuXoWiCXX"
      },
      "execution_count": null,
      "outputs": []
    },
    {
      "cell_type": "code",
      "source": [
        "a89=pd.DataFrame.sample(data,n=100,replace=True)\n",
        "A89=pd.concat([data, a89])\n",
        "A89"
      ],
      "metadata": {
        "id": "2gdtBZB-iDba"
      },
      "execution_count": null,
      "outputs": []
    },
    {
      "cell_type": "code",
      "source": [
        "a90=pd.DataFrame.sample(data,n=100,replace=True)\n",
        "A90=pd.concat([data, a90])\n",
        "A90"
      ],
      "metadata": {
        "id": "fKdForDdiFEM"
      },
      "execution_count": null,
      "outputs": []
    },
    {
      "cell_type": "code",
      "source": [
        "a91=pd.DataFrame.sample(data,n=100,replace=True)\n",
        "A91=pd.concat([data, a91])\n",
        "A91"
      ],
      "metadata": {
        "id": "oOUqY3Z0iOUM"
      },
      "execution_count": null,
      "outputs": []
    },
    {
      "cell_type": "code",
      "source": [
        "a92=pd.DataFrame.sample(data,n=100,replace=True)\n",
        "A92=pd.concat([data, a92])\n",
        "A92"
      ],
      "metadata": {
        "id": "cVUBxU5CiPWS"
      },
      "execution_count": null,
      "outputs": []
    },
    {
      "cell_type": "code",
      "source": [
        "a93=pd.DataFrame.sample(data,n=100,replace=True)\n",
        "A93=pd.concat([data, a93])\n",
        "A93"
      ],
      "metadata": {
        "id": "-KbRjsDIiQMD"
      },
      "execution_count": null,
      "outputs": []
    },
    {
      "cell_type": "code",
      "source": [
        "a94=pd.DataFrame.sample(data,n=100,replace=True)\n",
        "A94=pd.concat([data, a94])\n",
        "A94"
      ],
      "metadata": {
        "id": "0mEVsf6viREO"
      },
      "execution_count": null,
      "outputs": []
    },
    {
      "cell_type": "code",
      "source": [
        "a95=pd.DataFrame.sample(data,n=100,replace=True)\n",
        "A95=pd.concat([data, a95])\n",
        "A95"
      ],
      "metadata": {
        "id": "xHA3nm9EiSJ6"
      },
      "execution_count": null,
      "outputs": []
    },
    {
      "cell_type": "code",
      "source": [
        "a96=pd.DataFrame.sample(data,n=100,replace=True)\n",
        "A96=pd.concat([data, a96])\n",
        "A96"
      ],
      "metadata": {
        "id": "YWTY5oDiiTnb"
      },
      "execution_count": null,
      "outputs": []
    },
    {
      "cell_type": "code",
      "source": [
        "a97=pd.DataFrame.sample(data,n=100,replace=True)\n",
        "A97=pd.concat([data, a97])\n",
        "A97"
      ],
      "metadata": {
        "id": "CU0fYqe-iWyP"
      },
      "execution_count": null,
      "outputs": []
    },
    {
      "cell_type": "code",
      "source": [
        "a98=pd.DataFrame.sample(data,n=100,replace=True)\n",
        "A98=pd.concat([data, a98])\n",
        "A98"
      ],
      "metadata": {
        "id": "Wa5wFfGXibV0"
      },
      "execution_count": null,
      "outputs": []
    },
    {
      "cell_type": "code",
      "source": [
        "a99=pd.DataFrame.sample(data,n=100,replace=True)\n",
        "A99=pd.concat([data, a99])\n",
        "A99"
      ],
      "metadata": {
        "id": "zlZhadAWicmk"
      },
      "execution_count": null,
      "outputs": []
    },
    {
      "cell_type": "code",
      "source": [
        "a100=pd.DataFrame.sample(data,n=100,replace=True)\n",
        "A100=pd.concat([data, a100])\n",
        "A100"
      ],
      "metadata": {
        "id": "O_u1mkBIieLq"
      },
      "execution_count": null,
      "outputs": []
    },
    {
      "cell_type": "markdown",
      "source": [
        "#treeregression"
      ],
      "metadata": {
        "id": "p3SFKAZGawfF"
      }
    },
    {
      "cell_type": "code",
      "source": [
        "X=data[['Sex','Weight','Height','BMI','SMM','Fat Mass','% Body fat','abdominal circumference','waist to hip radio','Systolic','Diastolic','HeartRate'\n",
        "              ,'visceral fat area','Cholesterol','Triglyceride','HDL-C','LDL','homocysteine','TP1','ALB1','TBIL','DBIL','Alkaline Phos','ALT','AST','GGT','Glucose','HbA1c'\n",
        "              ,'AMY7','BUN','Creatinine','LD-P','Uric Acid','CK']]\n",
        "y=data['telomere length (kb)']\n",
        "Tree = ExtraTreesRegressor()\n",
        "Tree = Tree.fit(X,y)\n",
        "Tree.feature_importances_\n",
        "Tree_im=pd.DataFrame(Tree.feature_importances_,index=X.columns)\n",
        "datat=Tree_im"
      ],
      "metadata": {
        "id": "XAyjGnGNIgcb"
      },
      "execution_count": null,
      "outputs": []
    },
    {
      "cell_type": "code",
      "source": [
        "X=A1[['Sex','Weight','Height','BMI','SMM','Fat Mass','% Body fat','abdominal circumference','waist to hip radio','Systolic','Diastolic','HeartRate'\n",
        "              ,'visceral fat area','Cholesterol','Triglyceride','HDL-C','LDL','homocysteine','TP1','ALB1','TBIL','DBIL','Alkaline Phos','ALT','AST','GGT','Glucose','HbA1c'\n",
        "              ,'AMY7','BUN','Creatinine','LD-P','Uric Acid','CK']]\n",
        "y=A1['telomere length (kb)']\n",
        "Tree = ExtraTreesRegressor()\n",
        "Tree = Tree.fit(X,y)\n",
        "Tree.feature_importances_\n",
        "Tree_im=pd.DataFrame(Tree.feature_importances_,index=X.columns)\n",
        "datat=Tree_im"
      ],
      "metadata": {
        "id": "A4r2SfuXbbJQ"
      },
      "execution_count": null,
      "outputs": []
    },
    {
      "cell_type": "code",
      "source": [
        "X=A2[['Sex','Weight','Height','BMI','SMM','Fat Mass','% Body fat','abdominal circumference','waist to hip radio','Systolic','Diastolic','HeartRate'\n",
        "              ,'visceral fat area','Cholesterol','Triglyceride','HDL-C','LDL','homocysteine','TP1','ALB1','TBIL','DBIL','Alkaline Phos','ALT','AST','GGT','Glucose','HbA1c'\n",
        "              ,'AMY7','BUN','Creatinine','LD-P','Uric Acid','CK']]\n",
        "y=A2['telomere length (kb)']\n",
        "Tree = ExtraTreesRegressor()\n",
        "Tree = Tree.fit(X,y)\n",
        "Tree.feature_importances_\n",
        "Tree_im=pd.DataFrame(Tree.feature_importances_,index=X.columns)\n",
        "datat=Tree_im"
      ],
      "metadata": {
        "id": "WaEAg0j1bid_"
      },
      "execution_count": null,
      "outputs": []
    },
    {
      "cell_type": "code",
      "source": [
        "X=A3[['Sex','Weight','Height','BMI','SMM','Fat Mass','% Body fat','abdominal circumference','waist to hip radio','Systolic','Diastolic','HeartRate'\n",
        "              ,'visceral fat area','Cholesterol','Triglyceride','HDL-C','LDL','homocysteine','TP1','ALB1','TBIL','DBIL','Alkaline Phos','ALT','AST','GGT','Glucose','HbA1c'\n",
        "              ,'AMY7','BUN','Creatinine','LD-P','Uric Acid','CK']]\n",
        "y=A3['telomere length (kb)']\n",
        "Tree = ExtraTreesRegressor()\n",
        "Tree = Tree.fit(X,y)\n",
        "Tree.feature_importances_\n",
        "Tree_im=pd.DataFrame(Tree.feature_importances_,index=X.columns)\n",
        "datat=Tree_im"
      ],
      "metadata": {
        "id": "x1NClw4Scmah"
      },
      "execution_count": null,
      "outputs": []
    },
    {
      "cell_type": "code",
      "source": [
        "X=A4[['Sex','Weight','Height','BMI','SMM','Fat Mass','% Body fat','abdominal circumference','waist to hip radio','Systolic','Diastolic','HeartRate'\n",
        "              ,'visceral fat area','Cholesterol','Triglyceride','HDL-C','LDL','homocysteine','TP1','ALB1','TBIL','DBIL','Alkaline Phos','ALT','AST','GGT','Glucose','HbA1c'\n",
        "              ,'AMY7','BUN','Creatinine','LD-P','Uric Acid','CK']]\n",
        "y=A4['telomere length (kb)']\n",
        "Tree = ExtraTreesRegressor()\n",
        "Tree = Tree.fit(X,y)\n",
        "Tree.feature_importances_\n",
        "Tree_im=pd.DataFrame(Tree.feature_importances_,index=X.columns)\n",
        "datat=Tree_im"
      ],
      "metadata": {
        "id": "yIFUCCchcmai"
      },
      "execution_count": null,
      "outputs": []
    },
    {
      "cell_type": "code",
      "source": [
        "X=A5[['Sex','Weight','Height','BMI','SMM','Fat Mass','% Body fat','abdominal circumference','waist to hip radio','Systolic','Diastolic','HeartRate'\n",
        "              ,'visceral fat area','Cholesterol','Triglyceride','HDL-C','LDL','homocysteine','TP1','ALB1','TBIL','DBIL','Alkaline Phos','ALT','AST','GGT','Glucose','HbA1c'\n",
        "              ,'AMY7','BUN','Creatinine','LD-P','Uric Acid','CK']]\n",
        "y=A5['telomere length (kb)']\n",
        "Tree = ExtraTreesRegressor()\n",
        "Tree = Tree.fit(X,y)\n",
        "Tree.feature_importances_\n",
        "Tree_im=pd.DataFrame(Tree.feature_importances_,index=X.columns)\n",
        "datat=Tree_im"
      ],
      "metadata": {
        "id": "vneVW-dQc6EP"
      },
      "execution_count": null,
      "outputs": []
    },
    {
      "cell_type": "code",
      "source": [
        "X=A6[['Sex','Weight','Height','BMI','SMM','Fat Mass','% Body fat','abdominal circumference','waist to hip radio','Systolic','Diastolic','HeartRate'\n",
        "              ,'visceral fat area','Cholesterol','Triglyceride','HDL-C','LDL','homocysteine','TP1','ALB1','TBIL','DBIL','Alkaline Phos','ALT','AST','GGT','Glucose','HbA1c'\n",
        "              ,'AMY7','BUN','Creatinine','LD-P','Uric Acid','CK']]\n",
        "y=A6['telomere length (kb)']\n",
        "Tree = ExtraTreesRegressor()\n",
        "Tree = Tree.fit(X,y)\n",
        "Tree.feature_importances_\n",
        "Tree_im=pd.DataFrame(Tree.feature_importances_,index=X.columns)\n",
        "datat=Tree_im"
      ],
      "metadata": {
        "id": "wfeXJR3Dc6EP"
      },
      "execution_count": null,
      "outputs": []
    },
    {
      "cell_type": "code",
      "source": [
        "X=A7[['Sex','Weight','Height','BMI','SMM','Fat Mass','% Body fat','abdominal circumference','waist to hip radio','Systolic','Diastolic','HeartRate'\n",
        "              ,'visceral fat area','Cholesterol','Triglyceride','HDL-C','LDL','homocysteine','TP1','ALB1','TBIL','DBIL','Alkaline Phos','ALT','AST','GGT','Glucose','HbA1c'\n",
        "              ,'AMY7','BUN','Creatinine','LD-P','Uric Acid','CK']]\n",
        "y=A7['telomere length (kb)']\n",
        "Tree = ExtraTreesRegressor()\n",
        "Tree = Tree.fit(X,y)\n",
        "Tree.feature_importances_\n",
        "Tree_im=pd.DataFrame(Tree.feature_importances_,index=X.columns)\n",
        "datat=Tree_im"
      ],
      "metadata": {
        "id": "JGWaBHZ6c6EQ"
      },
      "execution_count": null,
      "outputs": []
    },
    {
      "cell_type": "code",
      "source": [
        "X=A8[['Sex','Weight','Height','BMI','SMM','Fat Mass','% Body fat','abdominal circumference','waist to hip radio','Systolic','Diastolic','HeartRate'\n",
        "              ,'visceral fat area','Cholesterol','Triglyceride','HDL-C','LDL','homocysteine','TP1','ALB1','TBIL','DBIL','Alkaline Phos','ALT','AST','GGT','Glucose','HbA1c'\n",
        "              ,'AMY7','BUN','Creatinine','LD-P','Uric Acid','CK']]\n",
        "y=A8['telomere length (kb)']\n",
        "Tree = ExtraTreesRegressor()\n",
        "Tree = Tree.fit(X,y)\n",
        "Tree.feature_importances_\n",
        "Tree_im=pd.DataFrame(Tree.feature_importances_,index=X.columns)\n",
        "datat=Tree_im"
      ],
      "metadata": {
        "id": "7Nc0Lmdec6EQ"
      },
      "execution_count": null,
      "outputs": []
    },
    {
      "cell_type": "code",
      "source": [
        "X=A9[['Sex','Weight','Height','BMI','SMM','Fat Mass','% Body fat','abdominal circumference','waist to hip radio','Systolic','Diastolic','HeartRate'\n",
        "              ,'visceral fat area','Cholesterol','Triglyceride','HDL-C','LDL','homocysteine','TP1','ALB1','TBIL','DBIL','Alkaline Phos','ALT','AST','GGT','Glucose','HbA1c'\n",
        "              ,'AMY7','BUN','Creatinine','LD-P','Uric Acid','CK']]\n",
        "y=A9['telomere length (kb)']\n",
        "Tree = ExtraTreesRegressor()\n",
        "Tree = Tree.fit(X,y)\n",
        "Tree.feature_importances_\n",
        "Tree_im=pd.DataFrame(Tree.feature_importances_,index=X.columns)\n",
        "datat=Tree_im"
      ],
      "metadata": {
        "id": "Sb7aDIB3dOcw"
      },
      "execution_count": null,
      "outputs": []
    },
    {
      "cell_type": "code",
      "source": [
        "X=A10[['Sex','Weight','Height','BMI','SMM','Fat Mass','% Body fat','abdominal circumference','waist to hip radio','Systolic','Diastolic','HeartRate'\n",
        "              ,'visceral fat area','Cholesterol','Triglyceride','HDL-C','LDL','homocysteine','TP1','ALB1','TBIL','DBIL','Alkaline Phos','ALT','AST','GGT','Glucose','HbA1c'\n",
        "              ,'AMY7','BUN','Creatinine','LD-P','Uric Acid','CK']]\n",
        "y=A10['telomere length (kb)']\n",
        "Tree = ExtraTreesRegressor()\n",
        "Tree = Tree.fit(X,y)\n",
        "Tree.feature_importances_\n",
        "Tree_im=pd.DataFrame(Tree.feature_importances_,index=X.columns)\n",
        "datat=Tree_im"
      ],
      "metadata": {
        "id": "Rk-eEscHdOcy"
      },
      "execution_count": null,
      "outputs": []
    },
    {
      "cell_type": "code",
      "source": [
        "X=A11[['Sex','Weight','Height','BMI','SMM','Fat Mass','% Body fat','abdominal circumference','waist to hip radio','Systolic','Diastolic','HeartRate'\n",
        "              ,'visceral fat area','Cholesterol','Triglyceride','HDL-C','LDL','homocysteine','TP1','ALB1','TBIL','DBIL','Alkaline Phos','ALT','AST','GGT','Glucose','HbA1c'\n",
        "              ,'AMY7','BUN','Creatinine','LD-P','Uric Acid','CK']]\n",
        "y=A11['telomere length (kb)']\n",
        "Tree = ExtraTreesRegressor()\n",
        "Tree = Tree.fit(X,y)\n",
        "Tree.feature_importances_\n",
        "Tree_im=pd.DataFrame(Tree.feature_importances_,index=X.columns)\n",
        "datat=Tree_im"
      ],
      "metadata": {
        "id": "_3M1SGhQdOcy"
      },
      "execution_count": null,
      "outputs": []
    },
    {
      "cell_type": "code",
      "source": [
        "X=A12[['Sex','Weight','Height','BMI','SMM','Fat Mass','% Body fat','abdominal circumference','waist to hip radio','Systolic','Diastolic','HeartRate'\n",
        "              ,'visceral fat area','Cholesterol','Triglyceride','HDL-C','LDL','homocysteine','TP1','ALB1','TBIL','DBIL','Alkaline Phos','ALT','AST','GGT','Glucose','HbA1c'\n",
        "              ,'AMY7','BUN','Creatinine','LD-P','Uric Acid','CK']]\n",
        "y=A12['telomere length (kb)']\n",
        "Tree = ExtraTreesRegressor()\n",
        "Tree = Tree.fit(X,y)\n",
        "Tree.feature_importances_\n",
        "Tree_im=pd.DataFrame(Tree.feature_importances_,index=X.columns)\n",
        "datat=Tree_im"
      ],
      "metadata": {
        "id": "tuIze6w3dOcz"
      },
      "execution_count": null,
      "outputs": []
    },
    {
      "cell_type": "code",
      "source": [
        "X=A13[['Sex','Weight','Height','BMI','SMM','Fat Mass','% Body fat','abdominal circumference','waist to hip radio','Systolic','Diastolic','HeartRate'\n",
        "              ,'visceral fat area','Cholesterol','Triglyceride','HDL-C','LDL','homocysteine','TP1','ALB1','TBIL','DBIL','Alkaline Phos','ALT','AST','GGT','Glucose','HbA1c'\n",
        "              ,'AMY7','BUN','Creatinine','LD-P','Uric Acid','CK']]\n",
        "y=A13['telomere length (kb)']\n",
        "Tree = ExtraTreesRegressor()\n",
        "Tree = Tree.fit(X,y)\n",
        "Tree.feature_importances_\n",
        "Tree_im=pd.DataFrame(Tree.feature_importances_,index=X.columns)\n",
        "datat=Tree_im"
      ],
      "metadata": {
        "id": "yCJFTluAdOcz"
      },
      "execution_count": null,
      "outputs": []
    },
    {
      "cell_type": "code",
      "source": [
        "X=A14[['Sex','Weight','Height','BMI','SMM','Fat Mass','% Body fat','abdominal circumference','waist to hip radio','Systolic','Diastolic','HeartRate'\n",
        "              ,'visceral fat area','Cholesterol','Triglyceride','HDL-C','LDL','homocysteine','TP1','ALB1','TBIL','DBIL','Alkaline Phos','ALT','AST','GGT','Glucose','HbA1c'\n",
        "              ,'AMY7','BUN','Creatinine','LD-P','Uric Acid','CK']]\n",
        "y=A14['telomere length (kb)']\n",
        "Tree = ExtraTreesRegressor()\n",
        "Tree = Tree.fit(X,y)\n",
        "Tree.feature_importances_\n",
        "Tree_im=pd.DataFrame(Tree.feature_importances_,index=X.columns)\n",
        "datat=Tree_im"
      ],
      "metadata": {
        "id": "l5FzZllLdOcz"
      },
      "execution_count": null,
      "outputs": []
    },
    {
      "cell_type": "code",
      "source": [
        "X=A15[['Sex','Weight','Height','BMI','SMM','Fat Mass','% Body fat','abdominal circumference','waist to hip radio','Systolic','Diastolic','HeartRate'\n",
        "              ,'visceral fat area','Cholesterol','Triglyceride','HDL-C','LDL','homocysteine','TP1','ALB1','TBIL','DBIL','Alkaline Phos','ALT','AST','GGT','Glucose','HbA1c'\n",
        "              ,'AMY7','BUN','Creatinine','LD-P','Uric Acid','CK']]\n",
        "y=A15['telomere length (kb)']\n",
        "Tree = ExtraTreesRegressor()\n",
        "Tree = Tree.fit(X,y)\n",
        "Tree.feature_importances_\n",
        "Tree_im=pd.DataFrame(Tree.feature_importances_,index=X.columns)\n",
        "datat=Tree_im"
      ],
      "metadata": {
        "id": "RMnYS7q3dOcz"
      },
      "execution_count": null,
      "outputs": []
    },
    {
      "cell_type": "code",
      "source": [
        "X=A16[['Sex','Weight','Height','BMI','SMM','Fat Mass','% Body fat','abdominal circumference','waist to hip radio','Systolic','Diastolic','HeartRate'\n",
        "              ,'visceral fat area','Cholesterol','Triglyceride','HDL-C','LDL','homocysteine','TP1','ALB1','TBIL','DBIL','Alkaline Phos','ALT','AST','GGT','Glucose','HbA1c'\n",
        "              ,'AMY7','BUN','Creatinine','LD-P','Uric Acid','CK']]\n",
        "y=A16['telomere length (kb)']\n",
        "Tree = ExtraTreesRegressor()\n",
        "Tree = Tree.fit(X,y)\n",
        "Tree.feature_importances_\n",
        "Tree_im=pd.DataFrame(Tree.feature_importances_,index=X.columns)\n",
        "datat=Tree_im"
      ],
      "metadata": {
        "id": "RXy81gNVdOcz"
      },
      "execution_count": null,
      "outputs": []
    },
    {
      "cell_type": "code",
      "source": [
        "X=A17[['Sex','Weight','Height','BMI','SMM','Fat Mass','% Body fat','abdominal circumference','waist to hip radio','Systolic','Diastolic','HeartRate'\n",
        "              ,'visceral fat area','Cholesterol','Triglyceride','HDL-C','LDL','homocysteine','TP1','ALB1','TBIL','DBIL','Alkaline Phos','ALT','AST','GGT','Glucose','HbA1c'\n",
        "              ,'AMY7','BUN','Creatinine','LD-P','Uric Acid','CK']]\n",
        "y=A17['telomere length (kb)']\n",
        "Tree = ExtraTreesRegressor()\n",
        "Tree = Tree.fit(X,y)\n",
        "Tree.feature_importances_\n",
        "Tree_im=pd.DataFrame(Tree.feature_importances_,index=X.columns)\n",
        "datat=Tree_im"
      ],
      "metadata": {
        "id": "ZBDxh1SFddqL"
      },
      "execution_count": null,
      "outputs": []
    },
    {
      "cell_type": "code",
      "source": [
        "X=A18[['Sex','Weight','Height','BMI','SMM','Fat Mass','% Body fat','abdominal circumference','waist to hip radio','Systolic','Diastolic','HeartRate'\n",
        "              ,'visceral fat area','Cholesterol','Triglyceride','HDL-C','LDL','homocysteine','TP1','ALB1','TBIL','DBIL','Alkaline Phos','ALT','AST','GGT','Glucose','HbA1c'\n",
        "              ,'AMY7','BUN','Creatinine','LD-P','Uric Acid','CK']]\n",
        "y=A18['telomere length (kb)']\n",
        "Tree = ExtraTreesRegressor()\n",
        "Tree = Tree.fit(X,y)\n",
        "Tree.feature_importances_\n",
        "Tree_im=pd.DataFrame(Tree.feature_importances_,index=X.columns)\n",
        "datat=Tree_im"
      ],
      "metadata": {
        "id": "ssW5Ot95ddqN"
      },
      "execution_count": null,
      "outputs": []
    },
    {
      "cell_type": "code",
      "source": [
        "X=A19[['Sex','Weight','Height','BMI','SMM','Fat Mass','% Body fat','abdominal circumference','waist to hip radio','Systolic','Diastolic','HeartRate'\n",
        "              ,'visceral fat area','Cholesterol','Triglyceride','HDL-C','LDL','homocysteine','TP1','ALB1','TBIL','DBIL','Alkaline Phos','ALT','AST','GGT','Glucose','HbA1c'\n",
        "              ,'AMY7','BUN','Creatinine','LD-P','Uric Acid','CK']]\n",
        "y=A19['telomere length (kb)']\n",
        "Tree = ExtraTreesRegressor()\n",
        "Tree = Tree.fit(X,y)\n",
        "Tree.feature_importances_\n",
        "Tree_im=pd.DataFrame(Tree.feature_importances_,index=X.columns)\n",
        "datat=Tree_im"
      ],
      "metadata": {
        "id": "Dahh87olddqN"
      },
      "execution_count": null,
      "outputs": []
    },
    {
      "cell_type": "code",
      "source": [
        "X=A20[['Sex','Weight','Height','BMI','SMM','Fat Mass','% Body fat','abdominal circumference','waist to hip radio','Systolic','Diastolic','HeartRate'\n",
        "              ,'visceral fat area','Cholesterol','Triglyceride','HDL-C','LDL','homocysteine','TP1','ALB1','TBIL','DBIL','Alkaline Phos','ALT','AST','GGT','Glucose','HbA1c'\n",
        "              ,'AMY7','BUN','Creatinine','LD-P','Uric Acid','CK']]\n",
        "y=A20['telomere length (kb)']\n",
        "Tree = ExtraTreesRegressor()\n",
        "Tree = Tree.fit(X,y)\n",
        "Tree.feature_importances_\n",
        "Tree_im=pd.DataFrame(Tree.feature_importances_,index=X.columns)\n",
        "datat=Tree_im"
      ],
      "metadata": {
        "id": "WSytQUWIddqN"
      },
      "execution_count": null,
      "outputs": []
    },
    {
      "cell_type": "code",
      "source": [
        "X=A21[['Sex','Weight','Height','BMI','SMM','Fat Mass','% Body fat','abdominal circumference','waist to hip radio','Systolic','Diastolic','HeartRate'\n",
        "              ,'visceral fat area','Cholesterol','Triglyceride','HDL-C','LDL','homocysteine','TP1','ALB1','TBIL','DBIL','Alkaline Phos','ALT','AST','GGT','Glucose','HbA1c'\n",
        "              ,'AMY7','BUN','Creatinine','LD-P','Uric Acid','CK']]\n",
        "y=A21['telomere length (kb)']\n",
        "Tree = ExtraTreesRegressor()\n",
        "Tree = Tree.fit(X,y)\n",
        "Tree.feature_importances_\n",
        "Tree_im=pd.DataFrame(Tree.feature_importances_,index=X.columns)\n",
        "datat=Tree_im"
      ],
      "metadata": {
        "id": "T9UbcGqaddqN"
      },
      "execution_count": null,
      "outputs": []
    },
    {
      "cell_type": "code",
      "source": [
        "X=A22[['Sex','Weight','Height','BMI','SMM','Fat Mass','% Body fat','abdominal circumference','waist to hip radio','Systolic','Diastolic','HeartRate'\n",
        "              ,'visceral fat area','Cholesterol','Triglyceride','HDL-C','LDL','homocysteine','TP1','ALB1','TBIL','DBIL','Alkaline Phos','ALT','AST','GGT','Glucose','HbA1c'\n",
        "              ,'AMY7','BUN','Creatinine','LD-P','Uric Acid','CK']]\n",
        "y=A22['telomere length (kb)']\n",
        "Tree = ExtraTreesRegressor()\n",
        "Tree = Tree.fit(X,y)\n",
        "Tree.feature_importances_\n",
        "Tree_im=pd.DataFrame(Tree.feature_importances_,index=X.columns)\n",
        "datat=Tree_im"
      ],
      "metadata": {
        "id": "QTlro1ZQddqO"
      },
      "execution_count": null,
      "outputs": []
    },
    {
      "cell_type": "code",
      "source": [
        "X=A23[['Sex','Weight','Height','BMI','SMM','Fat Mass','% Body fat','abdominal circumference','waist to hip radio','Systolic','Diastolic','HeartRate'\n",
        "              ,'visceral fat area','Cholesterol','Triglyceride','HDL-C','LDL','homocysteine','TP1','ALB1','TBIL','DBIL','Alkaline Phos','ALT','AST','GGT','Glucose','HbA1c'\n",
        "              ,'AMY7','BUN','Creatinine','LD-P','Uric Acid','CK']]\n",
        "y=A23['telomere length (kb)']\n",
        "Tree = ExtraTreesRegressor()\n",
        "Tree = Tree.fit(X,y)\n",
        "Tree.feature_importances_\n",
        "Tree_im=pd.DataFrame(Tree.feature_importances_,index=X.columns)\n",
        "datat=Tree_im"
      ],
      "metadata": {
        "id": "qRBbqfCfddqO"
      },
      "execution_count": null,
      "outputs": []
    },
    {
      "cell_type": "code",
      "source": [
        "X=A24[['Sex','Weight','Height','BMI','SMM','Fat Mass','% Body fat','abdominal circumference','waist to hip radio','Systolic','Diastolic','HeartRate'\n",
        "              ,'visceral fat area','Cholesterol','Triglyceride','HDL-C','LDL','homocysteine','TP1','ALB1','TBIL','DBIL','Alkaline Phos','ALT','AST','GGT','Glucose','HbA1c'\n",
        "              ,'AMY7','BUN','Creatinine','LD-P','Uric Acid','CK']]\n",
        "y=A24['telomere length (kb)']\n",
        "Tree = ExtraTreesRegressor()\n",
        "Tree = Tree.fit(X,y)\n",
        "Tree.feature_importances_\n",
        "Tree_im=pd.DataFrame(Tree.feature_importances_,index=X.columns)\n",
        "datat=Tree_im"
      ],
      "metadata": {
        "id": "2j2hE_tHddqO"
      },
      "execution_count": null,
      "outputs": []
    },
    {
      "cell_type": "code",
      "source": [
        "X=A25[['Sex','Weight','Height','BMI','SMM','Fat Mass','% Body fat','abdominal circumference','waist to hip radio','Systolic','Diastolic','HeartRate'\n",
        "              ,'visceral fat area','Cholesterol','Triglyceride','HDL-C','LDL','homocysteine','TP1','ALB1','TBIL','DBIL','Alkaline Phos','ALT','AST','GGT','Glucose','HbA1c'\n",
        "              ,'AMY7','BUN','Creatinine','LD-P','Uric Acid','CK']]\n",
        "y=A25['telomere length (kb)']\n",
        "Tree = ExtraTreesRegressor()\n",
        "Tree = Tree.fit(X,y)\n",
        "Tree.feature_importances_\n",
        "Tree_im=pd.DataFrame(Tree.feature_importances_,index=X.columns)\n",
        "datat=Tree_im"
      ],
      "metadata": {
        "id": "O7aybjqadv4r"
      },
      "execution_count": null,
      "outputs": []
    },
    {
      "cell_type": "code",
      "source": [
        "X=A26[['Sex','Weight','Height','BMI','SMM','Fat Mass','% Body fat','abdominal circumference','waist to hip radio','Systolic','Diastolic','HeartRate'\n",
        "              ,'visceral fat area','Cholesterol','Triglyceride','HDL-C','LDL','homocysteine','TP1','ALB1','TBIL','DBIL','Alkaline Phos','ALT','AST','GGT','Glucose','HbA1c'\n",
        "              ,'AMY7','BUN','Creatinine','LD-P','Uric Acid','CK']]\n",
        "y=A26['telomere length (kb)']\n",
        "Tree = ExtraTreesRegressor()\n",
        "Tree = Tree.fit(X,y)\n",
        "Tree.feature_importances_\n",
        "Tree_im=pd.DataFrame(Tree.feature_importances_,index=X.columns)\n",
        "datat=Tree_im"
      ],
      "metadata": {
        "id": "t4v3wS9Tdv4s"
      },
      "execution_count": null,
      "outputs": []
    },
    {
      "cell_type": "code",
      "source": [
        "X=A27[['Sex','Weight','Height','BMI','SMM','Fat Mass','% Body fat','abdominal circumference','waist to hip radio','Systolic','Diastolic','HeartRate'\n",
        "              ,'visceral fat area','Cholesterol','Triglyceride','HDL-C','LDL','homocysteine','TP1','ALB1','TBIL','DBIL','Alkaline Phos','ALT','AST','GGT','Glucose','HbA1c'\n",
        "              ,'AMY7','BUN','Creatinine','LD-P','Uric Acid','CK']]\n",
        "y=A27['telomere length (kb)']\n",
        "Tree = ExtraTreesRegressor()\n",
        "Tree = Tree.fit(X,y)\n",
        "Tree.feature_importances_\n",
        "Tree_im=pd.DataFrame(Tree.feature_importances_,index=X.columns)\n",
        "datat=Tree_im"
      ],
      "metadata": {
        "id": "BoeZu4XOdv4t"
      },
      "execution_count": null,
      "outputs": []
    },
    {
      "cell_type": "code",
      "source": [
        "X=A28[['Sex','Weight','Height','BMI','SMM','Fat Mass','% Body fat','abdominal circumference','waist to hip radio','Systolic','Diastolic','HeartRate'\n",
        "              ,'visceral fat area','Cholesterol','Triglyceride','HDL-C','LDL','homocysteine','TP1','ALB1','TBIL','DBIL','Alkaline Phos','ALT','AST','GGT','Glucose','HbA1c'\n",
        "              ,'AMY7','BUN','Creatinine','LD-P','Uric Acid','CK']]\n",
        "y=A28['telomere length (kb)']\n",
        "Tree = ExtraTreesRegressor()\n",
        "Tree = Tree.fit(X,y)\n",
        "Tree.feature_importances_\n",
        "Tree_im=pd.DataFrame(Tree.feature_importances_,index=X.columns)\n",
        "datat=Tree_im"
      ],
      "metadata": {
        "id": "sqgEg-EKdv4t"
      },
      "execution_count": null,
      "outputs": []
    },
    {
      "cell_type": "code",
      "source": [
        "X=A29[['Sex','Weight','Height','BMI','SMM','Fat Mass','% Body fat','abdominal circumference','waist to hip radio','Systolic','Diastolic','HeartRate'\n",
        "              ,'visceral fat area','Cholesterol','Triglyceride','HDL-C','LDL','homocysteine','TP1','ALB1','TBIL','DBIL','Alkaline Phos','ALT','AST','GGT','Glucose','HbA1c'\n",
        "              ,'AMY7','BUN','Creatinine','LD-P','Uric Acid','CK']]\n",
        "y=A29['telomere length (kb)']\n",
        "Tree = ExtraTreesRegressor()\n",
        "Tree = Tree.fit(X,y)\n",
        "Tree.feature_importances_\n",
        "Tree_im=pd.DataFrame(Tree.feature_importances_,index=X.columns)\n",
        "datat=Tree_im"
      ],
      "metadata": {
        "id": "H8c8rSyBdv4u"
      },
      "execution_count": null,
      "outputs": []
    },
    {
      "cell_type": "code",
      "source": [
        "X=A30[['Sex','Weight','Height','BMI','SMM','Fat Mass','% Body fat','abdominal circumference','waist to hip radio','Systolic','Diastolic','HeartRate'\n",
        "              ,'visceral fat area','Cholesterol','Triglyceride','HDL-C','LDL','homocysteine','TP1','ALB1','TBIL','DBIL','Alkaline Phos','ALT','AST','GGT','Glucose','HbA1c'\n",
        "              ,'AMY7','BUN','Creatinine','LD-P','Uric Acid','CK']]\n",
        "y=A30['telomere length (kb)']\n",
        "Tree = ExtraTreesRegressor()\n",
        "Tree = Tree.fit(X,y)\n",
        "Tree.feature_importances_\n",
        "Tree_im=pd.DataFrame(Tree.feature_importances_,index=X.columns)\n",
        "datat=Tree_im"
      ],
      "metadata": {
        "id": "eKk5runwdv4u"
      },
      "execution_count": null,
      "outputs": []
    },
    {
      "cell_type": "code",
      "source": [
        "X=A31[['Sex','Weight','Height','BMI','SMM','Fat Mass','% Body fat','abdominal circumference','waist to hip radio','Systolic','Diastolic','HeartRate'\n",
        "              ,'visceral fat area','Cholesterol','Triglyceride','HDL-C','LDL','homocysteine','TP1','ALB1','TBIL','DBIL','Alkaline Phos','ALT','AST','GGT','Glucose','HbA1c'\n",
        "              ,'AMY7','BUN','Creatinine','LD-P','Uric Acid','CK']]\n",
        "y=A31['telomere length (kb)']\n",
        "Tree = ExtraTreesRegressor()\n",
        "Tree = Tree.fit(X,y)\n",
        "Tree.feature_importances_\n",
        "Tree_im=pd.DataFrame(Tree.feature_importances_,index=X.columns)\n",
        "datat=Tree_im"
      ],
      "metadata": {
        "id": "jh5iqguddv4u"
      },
      "execution_count": null,
      "outputs": []
    },
    {
      "cell_type": "code",
      "source": [
        "X=A32[['Sex','Weight','Height','BMI','SMM','Fat Mass','% Body fat','abdominal circumference','waist to hip radio','Systolic','Diastolic','HeartRate'\n",
        "              ,'visceral fat area','Cholesterol','Triglyceride','HDL-C','LDL','homocysteine','TP1','ALB1','TBIL','DBIL','Alkaline Phos','ALT','AST','GGT','Glucose','HbA1c'\n",
        "              ,'AMY7','BUN','Creatinine','LD-P','Uric Acid','CK']]\n",
        "y=A32['telomere length (kb)']\n",
        "Tree = ExtraTreesRegressor()\n",
        "Tree = Tree.fit(X,y)\n",
        "Tree.feature_importances_\n",
        "Tree_im=pd.DataFrame(Tree.feature_importances_,index=X.columns)\n",
        "datat=Tree_im"
      ],
      "metadata": {
        "id": "_AeP3My6dv4v"
      },
      "execution_count": null,
      "outputs": []
    },
    {
      "cell_type": "code",
      "source": [
        "X=A33[['Sex','Weight','Height','BMI','SMM','Fat Mass','% Body fat','abdominal circumference','waist to hip radio','Systolic','Diastolic','HeartRate'\n",
        "              ,'visceral fat area','Cholesterol','Triglyceride','HDL-C','LDL','homocysteine','TP1','ALB1','TBIL','DBIL','Alkaline Phos','ALT','AST','GGT','Glucose','HbA1c'\n",
        "              ,'AMY7','BUN','Creatinine','LD-P','Uric Acid','CK']]\n",
        "y=A33['telomere length (kb)']\n",
        "Tree = ExtraTreesRegressor()\n",
        "Tree = Tree.fit(X,y)\n",
        "Tree.feature_importances_\n",
        "Tree_im=pd.DataFrame(Tree.feature_importances_,index=X.columns)\n",
        "datat=Tree_im"
      ],
      "metadata": {
        "id": "mLvZAOrBeDgG"
      },
      "execution_count": null,
      "outputs": []
    },
    {
      "cell_type": "code",
      "source": [
        "X=A34[['Sex','Weight','Height','BMI','SMM','Fat Mass','% Body fat','abdominal circumference','waist to hip radio','Systolic','Diastolic','HeartRate'\n",
        "              ,'visceral fat area','Cholesterol','Triglyceride','HDL-C','LDL','homocysteine','TP1','ALB1','TBIL','DBIL','Alkaline Phos','ALT','AST','GGT','Glucose','HbA1c'\n",
        "              ,'AMY7','BUN','Creatinine','LD-P','Uric Acid','CK']]\n",
        "y=A34['telomere length (kb)']\n",
        "Tree = ExtraTreesRegressor()\n",
        "Tree = Tree.fit(X,y)\n",
        "Tree.feature_importances_\n",
        "Tree_im=pd.DataFrame(Tree.feature_importances_,index=X.columns)\n",
        "datat=Tree_im"
      ],
      "metadata": {
        "id": "-juHPpV4eDgH"
      },
      "execution_count": null,
      "outputs": []
    },
    {
      "cell_type": "code",
      "source": [
        "X=A35[['Sex','Weight','Height','BMI','SMM','Fat Mass','% Body fat','abdominal circumference','waist to hip radio','Systolic','Diastolic','HeartRate'\n",
        "              ,'visceral fat area','Cholesterol','Triglyceride','HDL-C','LDL','homocysteine','TP1','ALB1','TBIL','DBIL','Alkaline Phos','ALT','AST','GGT','Glucose','HbA1c'\n",
        "              ,'AMY7','BUN','Creatinine','LD-P','Uric Acid','CK']]\n",
        "y=A35['telomere length (kb)']\n",
        "Tree = ExtraTreesRegressor()\n",
        "Tree = Tree.fit(X,y)\n",
        "Tree.feature_importances_\n",
        "Tree_im=pd.DataFrame(Tree.feature_importances_,index=X.columns)\n",
        "datat=Tree_im"
      ],
      "metadata": {
        "id": "VjS3iTFoeDgH"
      },
      "execution_count": null,
      "outputs": []
    },
    {
      "cell_type": "code",
      "source": [
        "X=A36[['Sex','Weight','Height','BMI','SMM','Fat Mass','% Body fat','abdominal circumference','waist to hip radio','Systolic','Diastolic','HeartRate'\n",
        "              ,'visceral fat area','Cholesterol','Triglyceride','HDL-C','LDL','homocysteine','TP1','ALB1','TBIL','DBIL','Alkaline Phos','ALT','AST','GGT','Glucose','HbA1c'\n",
        "              ,'AMY7','BUN','Creatinine','LD-P','Uric Acid','CK']]\n",
        "y=A36['telomere length (kb)']\n",
        "Tree = ExtraTreesRegressor()\n",
        "Tree = Tree.fit(X,y)\n",
        "Tree.feature_importances_\n",
        "Tree_im=pd.DataFrame(Tree.feature_importances_,index=X.columns)\n",
        "datat=Tree_im"
      ],
      "metadata": {
        "id": "bi1dgRuCeDgH"
      },
      "execution_count": null,
      "outputs": []
    },
    {
      "cell_type": "code",
      "source": [
        "X=A5[['Sex','Weight','Height','BMI','SMM','Fat Mass','% Body fat','abdominal circumference','waist to hip radio','Systolic','Diastolic','HeartRate'\n",
        "              ,'visceral fat area','Cholesterol','Triglyceride','HDL-C','LDL','homocysteine','TP1','ALB1','TBIL','DBIL','Alkaline Phos','ALT','AST','GGT','Glucose','HbA1c'\n",
        "              ,'AMY7','BUN','Creatinine','LD-P','Uric Acid','CK']]\n",
        "y=A5['telomere length (kb)']\n",
        "Tree = ExtraTreesRegressor()\n",
        "Tree = Tree.fit(X,y)\n",
        "Tree.feature_importances_\n",
        "Tree_im=pd.DataFrame(Tree.feature_importances_,index=X.columns)\n",
        "datat=Tree_im"
      ],
      "metadata": {
        "id": "SVM31d7UeDgI"
      },
      "execution_count": null,
      "outputs": []
    },
    {
      "cell_type": "code",
      "source": [
        "X=A6[['Sex','Weight','Height','BMI','SMM','Fat Mass','% Body fat','abdominal circumference','waist to hip radio','Systolic','Diastolic','HeartRate'\n",
        "              ,'visceral fat area','Cholesterol','Triglyceride','HDL-C','LDL','homocysteine','TP1','ALB1','TBIL','DBIL','Alkaline Phos','ALT','AST','GGT','Glucose','HbA1c'\n",
        "              ,'AMY7','BUN','Creatinine','LD-P','Uric Acid','CK']]\n",
        "y=A6['telomere length (kb)']\n",
        "Tree = ExtraTreesRegressor()\n",
        "Tree = Tree.fit(X,y)\n",
        "Tree.feature_importances_\n",
        "Tree_im=pd.DataFrame(Tree.feature_importances_,index=X.columns)\n",
        "datat=Tree_im"
      ],
      "metadata": {
        "id": "zxajg5KseDgI"
      },
      "execution_count": null,
      "outputs": []
    },
    {
      "cell_type": "code",
      "source": [
        "X=A7[['Sex','Weight','Height','BMI','SMM','Fat Mass','% Body fat','abdominal circumference','waist to hip radio','Systolic','Diastolic','HeartRate'\n",
        "              ,'visceral fat area','Cholesterol','Triglyceride','HDL-C','LDL','homocysteine','TP1','ALB1','TBIL','DBIL','Alkaline Phos','ALT','AST','GGT','Glucose','HbA1c'\n",
        "              ,'AMY7','BUN','Creatinine','LD-P','Uric Acid','CK']]\n",
        "y=A7['telomere length (kb)']\n",
        "Tree = ExtraTreesRegressor()\n",
        "Tree = Tree.fit(X,y)\n",
        "Tree.feature_importances_\n",
        "Tree_im=pd.DataFrame(Tree.feature_importances_,index=X.columns)\n",
        "datat=Tree_im"
      ],
      "metadata": {
        "id": "9THphyGieDgI"
      },
      "execution_count": null,
      "outputs": []
    },
    {
      "cell_type": "code",
      "source": [
        "X=A8[['Sex','Weight','Height','BMI','SMM','Fat Mass','% Body fat','abdominal circumference','waist to hip radio','Systolic','Diastolic','HeartRate'\n",
        "              ,'visceral fat area','Cholesterol','Triglyceride','HDL-C','LDL','homocysteine','TP1','ALB1','TBIL','DBIL','Alkaline Phos','ALT','AST','GGT','Glucose','HbA1c'\n",
        "              ,'AMY7','BUN','Creatinine','LD-P','Uric Acid','CK']]\n",
        "y=A8['telomere length (kb)']\n",
        "Tree = ExtraTreesRegressor()\n",
        "Tree = Tree.fit(X,y)\n",
        "Tree.feature_importances_\n",
        "Tree_im=pd.DataFrame(Tree.feature_importances_,index=X.columns)\n",
        "datat=Tree_im"
      ],
      "metadata": {
        "id": "_2oR8iR8eDgI"
      },
      "execution_count": null,
      "outputs": []
    }
  ]
}