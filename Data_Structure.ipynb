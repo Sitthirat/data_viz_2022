{
  "nbformat": 4,
  "nbformat_minor": 0,
  "metadata": {
    "colab": {
      "name": "Data Structure.ipynb",
      "provenance": [],
      "toc_visible": true,
      "include_colab_link": true
    },
    "kernelspec": {
      "name": "python3",
      "display_name": "Python 3"
    },
    "language_info": {
      "name": "python"
    }
  },
  "cells": [
    {
      "cell_type": "markdown",
      "metadata": {
        "id": "view-in-github",
        "colab_type": "text"
      },
      "source": [
        "<a href=\"https://colab.research.google.com/github/Sitthirat/data_viz_2022/blob/main/Data_Structure.ipynb\" target=\"_parent\"><img src=\"https://colab.research.google.com/assets/colab-badge.svg\" alt=\"Open In Colab\"/></a>"
      ]
    },
    {
      "cell_type": "markdown",
      "source": [
        "# Data Structure (โครงสร้างข้อมูล)\n",
        "การเก็บข้อมูลหลายๆตัวไว้ด้วยกันอย่างเป็นระเบียบ"
      ],
      "metadata": {
        "id": "meZ01kKJ5yWp"
      }
    },
    {
      "cell_type": "markdown",
      "source": [
        "## `list()`\n",
        "\n",
        "- เก็บอะไรก็ได้\n",
        "- ลำดับในการเก็บ มีความสำคัญ"
      ],
      "metadata": {
        "id": "XxqeLfM66T2j"
      }
    },
    {
      "cell_type": "code",
      "execution_count": null,
      "metadata": {
        "id": "yf-UNrB54o-F"
      },
      "outputs": [],
      "source": [
        "list_a = [1,2,3,4,5,6]  #[ ] square brackets"
      ]
    },
    {
      "cell_type": "code",
      "source": [
        "list_a"
      ],
      "metadata": {
        "colab": {
          "base_uri": "https://localhost:8080/"
        },
        "id": "UJp3tkVg6hVD",
        "outputId": "2a37e009-aace-4b1a-a2ce-2333b327d98f"
      },
      "execution_count": null,
      "outputs": [
        {
          "output_type": "execute_result",
          "data": {
            "text/plain": [
              "[1, 2, 3, 4, 5, 6]"
            ]
          },
          "metadata": {},
          "execution_count": 2
        }
      ]
    },
    {
      "cell_type": "code",
      "source": [
        "list_b = ['ab',2,3.14,list_a]"
      ],
      "metadata": {
        "id": "skY-bxHb6kra"
      },
      "execution_count": null,
      "outputs": []
    },
    {
      "cell_type": "code",
      "source": [
        "list_b"
      ],
      "metadata": {
        "colab": {
          "base_uri": "https://localhost:8080/"
        },
        "id": "m41ZwUdE7BCC",
        "outputId": "f178fd26-a256-460a-fa46-a907bb90865f"
      },
      "execution_count": null,
      "outputs": [
        {
          "output_type": "execute_result",
          "data": {
            "text/plain": [
              "['ab', 2, 3.14, [1, 2, 3, 4, 5, 6]]"
            ]
          },
          "metadata": {},
          "execution_count": 4
        }
      ]
    },
    {
      "cell_type": "markdown",
      "source": [
        "### indexing การชี้สมาชิกใน list ด้วย เลขลำดับของ list"
      ],
      "metadata": {
        "id": "tGNRAgPr8JbC"
      }
    },
    {
      "cell_type": "code",
      "source": [
        "list_a[3]"
      ],
      "metadata": {
        "colab": {
          "base_uri": "https://localhost:8080/"
        },
        "id": "6jMoA1iA7CIB",
        "outputId": "bf01d0d9-d322-401f-bb99-784690ce6139"
      },
      "execution_count": null,
      "outputs": [
        {
          "output_type": "execute_result",
          "data": {
            "text/plain": [
              "4"
            ]
          },
          "metadata": {},
          "execution_count": 5
        }
      ]
    },
    {
      "cell_type": "code",
      "source": [
        "list_b[3]"
      ],
      "metadata": {
        "colab": {
          "base_uri": "https://localhost:8080/"
        },
        "id": "ZdT8UeA47f0q",
        "outputId": "c47c8268-2424-412b-e0c0-81918813c286"
      },
      "execution_count": null,
      "outputs": [
        {
          "output_type": "execute_result",
          "data": {
            "text/plain": [
              "[1, 2, 3, 4, 5, 6]"
            ]
          },
          "metadata": {},
          "execution_count": 6
        }
      ]
    },
    {
      "cell_type": "code",
      "source": [
        "list_b[3][4]"
      ],
      "metadata": {
        "colab": {
          "base_uri": "https://localhost:8080/"
        },
        "id": "OKt7jZGY7fxp",
        "outputId": "141d5fb9-3a61-47de-fd94-1596d559ad11"
      },
      "execution_count": null,
      "outputs": [
        {
          "output_type": "execute_result",
          "data": {
            "text/plain": [
              "5"
            ]
          },
          "metadata": {},
          "execution_count": 7
        }
      ]
    },
    {
      "cell_type": "code",
      "source": [
        "list_a[6]"
      ],
      "metadata": {
        "colab": {
          "base_uri": "https://localhost:8080/",
          "height": 188
        },
        "id": "LwT0AkhL7fuu",
        "outputId": "b402e321-b0c7-4221-ed0e-f501d6242d3e"
      },
      "execution_count": null,
      "outputs": [
        {
          "output_type": "error",
          "ename": "IndexError",
          "evalue": "ignored",
          "traceback": [
            "\u001b[0;31m---------------------------------------------------------------------------\u001b[0m",
            "\u001b[0;31mIndexError\u001b[0m                                Traceback (most recent call last)",
            "\u001b[0;32m<ipython-input-8-d6b61775e813>\u001b[0m in \u001b[0;36m<module>\u001b[0;34m()\u001b[0m\n\u001b[0;32m----> 1\u001b[0;31m \u001b[0mlist_a\u001b[0m\u001b[0;34m[\u001b[0m\u001b[0;36m6\u001b[0m\u001b[0;34m]\u001b[0m\u001b[0;34m\u001b[0m\u001b[0;34m\u001b[0m\u001b[0m\n\u001b[0m",
            "\u001b[0;31mIndexError\u001b[0m: list index out of range"
          ]
        }
      ]
    },
    {
      "cell_type": "code",
      "source": [
        "list_a[-1] #index -1 คือตัวสุดท้ายของ list"
      ],
      "metadata": {
        "colab": {
          "base_uri": "https://localhost:8080/"
        },
        "id": "izhMdzfb7fsP",
        "outputId": "7e682b31-e969-4cb9-895b-a17aafbd7ea9"
      },
      "execution_count": null,
      "outputs": [
        {
          "output_type": "execute_result",
          "data": {
            "text/plain": [
              "6"
            ]
          },
          "metadata": {},
          "execution_count": 9
        }
      ]
    },
    {
      "cell_type": "code",
      "source": [
        "list_a[-4]"
      ],
      "metadata": {
        "colab": {
          "base_uri": "https://localhost:8080/"
        },
        "id": "6fk3ge729A_5",
        "outputId": "bd35b7c1-0931-462b-bcd1-b4e99a8301a0"
      },
      "execution_count": null,
      "outputs": [
        {
          "output_type": "execute_result",
          "data": {
            "text/plain": [
              "3"
            ]
          },
          "metadata": {},
          "execution_count": 10
        }
      ]
    },
    {
      "cell_type": "markdown",
      "source": [
        "### การสร้าง `list()`"
      ],
      "metadata": {
        "id": "WXhCvzqs9cP1"
      }
    },
    {
      "cell_type": "code",
      "source": [
        "list_x1 = [] #แบบที่ 1\n",
        "list_x2 = list() #แบบที่ 2"
      ],
      "metadata": {
        "id": "pODfscA29I7l"
      },
      "execution_count": null,
      "outputs": []
    },
    {
      "cell_type": "code",
      "source": [
        "print(list_x1)\n",
        "print(list_x2)"
      ],
      "metadata": {
        "colab": {
          "base_uri": "https://localhost:8080/"
        },
        "id": "QKpV0ZVL9zi3",
        "outputId": "2ebf66f6-1424-41f8-a21e-05490e8934b5"
      },
      "execution_count": null,
      "outputs": [
        {
          "output_type": "stream",
          "name": "stdout",
          "text": [
            "[]\n",
            "[]\n"
          ]
        }
      ]
    },
    {
      "cell_type": "markdown",
      "source": [
        "### เพิ่มสมาชิกเข้าไปใน list ด้วย `append()`"
      ],
      "metadata": {
        "id": "Vg2cKVsP-MOs"
      }
    },
    {
      "cell_type": "code",
      "source": [
        "list_x1.append(2)"
      ],
      "metadata": {
        "id": "tLK4BsKr96O8"
      },
      "execution_count": null,
      "outputs": []
    },
    {
      "cell_type": "code",
      "source": [
        "list_x1"
      ],
      "metadata": {
        "colab": {
          "base_uri": "https://localhost:8080/"
        },
        "id": "fZ9ORgYm-jNT",
        "outputId": "01232cd1-d445-409a-b49d-657718284c46"
      },
      "execution_count": null,
      "outputs": [
        {
          "output_type": "execute_result",
          "data": {
            "text/plain": [
              "[2]"
            ]
          },
          "metadata": {},
          "execution_count": 15
        }
      ]
    },
    {
      "cell_type": "code",
      "source": [
        "list_x1.append(4)\n",
        "print(list_x1)"
      ],
      "metadata": {
        "colab": {
          "base_uri": "https://localhost:8080/"
        },
        "id": "bE4bVjX4-ok3",
        "outputId": "7b67f2e5-b7f8-42b4-8405-a4f4869602ae"
      },
      "execution_count": null,
      "outputs": [
        {
          "output_type": "stream",
          "name": "stdout",
          "text": [
            "[2, 4]\n"
          ]
        }
      ]
    },
    {
      "cell_type": "code",
      "source": [
        "list_x1[0]"
      ],
      "metadata": {
        "colab": {
          "base_uri": "https://localhost:8080/"
        },
        "id": "Z2TzeeWg--BS",
        "outputId": "7a09806f-4037-4963-f8cc-9698e9025179"
      },
      "execution_count": null,
      "outputs": [
        {
          "output_type": "execute_result",
          "data": {
            "text/plain": [
              "2"
            ]
          },
          "metadata": {},
          "execution_count": 17
        }
      ]
    },
    {
      "cell_type": "code",
      "source": [
        "list_x1[-1]"
      ],
      "metadata": {
        "colab": {
          "base_uri": "https://localhost:8080/"
        },
        "id": "8g8U8HLt_Cpj",
        "outputId": "b067c1fb-4f87-4b13-daa4-f7cffe3cea78"
      },
      "execution_count": null,
      "outputs": [
        {
          "output_type": "execute_result",
          "data": {
            "text/plain": [
              "4"
            ]
          },
          "metadata": {},
          "execution_count": 18
        }
      ]
    },
    {
      "cell_type": "code",
      "source": [
        "list_x2"
      ],
      "metadata": {
        "colab": {
          "base_uri": "https://localhost:8080/"
        },
        "id": "7EkHtA5H_E0q",
        "outputId": "cc381fe2-5d7d-4fdd-911f-32bbb295d3fa"
      },
      "execution_count": null,
      "outputs": [
        {
          "output_type": "execute_result",
          "data": {
            "text/plain": [
              "[]"
            ]
          },
          "metadata": {},
          "execution_count": 19
        }
      ]
    },
    {
      "cell_type": "code",
      "source": [
        "list_x2.append('ha')"
      ],
      "metadata": {
        "id": "zeUY2s1__Qiz"
      },
      "execution_count": null,
      "outputs": []
    },
    {
      "cell_type": "code",
      "source": [
        "list_x2"
      ],
      "metadata": {
        "colab": {
          "base_uri": "https://localhost:8080/"
        },
        "id": "AKdqAgmC_o2N",
        "outputId": "25d1d355-cdea-40d6-b825-b795728832c3"
      },
      "execution_count": null,
      "outputs": [
        {
          "output_type": "execute_result",
          "data": {
            "text/plain": [
              "['ha', 'ha']"
            ]
          },
          "metadata": {},
          "execution_count": 27
        }
      ]
    },
    {
      "cell_type": "markdown",
      "source": [
        "### ลบสมาชิกจาก list"
      ],
      "metadata": {
        "id": "0cvfn7OaALNq"
      }
    },
    {
      "cell_type": "code",
      "source": [
        "list_x1.append('ha')"
      ],
      "metadata": {
        "id": "xIKSfa96_t22"
      },
      "execution_count": null,
      "outputs": []
    },
    {
      "cell_type": "code",
      "source": [
        "list_x1"
      ],
      "metadata": {
        "colab": {
          "base_uri": "https://localhost:8080/"
        },
        "id": "ZRIh1wqS__nU",
        "outputId": "c2940c0c-85f6-4cb6-d25b-3e60c913d7cf"
      },
      "execution_count": null,
      "outputs": [
        {
          "output_type": "execute_result",
          "data": {
            "text/plain": [
              "[2, 4, 'ha', 'ha']"
            ]
          },
          "metadata": {},
          "execution_count": 30
        }
      ]
    },
    {
      "cell_type": "code",
      "source": [
        "list_x1.pop() # pop คือลบตัวสุดท้ายออก"
      ],
      "metadata": {
        "colab": {
          "base_uri": "https://localhost:8080/",
          "height": 57
        },
        "id": "3kkxkwueABx7",
        "outputId": "7c952dcc-dd74-406f-d4eb-1e9178461b64"
      },
      "execution_count": null,
      "outputs": [
        {
          "output_type": "execute_result",
          "data": {
            "application/vnd.google.colaboratory.intrinsic+json": {
              "type": "string"
            },
            "text/plain": [
              "'ha'"
            ]
          },
          "metadata": {},
          "execution_count": 31
        }
      ]
    },
    {
      "cell_type": "code",
      "source": [
        "list_x1"
      ],
      "metadata": {
        "colab": {
          "base_uri": "https://localhost:8080/"
        },
        "id": "ZYqe5bbpAGlA",
        "outputId": "54fa4c02-681e-4b68-94f2-97b2db5b832d"
      },
      "execution_count": null,
      "outputs": [
        {
          "output_type": "execute_result",
          "data": {
            "text/plain": [
              "[2, 4, 'ha']"
            ]
          },
          "metadata": {},
          "execution_count": 32
        }
      ]
    },
    {
      "cell_type": "code",
      "source": [
        "list_x1.pop()\n",
        "print(list_x1)"
      ],
      "metadata": {
        "colab": {
          "base_uri": "https://localhost:8080/"
        },
        "id": "iCohgoCOAI-D",
        "outputId": "196ca4b9-8ed9-47c9-b7f4-6152e520164a"
      },
      "execution_count": null,
      "outputs": [
        {
          "output_type": "stream",
          "name": "stdout",
          "text": [
            "[2, 4]\n"
          ]
        }
      ]
    },
    {
      "cell_type": "markdown",
      "source": [
        "### `len()` ตรวจสอบจำนวนสมาชิกของ list"
      ],
      "metadata": {
        "id": "Wbq2O2IAB4zi"
      }
    },
    {
      "cell_type": "code",
      "source": [
        "print(list_b)\n",
        "print(len(list_b))"
      ],
      "metadata": {
        "colab": {
          "base_uri": "https://localhost:8080/"
        },
        "id": "lZzBhX4XAisR",
        "outputId": "b1390f32-448f-41b5-d594-8a2be1e8188e"
      },
      "execution_count": null,
      "outputs": [
        {
          "output_type": "stream",
          "name": "stdout",
          "text": [
            "['ab', 2, 3.14, [1, 2, 3, 4, 5, 6]]\n",
            "4\n"
          ]
        }
      ]
    },
    {
      "cell_type": "code",
      "source": [
        "len(list_a)"
      ],
      "metadata": {
        "colab": {
          "base_uri": "https://localhost:8080/"
        },
        "id": "77VNOB0nCIM-",
        "outputId": "10ef2153-00d0-4a29-da57-49102514bbca"
      },
      "execution_count": null,
      "outputs": [
        {
          "output_type": "execute_result",
          "data": {
            "text/plain": [
              "6"
            ]
          },
          "metadata": {},
          "execution_count": 35
        }
      ]
    },
    {
      "cell_type": "markdown",
      "source": [
        "### String is a list of characters"
      ],
      "metadata": {
        "id": "Bw7eQp_KCdJL"
      }
    },
    {
      "cell_type": "code",
      "source": [
        "st_stat = 'Department of Statistics, Faculty of Science'"
      ],
      "metadata": {
        "id": "24wvDlOwCPnt"
      },
      "execution_count": null,
      "outputs": []
    },
    {
      "cell_type": "code",
      "source": [
        "st_stat[10]"
      ],
      "metadata": {
        "colab": {
          "base_uri": "https://localhost:8080/",
          "height": 57
        },
        "id": "r6z72rPDC9j7",
        "outputId": "116a109a-7593-4658-a1eb-4dfe7d19da71"
      },
      "execution_count": null,
      "outputs": [
        {
          "output_type": "execute_result",
          "data": {
            "application/vnd.google.colaboratory.intrinsic+json": {
              "type": "string"
            },
            "text/plain": [
              "' '"
            ]
          },
          "metadata": {},
          "execution_count": 37
        }
      ]
    },
    {
      "cell_type": "code",
      "source": [
        "len(st_stat)"
      ],
      "metadata": {
        "colab": {
          "base_uri": "https://localhost:8080/"
        },
        "id": "ZQskWuy0DGUA",
        "outputId": "09e038ab-5752-423c-90cf-87324e76e872"
      },
      "execution_count": null,
      "outputs": [
        {
          "output_type": "execute_result",
          "data": {
            "text/plain": [
              "44"
            ]
          },
          "metadata": {},
          "execution_count": 38
        }
      ]
    },
    {
      "cell_type": "markdown",
      "source": [
        "### List Slicing `:`"
      ],
      "metadata": {
        "id": "yA0JKu-lDXJy"
      }
    },
    {
      "cell_type": "markdown",
      "source": [
        "   `list[จุดเริ่มต้น (ทึบ):จุดสุดท้าย (โปร่ง)]`\n",
        "\n",
        "   `list[จุดเริ่มต้น (ทึบ):จุดสุดท้าย (โปร่ง):step]`"
      ],
      "metadata": {
        "id": "QURj1fLHESkb"
      }
    },
    {
      "cell_type": "markdown",
      "source": [
        "![Unknown.gif](data:image/gif;base64,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)"
      ],
      "metadata": {
        "id": "MVx6l88aFEKQ"
      }
    },
    {
      "cell_type": "code",
      "source": [
        "list_a"
      ],
      "metadata": {
        "colab": {
          "base_uri": "https://localhost:8080/"
        },
        "id": "T7-0tsyrDNPc",
        "outputId": "71098a1c-86fa-4052-f6d1-2602df6a8eb8"
      },
      "execution_count": null,
      "outputs": [
        {
          "output_type": "execute_result",
          "data": {
            "text/plain": [
              "[1, 2, 3, 4, 5, 6]"
            ]
          },
          "metadata": {},
          "execution_count": 39
        }
      ]
    },
    {
      "cell_type": "code",
      "source": [
        "list_a[2]"
      ],
      "metadata": {
        "colab": {
          "base_uri": "https://localhost:8080/"
        },
        "id": "OAs8jaEADvko",
        "outputId": "c661f8ed-3344-4c25-ee20-fdc6f6be68a9"
      },
      "execution_count": null,
      "outputs": [
        {
          "output_type": "execute_result",
          "data": {
            "text/plain": [
              "3"
            ]
          },
          "metadata": {},
          "execution_count": 40
        }
      ]
    },
    {
      "cell_type": "markdown",
      "source": [
        "#### `:` colon"
      ],
      "metadata": {
        "id": "OeHSNzKOGx96"
      }
    },
    {
      "cell_type": "code",
      "source": [
        "list_a[-3:]  "
      ],
      "metadata": {
        "colab": {
          "base_uri": "https://localhost:8080/"
        },
        "id": "WxRIaR3zD2hz",
        "outputId": "256e374c-53cb-40b6-c573-d741c9366d35"
      },
      "execution_count": null,
      "outputs": [
        {
          "output_type": "execute_result",
          "data": {
            "text/plain": [
              "[4, 5, 6]"
            ]
          },
          "metadata": {},
          "execution_count": 41
        }
      ]
    },
    {
      "cell_type": "code",
      "source": [
        "list_a[:4] "
      ],
      "metadata": {
        "colab": {
          "base_uri": "https://localhost:8080/"
        },
        "id": "jxLswEA4GQRg",
        "outputId": "f8493a47-9d7e-4494-cd07-a898f10125b5"
      },
      "execution_count": null,
      "outputs": [
        {
          "output_type": "execute_result",
          "data": {
            "text/plain": [
              "[1, 2, 3, 4]"
            ]
          },
          "metadata": {},
          "execution_count": 43
        }
      ]
    },
    {
      "cell_type": "code",
      "source": [
        "list_a[1:4]"
      ],
      "metadata": {
        "colab": {
          "base_uri": "https://localhost:8080/"
        },
        "id": "Ik0sSBufEOW6",
        "outputId": "c14d2987-7b5f-468b-b0fd-132ef2f05ed9"
      },
      "execution_count": null,
      "outputs": [
        {
          "output_type": "execute_result",
          "data": {
            "text/plain": [
              "[2, 3, 4]"
            ]
          },
          "metadata": {},
          "execution_count": 42
        }
      ]
    },
    {
      "cell_type": "code",
      "source": [
        "list_a[:]"
      ],
      "metadata": {
        "colab": {
          "base_uri": "https://localhost:8080/"
        },
        "id": "QzAGuQoEFsy-",
        "outputId": "bfff32ef-d368-4827-ca38-b7c633aef449"
      },
      "execution_count": null,
      "outputs": [
        {
          "output_type": "execute_result",
          "data": {
            "text/plain": [
              "[1, 2, 3, 4, 5, 6]"
            ]
          },
          "metadata": {},
          "execution_count": 44
        }
      ]
    },
    {
      "cell_type": "markdown",
      "source": [
        "#### step"
      ],
      "metadata": {
        "id": "GTmRipq9Guu8"
      }
    },
    {
      "cell_type": "code",
      "source": [
        "list_c = [1,2,3,4,5,6,7,8,9,10,11,12,13]"
      ],
      "metadata": {
        "id": "EaImnrlLGl0Q"
      },
      "execution_count": null,
      "outputs": []
    },
    {
      "cell_type": "code",
      "source": [
        "list_c[:10:]"
      ],
      "metadata": {
        "colab": {
          "base_uri": "https://localhost:8080/"
        },
        "id": "_TeWd9beG9nH",
        "outputId": "28bd6422-2e26-42b8-8d48-5627c6496745"
      },
      "execution_count": null,
      "outputs": [
        {
          "output_type": "execute_result",
          "data": {
            "text/plain": [
              "[1, 2, 3, 4, 5, 6, 7, 8, 9, 10]"
            ]
          },
          "metadata": {},
          "execution_count": 47
        }
      ]
    },
    {
      "cell_type": "code",
      "source": [
        "list_c[:10:2]"
      ],
      "metadata": {
        "colab": {
          "base_uri": "https://localhost:8080/"
        },
        "id": "1w0nqO1fHKO4",
        "outputId": "9c9c06ea-a233-4ac0-edb5-c8ceb66e3964"
      },
      "execution_count": null,
      "outputs": [
        {
          "output_type": "execute_result",
          "data": {
            "text/plain": [
              "[1, 3, 5, 7, 9]"
            ]
          },
          "metadata": {},
          "execution_count": 48
        }
      ]
    },
    {
      "cell_type": "code",
      "source": [
        "list_c[::-1]"
      ],
      "metadata": {
        "colab": {
          "base_uri": "https://localhost:8080/"
        },
        "id": "P_YQgICHHVBX",
        "outputId": "3f8a2dc5-4193-4ce9-f699-b63cf326a406"
      },
      "execution_count": null,
      "outputs": [
        {
          "output_type": "execute_result",
          "data": {
            "text/plain": [
              "[13, 12, 11, 10, 9, 8, 7, 6, 5, 4, 3, 2, 1]"
            ]
          },
          "metadata": {},
          "execution_count": 49
        }
      ]
    },
    {
      "cell_type": "markdown",
      "source": [
        "### `range()`"
      ],
      "metadata": {
        "id": "07ytSlzXHzr-"
      }
    },
    {
      "cell_type": "code",
      "source": [
        "range(21)"
      ],
      "metadata": {
        "colab": {
          "base_uri": "https://localhost:8080/"
        },
        "id": "7qrYF8JsIK0Z",
        "outputId": "d47bae14-5de8-445e-d0ee-d36e2e856981"
      },
      "execution_count": null,
      "outputs": [
        {
          "output_type": "execute_result",
          "data": {
            "text/plain": [
              "range(0, 21)"
            ]
          },
          "metadata": {},
          "execution_count": 52
        }
      ]
    },
    {
      "cell_type": "code",
      "source": [
        "a = list(range(21))"
      ],
      "metadata": {
        "id": "JFBVj3HqHdly"
      },
      "execution_count": null,
      "outputs": []
    },
    {
      "cell_type": "code",
      "source": [
        "a"
      ],
      "metadata": {
        "colab": {
          "base_uri": "https://localhost:8080/"
        },
        "id": "ZT38_fCIIGYm",
        "outputId": "90b7707e-414f-47b1-93ed-9a02bb35c904"
      },
      "execution_count": null,
      "outputs": [
        {
          "output_type": "execute_result",
          "data": {
            "text/plain": [
              "[0, 1, 2, 3, 4, 5, 6, 7, 8, 9, 10, 11, 12, 13, 14, 15, 16, 17, 18, 19, 20]"
            ]
          },
          "metadata": {},
          "execution_count": 51
        }
      ]
    },
    {
      "cell_type": "code",
      "source": [
        "list(range(1,21))"
      ],
      "metadata": {
        "colab": {
          "base_uri": "https://localhost:8080/"
        },
        "id": "nUcqhwT_IHDC",
        "outputId": "1dfb9188-9e2c-4abc-e439-e6543ce35484"
      },
      "execution_count": null,
      "outputs": [
        {
          "output_type": "execute_result",
          "data": {
            "text/plain": [
              "[1, 2, 3, 4, 5, 6, 7, 8, 9, 10, 11, 12, 13, 14, 15, 16, 17, 18, 19, 20]"
            ]
          },
          "metadata": {},
          "execution_count": 53
        }
      ]
    },
    {
      "cell_type": "markdown",
      "source": [
        "### `HW2 คำนวณเวลาเป็นวินาทีของเวลาต่อไปนี้โดยใช้คำสั่ง split() ช่วย (print ออกมาให้สวยงาม)`\n",
        "\n",
        "- 12:30:15\n",
        "- 13:41:07\n",
        "- 09:11:50\n",
        "- 21:30:15\n",
        "- 03:10:15"
      ],
      "metadata": {
        "id": "XRSDkVF9I9qE"
      }
    },
    {
      "cell_type": "code",
      "source": [
        "# 12:30:15\n",
        "a = '12:30:15'.split(':') # ใช้คำสั่ง split เพื่อแยก : ออกมา\n",
        "a_1 = int(a[0])*60*60 + int(a[1])*60 + int(a[2]) # ใช้คำสั่ง int เพื่อนำมาคำนวณ\n",
        "# ตัวเลขที่นำมา * ต้องอยู่นอกวงเล็บตัวแปร \n",
        "print(f'เวลา 12:30:15 แปลงเป็นวินาทีได้ {a_1} วินาที')"
      ],
      "metadata": {
        "id": "Fx1DVqy1Jull",
        "outputId": "7125090e-cd31-4fb4-8765-1d2f0811de3e",
        "colab": {
          "base_uri": "https://localhost:8080/"
        }
      },
      "execution_count": null,
      "outputs": [
        {
          "output_type": "stream",
          "name": "stdout",
          "text": [
            "เวลา 12:30:15 แปลงเป็นวินาทีได้ 45015 วินาที\n"
          ]
        }
      ]
    },
    {
      "cell_type": "code",
      "source": [
        "# 13:41:07\n",
        "a = '13:41:07'.split(':')  # ใช้คำสั่ง split เพื่อแยก : ออกมา\n",
        "a_1 = int(a[0])*60*60 + int(a[1])*60 + int(a[2])   # ใช้คำสั่ง int เพื่อนำมาคำนวณ\n",
        "# ตัวเลขที่นำมา * ต้องอยู่นอกวงเล็บตัวแปร \n",
        "print(f'เวลา (13:41:07) แปลงเป็นวินาทีได้ ({a_1:,}) วินาที')"
      ],
      "metadata": {
        "id": "mvcFXmbcQ2Z_",
        "outputId": "58939a76-a2a8-4ef0-9e27-6acccaa5daa9",
        "colab": {
          "base_uri": "https://localhost:8080/"
        }
      },
      "execution_count": null,
      "outputs": [
        {
          "output_type": "stream",
          "name": "stdout",
          "text": [
            "เวลา (13:41:07) แปลงเป็นวินาทีได้ (49,267) วินาที\n"
          ]
        }
      ]
    },
    {
      "cell_type": "code",
      "source": [
        "# 09:11:50\n",
        "a = '09:11:50'.split(':') # ใช้คำสั่ง split เพื่อแยก : ออกมา\n",
        "a_1 = int(a[0])*60*60 + int(a[1])*60 + int(a[2])  # ใช้คำสั่ง int เพื่อนำมาคำนวณ\n",
        "# ตัวเลขที่นำมา * ต้องอยู่นอกวงเล็บตัวแปร \n",
        "print(f'เวลา (09:11:50) แปลงเป็นวินาทีได้ ({a_1:,}) วินาที')"
      ],
      "metadata": {
        "id": "XzwBtAVTQ3Wv",
        "outputId": "b605c1aa-56d1-4565-a51a-d21b118d0e68",
        "colab": {
          "base_uri": "https://localhost:8080/"
        }
      },
      "execution_count": null,
      "outputs": [
        {
          "output_type": "stream",
          "name": "stdout",
          "text": [
            "เวลา (09:11:50) แปลงเป็นวินาทีได้ (33,110) วินาที\n"
          ]
        }
      ]
    },
    {
      "cell_type": "code",
      "source": [
        "# 21:30:15\n",
        "a = '21:30:15'.split(':') # ใช้คำสั่ง split เพื่อแยก : ออกมา\n",
        "a_1 = int(a[0])*60*60 + int(a[1])*60 + int(a[2])  # ใช้คำสั่ง int เพื่อนำมาคำนวณ\n",
        "# ตัวเลขที่นำมา * ต้องอยู่นอกวงเล็บตัวแปร \n",
        "print(f'เวลา (21:30:15) แปลงเป็นวินาทีได้ ({a_1:,}) วินาที')"
      ],
      "metadata": {
        "id": "kpyygCrrQ3pv",
        "outputId": "72f0b508-f322-48a7-9fb9-9285f309e728",
        "colab": {
          "base_uri": "https://localhost:8080/"
        }
      },
      "execution_count": null,
      "outputs": [
        {
          "output_type": "stream",
          "name": "stdout",
          "text": [
            "เวลา (21:30:15) แปลงเป็นวินาทีได้ (77,415) วินาที\n"
          ]
        }
      ]
    },
    {
      "cell_type": "code",
      "source": [
        "# 03:10:15\n",
        "a = '03:10:15'.split(':') # ใช้คำสั่ง split เพื่อแยก : ออกมา\n",
        "a_1 = int(a[0])*60*60 + int(a[1])*60 + int(a[2]) # ใช้คำสั่ง int เพื่อนำมาคำนวณ\n",
        "# ตัวเลขที่นำมา * ต้องอยู่นอกวงเล็บตัวแปร \n",
        "print(f'เวลา (03:10:15) แปลงเป็นวินาทีได้ ({a_1:,}) วินาที')"
      ],
      "metadata": {
        "id": "tvdTCtVVQ357",
        "outputId": "0e062a9b-39de-42dc-dc84-ed67be15e760",
        "colab": {
          "base_uri": "https://localhost:8080/"
        }
      },
      "execution_count": null,
      "outputs": [
        {
          "output_type": "stream",
          "name": "stdout",
          "text": [
            "เวลา (03:10:15) แปลงเป็นวินาทีได้ (11,415) วินาที\n"
          ]
        }
      ]
    },
    {
      "cell_type": "markdown",
      "source": [
        "## Dictionary"
      ],
      "metadata": {
        "id": "EH1goSYTo-9P"
      }
    },
    {
      "cell_type": "code",
      "source": [
        "dict_a = {1:'Happy','N':'New','2022':'Year'} # { } curly brackets "
      ],
      "metadata": {
        "id": "_ZCjTR5pURjP"
      },
      "execution_count": null,
      "outputs": []
    },
    {
      "cell_type": "markdown",
      "source": [
        "### การชี้ สมาชิกใน Dictionary"
      ],
      "metadata": {
        "id": "yHSZgEyLpDw-"
      }
    },
    {
      "cell_type": "code",
      "source": [
        "dict_a[1]"
      ],
      "metadata": {
        "id": "nLb4YjK2pEH6",
        "outputId": "18df0c2e-0487-4d26-d738-80d55cc1d0e7",
        "colab": {
          "base_uri": "https://localhost:8080/",
          "height": 34
        }
      },
      "execution_count": null,
      "outputs": [
        {
          "output_type": "execute_result",
          "data": {
            "application/vnd.google.colaboratory.intrinsic+json": {
              "type": "string"
            },
            "text/plain": [
              "'Happy'"
            ]
          },
          "metadata": {},
          "execution_count": 7
        }
      ]
    },
    {
      "cell_type": "code",
      "source": [
        "dict_a['N']"
      ],
      "metadata": {
        "id": "5hVwDKfdpHf1",
        "outputId": "b8767cfa-2b57-4262-d3a9-b06282544d66",
        "colab": {
          "base_uri": "https://localhost:8080/",
          "height": 34
        }
      },
      "execution_count": null,
      "outputs": [
        {
          "output_type": "execute_result",
          "data": {
            "application/vnd.google.colaboratory.intrinsic+json": {
              "type": "string"
            },
            "text/plain": [
              "'New'"
            ]
          },
          "metadata": {},
          "execution_count": 8
        }
      ]
    },
    {
      "cell_type": "code",
      "source": [
        "dict_a.keys()"
      ],
      "metadata": {
        "id": "OqHUPQAGpLBD",
        "outputId": "ce62d470-75b6-44e6-9643-f973e89f123a",
        "colab": {
          "base_uri": "https://localhost:8080/"
        }
      },
      "execution_count": null,
      "outputs": [
        {
          "output_type": "execute_result",
          "data": {
            "text/plain": [
              "dict_keys([1, 'N', '2022'])"
            ]
          },
          "metadata": {},
          "execution_count": 9
        }
      ]
    },
    {
      "cell_type": "code",
      "source": [
        "dict_a.values()"
      ],
      "metadata": {
        "id": "kFbI6-XZpMcu",
        "outputId": "bcce5270-aba3-4570-c9dc-418c86596e10",
        "colab": {
          "base_uri": "https://localhost:8080/"
        }
      },
      "execution_count": null,
      "outputs": [
        {
          "output_type": "execute_result",
          "data": {
            "text/plain": [
              "dict_values(['Happy', 'New', 'Year'])"
            ]
          },
          "metadata": {},
          "execution_count": 10
        }
      ]
    },
    {
      "cell_type": "markdown",
      "source": [
        "### การเพิ่มสมาชิกลงไปใน Dictionary "
      ],
      "metadata": {
        "id": "Jhy_klWGpPSb"
      }
    },
    {
      "cell_type": "code",
      "source": [
        "dict_a[7] = 3.14"
      ],
      "metadata": {
        "id": "AFtTZYH-pNl1"
      },
      "execution_count": null,
      "outputs": []
    },
    {
      "cell_type": "code",
      "source": [
        "dict_a"
      ],
      "metadata": {
        "id": "ioI-IeQIpSGZ",
        "outputId": "8f781b16-6a9b-4c06-d153-18415a9c3b2e",
        "colab": {
          "base_uri": "https://localhost:8080/"
        }
      },
      "execution_count": null,
      "outputs": [
        {
          "output_type": "execute_result",
          "data": {
            "text/plain": [
              "{1: 'Happy', '2022': 'Year', 7: 3.14, 'N': 'New'}"
            ]
          },
          "metadata": {},
          "execution_count": 12
        }
      ]
    },
    {
      "cell_type": "code",
      "source": [
        "dict_a['N'] = 'NNNNEEEEWWWW'"
      ],
      "metadata": {
        "id": "f_Q4vUlWpTPx"
      },
      "execution_count": null,
      "outputs": []
    },
    {
      "cell_type": "code",
      "source": [
        "dict_a"
      ],
      "metadata": {
        "id": "jgGmtumCpUKc",
        "outputId": "a8b5861d-ee71-4027-b1b5-8cbb5a72f09f",
        "colab": {
          "base_uri": "https://localhost:8080/"
        }
      },
      "execution_count": null,
      "outputs": [
        {
          "output_type": "execute_result",
          "data": {
            "text/plain": [
              "{1: 'Happy', '2022': 'Year', 7: 3.14, 'N': 'NNNNEEEEWWWW'}"
            ]
          },
          "metadata": {},
          "execution_count": 14
        }
      ]
    },
    {
      "cell_type": "code",
      "source": [
        "import numpy"
      ],
      "metadata": {
        "id": "rfpRCfQqpVOG"
      },
      "execution_count": null,
      "outputs": []
    },
    {
      "cell_type": "markdown",
      "source": [
        "### 1D array"
      ],
      "metadata": {
        "id": "El3wPEADpkCq"
      }
    },
    {
      "cell_type": "code",
      "source": [
        "list_A = [1,2,3,4,5]"
      ],
      "metadata": {
        "id": "HpwZTlnipiC_"
      },
      "execution_count": null,
      "outputs": []
    },
    {
      "cell_type": "code",
      "source": [
        "arr_a = numpy.array(list_A)"
      ],
      "metadata": {
        "id": "-SLjPz5Spl7p"
      },
      "execution_count": null,
      "outputs": []
    },
    {
      "cell_type": "code",
      "source": [
        "arr_a"
      ],
      "metadata": {
        "id": "AWd1Nj5bpm_V",
        "outputId": "877d94f7-eef8-40b8-bdf4-f491c6bf2dce",
        "colab": {
          "base_uri": "https://localhost:8080/"
        }
      },
      "execution_count": null,
      "outputs": [
        {
          "output_type": "execute_result",
          "data": {
            "text/plain": [
              "array([1, 2, 3, 4, 5])"
            ]
          },
          "metadata": {},
          "execution_count": 18
        }
      ]
    },
    {
      "cell_type": "code",
      "source": [
        "list_A"
      ],
      "metadata": {
        "id": "4yRxdwLDpo47",
        "outputId": "7d5d55fc-c741-47f2-cece-61cabc8f4e74",
        "colab": {
          "base_uri": "https://localhost:8080/"
        }
      },
      "execution_count": null,
      "outputs": [
        {
          "output_type": "execute_result",
          "data": {
            "text/plain": [
              "[1, 2, 3, 4, 5]"
            ]
          },
          "metadata": {},
          "execution_count": 19
        }
      ]
    },
    {
      "cell_type": "code",
      "source": [
        "arr_a[0]|"
      ],
      "metadata": {
        "id": "2qUo4C8gpqBc",
        "outputId": "1a3fda75-dc05-4286-8252-7b0ca9ef3fde",
        "colab": {
          "base_uri": "https://localhost:8080/",
          "height": 131
        }
      },
      "execution_count": null,
      "outputs": [
        {
          "output_type": "error",
          "ename": "SyntaxError",
          "evalue": "ignored",
          "traceback": [
            "\u001b[0;36m  File \u001b[0;32m\"<ipython-input-20-1fe8c376ac9c>\"\u001b[0;36m, line \u001b[0;32m1\u001b[0m\n\u001b[0;31m    arr_a[0]|\u001b[0m\n\u001b[0m             ^\u001b[0m\n\u001b[0;31mSyntaxError\u001b[0m\u001b[0;31m:\u001b[0m invalid syntax\n"
          ]
        }
      ]
    },
    {
      "cell_type": "code",
      "source": [
        "list_A[0]"
      ],
      "metadata": {
        "id": "j5PduPiJpr2R",
        "outputId": "7af1233a-0c44-4991-b78c-3040f60b3d30",
        "colab": {
          "base_uri": "https://localhost:8080/"
        }
      },
      "execution_count": null,
      "outputs": [
        {
          "output_type": "execute_result",
          "data": {
            "text/plain": [
              "1"
            ]
          },
          "metadata": {},
          "execution_count": 21
        }
      ]
    },
    {
      "cell_type": "code",
      "source": [
        "5 * arr_a # Matrix (scalar multiplication) "
      ],
      "metadata": {
        "id": "MDzDX_q8pu-S",
        "outputId": "e8a21603-236d-4d96-8a43-6b294a68da51",
        "colab": {
          "base_uri": "https://localhost:8080/"
        }
      },
      "execution_count": null,
      "outputs": [
        {
          "output_type": "execute_result",
          "data": {
            "text/plain": [
              "array([ 5, 10, 15, 20, 25])"
            ]
          },
          "metadata": {},
          "execution_count": 22
        }
      ]
    },
    {
      "cell_type": "code",
      "source": [
        "5*list_A"
      ],
      "metadata": {
        "id": "wJym1KE7pxDp",
        "outputId": "de2089cf-394d-4de6-8523-1f5cedfc20dd",
        "colab": {
          "base_uri": "https://localhost:8080/"
        }
      },
      "execution_count": null,
      "outputs": [
        {
          "output_type": "execute_result",
          "data": {
            "text/plain": [
              "[1, 2, 3, 4, 5, 1, 2, 3, 4, 5, 1, 2, 3, 4, 5, 1, 2, 3, 4, 5, 1, 2, 3, 4, 5]"
            ]
          },
          "metadata": {},
          "execution_count": 23
        }
      ]
    },
    {
      "cell_type": "code",
      "source": [
        "arr_b = numpy.array([10,20,30,40,50])"
      ],
      "metadata": {
        "id": "naUb3CASpyXV"
      },
      "execution_count": null,
      "outputs": []
    },
    {
      "cell_type": "code",
      "source": [
        "print(arr_a)"
      ],
      "metadata": {
        "id": "6KZZvZnwpzv4",
        "outputId": "dcfd0324-9bad-4589-a385-fe0db4924f9e",
        "colab": {
          "base_uri": "https://localhost:8080/"
        }
      },
      "execution_count": null,
      "outputs": [
        {
          "output_type": "stream",
          "name": "stdout",
          "text": [
            "[1 2 3 4 5]\n"
          ]
        }
      ]
    },
    {
      "cell_type": "code",
      "source": [
        "arr_a + arr_b"
      ],
      "metadata": {
        "id": "rQ668tN2p352",
        "outputId": "e29861c9-c197-464a-e845-636e9acdd9bf",
        "colab": {
          "base_uri": "https://localhost:8080/"
        }
      },
      "execution_count": null,
      "outputs": [
        {
          "output_type": "execute_result",
          "data": {
            "text/plain": [
              "array([11, 22, 33, 44, 55])"
            ]
          },
          "metadata": {},
          "execution_count": 26
        }
      ]
    },
    {
      "cell_type": "code",
      "source": [
        "arr_a.shape"
      ],
      "metadata": {
        "id": "6GfbVv4xp5Jr",
        "outputId": "53bd6f52-de6b-4039-853a-3f6c0a86c573",
        "colab": {
          "base_uri": "https://localhost:8080/"
        }
      },
      "execution_count": null,
      "outputs": [
        {
          "output_type": "execute_result",
          "data": {
            "text/plain": [
              "(5,)"
            ]
          },
          "metadata": {},
          "execution_count": 27
        }
      ]
    },
    {
      "cell_type": "markdown",
      "source": [
        "### 2D array"
      ],
      "metadata": {
        "id": "50L5zlUDp71j"
      }
    },
    {
      "cell_type": "code",
      "source": [
        "import numpy as np"
      ],
      "metadata": {
        "id": "RV-aGNqpp6IF"
      },
      "execution_count": null,
      "outputs": []
    },
    {
      "cell_type": "code",
      "source": [
        "arr2_z = np.array([[1,2,3],[4,5,6]])"
      ],
      "metadata": {
        "id": "I1E98Chgp9YD"
      },
      "execution_count": null,
      "outputs": []
    },
    {
      "cell_type": "code",
      "source": [
        "arr2_z"
      ],
      "metadata": {
        "id": "WFg9pESQp-QL",
        "outputId": "8a1365f8-9271-4850-fc82-4ffccc2695c3",
        "colab": {
          "base_uri": "https://localhost:8080/"
        }
      },
      "execution_count": null,
      "outputs": [
        {
          "output_type": "execute_result",
          "data": {
            "text/plain": [
              "array([[1, 2, 3],\n",
              "       [4, 5, 6]])"
            ]
          },
          "metadata": {},
          "execution_count": 30
        }
      ]
    },
    {
      "cell_type": "code",
      "source": [
        "arr2_z.shape"
      ],
      "metadata": {
        "id": "Yd1uEcRHp_Pl",
        "outputId": "fac7d5b0-a620-46c1-b42f-7b4812a5bbd6",
        "colab": {
          "base_uri": "https://localhost:8080/"
        }
      },
      "execution_count": null,
      "outputs": [
        {
          "output_type": "execute_result",
          "data": {
            "text/plain": [
              "(2, 3)"
            ]
          },
          "metadata": {},
          "execution_count": 31
        }
      ]
    },
    {
      "cell_type": "markdown",
      "source": [
        "### `np.zeros()`"
      ],
      "metadata": {
        "id": "ml_e85fAqCkR"
      }
    },
    {
      "cell_type": "code",
      "source": [
        "arr2_3_5_0 = np.zeros((3,5))"
      ],
      "metadata": {
        "id": "YSIq7BxsqAW7"
      },
      "execution_count": null,
      "outputs": []
    },
    {
      "cell_type": "code",
      "source": [
        "arr2_3_5_0"
      ],
      "metadata": {
        "id": "mBSWfgoQqEVO",
        "outputId": "f2ab84ff-8bea-4ca7-f533-65f47a52d0c1",
        "colab": {
          "base_uri": "https://localhost:8080/"
        }
      },
      "execution_count": null,
      "outputs": [
        {
          "output_type": "execute_result",
          "data": {
            "text/plain": [
              "array([[0., 0., 0., 0., 0.],\n",
              "       [0., 0., 0., 0., 0.],\n",
              "       [0., 0., 0., 0., 0.]])"
            ]
          },
          "metadata": {},
          "execution_count": 33
        }
      ]
    },
    {
      "cell_type": "code",
      "source": [
        "arr2_3_5_0[1,2] = 9 # กำหนดค่า"
      ],
      "metadata": {
        "id": "7ni5TNh1qFpW"
      },
      "execution_count": null,
      "outputs": []
    },
    {
      "cell_type": "code",
      "source": [
        "arr2_3_5_0"
      ],
      "metadata": {
        "id": "UGdUQtXxqG30",
        "outputId": "d0a6bccd-381f-4ca2-8bba-a1cc07615055",
        "colab": {
          "base_uri": "https://localhost:8080/"
        }
      },
      "execution_count": null,
      "outputs": [
        {
          "output_type": "execute_result",
          "data": {
            "text/plain": [
              "array([[0., 0., 0., 0., 0.],\n",
              "       [0., 0., 9., 0., 0.],\n",
              "       [0., 0., 0., 0., 0.]])"
            ]
          },
          "metadata": {},
          "execution_count": 35
        }
      ]
    },
    {
      "cell_type": "code",
      "source": [
        "arr2_3_5_0[1,2] # ชี้"
      ],
      "metadata": {
        "id": "Vzw-3_O4qIKt",
        "outputId": "947f42b0-bbb3-41f5-b923-a5d25cc41639",
        "colab": {
          "base_uri": "https://localhost:8080/"
        }
      },
      "execution_count": null,
      "outputs": [
        {
          "output_type": "execute_result",
          "data": {
            "text/plain": [
              "9.0"
            ]
          },
          "metadata": {},
          "execution_count": 36
        }
      ]
    },
    {
      "cell_type": "code",
      "source": [
        "print(list_A) # เปลี่ยนค่าใน list()\n",
        "list_A[-1] = 'Christmas'\n",
        "print(list_A)"
      ],
      "metadata": {
        "id": "kV-fvx9kqJzD",
        "outputId": "ea426378-223a-49b3-cd34-a0163baf5ad8",
        "colab": {
          "base_uri": "https://localhost:8080/"
        }
      },
      "execution_count": null,
      "outputs": [
        {
          "output_type": "stream",
          "name": "stdout",
          "text": [
            "[1, 2, 3, 4, 5]\n",
            "[1, 2, 3, 4, 'Christmas']\n"
          ]
        }
      ]
    },
    {
      "cell_type": "markdown",
      "source": [
        "### `np.ones()`"
      ],
      "metadata": {
        "id": "V9yE06NfqOfn"
      }
    },
    {
      "cell_type": "code",
      "source": [
        "arr2_4_5_1 = np.ones((4,5))"
      ],
      "metadata": {
        "id": "_HMmZeVEqMM7"
      },
      "execution_count": null,
      "outputs": []
    },
    {
      "cell_type": "code",
      "source": [
        "arr2_4_5_1"
      ],
      "metadata": {
        "id": "sjmd9PmmqQFu",
        "outputId": "9f96cbe1-97b6-4df5-c453-491b4db6a911",
        "colab": {
          "base_uri": "https://localhost:8080/"
        }
      },
      "execution_count": null,
      "outputs": [
        {
          "output_type": "execute_result",
          "data": {
            "text/plain": [
              "array([[1., 1., 1., 1., 1.],\n",
              "       [1., 1., 1., 1., 1.],\n",
              "       [1., 1., 1., 1., 1.],\n",
              "       [1., 1., 1., 1., 1.]])"
            ]
          },
          "metadata": {},
          "execution_count": 39
        }
      ]
    },
    {
      "cell_type": "code",
      "source": [
        "arr2_4_5_200 = 200*np.ones((4,5))"
      ],
      "metadata": {
        "id": "UC8oh7R-qRGK"
      },
      "execution_count": null,
      "outputs": []
    },
    {
      "cell_type": "code",
      "source": [
        "arr2_4_5_200"
      ],
      "metadata": {
        "id": "6YocL3jFqSJg",
        "outputId": "cd5fe85b-7dfb-439f-b4d6-422e2159feee",
        "colab": {
          "base_uri": "https://localhost:8080/"
        }
      },
      "execution_count": null,
      "outputs": [
        {
          "output_type": "execute_result",
          "data": {
            "text/plain": [
              "array([[200., 200., 200., 200., 200.],\n",
              "       [200., 200., 200., 200., 200.],\n",
              "       [200., 200., 200., 200., 200.],\n",
              "       [200., 200., 200., 200., 200.]])"
            ]
          },
          "metadata": {},
          "execution_count": 41
        }
      ]
    },
    {
      "cell_type": "markdown",
      "source": [
        "### Matrix operations"
      ],
      "metadata": {
        "id": "G_jmBhCMqVTe"
      }
    },
    {
      "cell_type": "markdown",
      "source": [
        "#### การบวก ลบ matrix $M \\pm N$ บวกลบตัวที่อยู่ตำแหน่งเดียวกัน"
      ],
      "metadata": {
        "id": "ZmJEPEa2qZJO"
      }
    },
    {
      "cell_type": "code",
      "source": [
        "arr2_4_5_200 + arr2_3_5_0 # การบวก ลบ matrix shape ต้องเท่ากัน"
      ],
      "metadata": {
        "id": "EM9XHbx9qTig",
        "outputId": "8337d246-8ffc-493b-806a-467258ad531b",
        "colab": {
          "base_uri": "https://localhost:8080/",
          "height": 166
        }
      },
      "execution_count": null,
      "outputs": [
        {
          "output_type": "error",
          "ename": "ValueError",
          "evalue": "ignored",
          "traceback": [
            "\u001b[0;31m---------------------------------------------------------------------------\u001b[0m",
            "\u001b[0;31mValueError\u001b[0m                                Traceback (most recent call last)",
            "\u001b[0;32m<ipython-input-42-20644b9f025a>\u001b[0m in \u001b[0;36m<module>\u001b[0;34m()\u001b[0m\n\u001b[0;32m----> 1\u001b[0;31m \u001b[0marr2_4_5_200\u001b[0m \u001b[0;34m+\u001b[0m \u001b[0marr2_3_5_0\u001b[0m \u001b[0;31m# การบวก ลบ matrix shape ต้องเท่ากัน\u001b[0m\u001b[0;34m\u001b[0m\u001b[0;34m\u001b[0m\u001b[0m\n\u001b[0m",
            "\u001b[0;31mValueError\u001b[0m: operands could not be broadcast together with shapes (4,5) (3,5) "
          ]
        }
      ]
    },
    {
      "cell_type": "code",
      "source": [
        "arr2_4_5_200 + arr2_4_5_1"
      ],
      "metadata": {
        "id": "qqSWVuVZqbdS",
        "outputId": "1b80395a-87af-46bf-8cf6-c62d39917f29",
        "colab": {
          "base_uri": "https://localhost:8080/"
        }
      },
      "execution_count": null,
      "outputs": [
        {
          "output_type": "execute_result",
          "data": {
            "text/plain": [
              "array([[201., 201., 201., 201., 201.],\n",
              "       [201., 201., 201., 201., 201.],\n",
              "       [201., 201., 201., 201., 201.],\n",
              "       [201., 201., 201., 201., 201.]])"
            ]
          },
          "metadata": {},
          "execution_count": 43
        }
      ]
    },
    {
      "cell_type": "markdown",
      "source": [
        "#### การคูณ matrix\n",
        "\n",
        "- $aM$  scalar คูณ Matrix (scalar คูณกระจายเข้าไปทุกตัวของ Matrix)\n",
        "- $M\\times N$ Matrix คูณ Matrix (แถวคูณหลัก)"
      ],
      "metadata": {
        "id": "VcHiyAg9qe7x"
      }
    },
    {
      "cell_type": "code",
      "source": [
        "5 * arr_a # Matrix (scalar multiplication)"
      ],
      "metadata": {
        "id": "c8dXsnxKqc3X",
        "outputId": "1d09791d-b629-4518-f2fe-345e65f30ee3",
        "colab": {
          "base_uri": "https://localhost:8080/"
        }
      },
      "execution_count": null,
      "outputs": [
        {
          "output_type": "execute_result",
          "data": {
            "text/plain": [
              "array([ 5, 10, 15, 20, 25])"
            ]
          },
          "metadata": {},
          "execution_count": 44
        }
      ]
    },
    {
      "cell_type": "code",
      "source": [
        "mat_a = np.array([[2,3,5],[4,6,7]])\n",
        "mat_b = np.array([[1,2,5],[2,4,-7]])\n",
        "mat_c = np.array([[2,3],[4,6],[7,9]])"
      ],
      "metadata": {
        "id": "dK0EVqi1qg90"
      },
      "execution_count": null,
      "outputs": []
    },
    {
      "cell_type": "code",
      "source": [
        "mat_a"
      ],
      "metadata": {
        "id": "v_0vSnYdqi4o",
        "outputId": "c5c2a3b4-659f-4f67-964b-97117d434b33",
        "colab": {
          "base_uri": "https://localhost:8080/"
        }
      },
      "execution_count": null,
      "outputs": [
        {
          "output_type": "execute_result",
          "data": {
            "text/plain": [
              "array([[2, 3, 5],\n",
              "       [4, 6, 7]])"
            ]
          },
          "metadata": {},
          "execution_count": 46
        }
      ]
    },
    {
      "cell_type": "code",
      "source": [
        "mat_b"
      ],
      "metadata": {
        "id": "waVo9Nu9qkWO",
        "outputId": "37a083e4-6901-46e9-f989-4a654e9d9f5e",
        "colab": {
          "base_uri": "https://localhost:8080/"
        }
      },
      "execution_count": null,
      "outputs": [
        {
          "output_type": "execute_result",
          "data": {
            "text/plain": [
              "array([[ 1,  2,  5],\n",
              "       [ 2,  4, -7]])"
            ]
          },
          "metadata": {},
          "execution_count": 47
        }
      ]
    },
    {
      "cell_type": "code",
      "source": [
        "mat_c"
      ],
      "metadata": {
        "id": "E2M5GDWRqlPX",
        "outputId": "70d76724-78c8-4f88-9f1b-6aae5b83522a",
        "colab": {
          "base_uri": "https://localhost:8080/"
        }
      },
      "execution_count": null,
      "outputs": [
        {
          "output_type": "execute_result",
          "data": {
            "text/plain": [
              "array([[2, 3],\n",
              "       [4, 6],\n",
              "       [7, 9]])"
            ]
          },
          "metadata": {},
          "execution_count": 48
        }
      ]
    },
    {
      "cell_type": "markdown",
      "source": [
        "axc, bxc"
      ],
      "metadata": {
        "id": "uOPZrS9_qpAt"
      }
    },
    {
      "cell_type": "code",
      "source": [
        "np.dot(mat_a,mat_c)"
      ],
      "metadata": {
        "id": "ZnUDqIVWqmdI",
        "outputId": "3b49a4d0-58dc-4505-a35f-4c29c2bef7e1",
        "colab": {
          "base_uri": "https://localhost:8080/"
        }
      },
      "execution_count": null,
      "outputs": [
        {
          "output_type": "execute_result",
          "data": {
            "text/plain": [
              "array([[ 51,  69],\n",
              "       [ 81, 111]])"
            ]
          },
          "metadata": {},
          "execution_count": 49
        }
      ]
    },
    {
      "cell_type": "code",
      "source": [
        "np.dot(mat_b,mat_c)"
      ],
      "metadata": {
        "id": "f2n6ok0ZqqZm",
        "outputId": "0581072b-b66c-49cb-a7f2-c39e4a2326b2",
        "colab": {
          "base_uri": "https://localhost:8080/"
        }
      },
      "execution_count": null,
      "outputs": [
        {
          "output_type": "execute_result",
          "data": {
            "text/plain": [
              "array([[ 45,  60],\n",
              "       [-29, -33]])"
            ]
          },
          "metadata": {},
          "execution_count": 50
        }
      ]
    },
    {
      "cell_type": "markdown",
      "source": [
        "cxa, cxb"
      ],
      "metadata": {
        "id": "hAKTsdI9qtRV"
      }
    },
    {
      "cell_type": "code",
      "source": [
        "np.dot(mat_c,mat_a)"
      ],
      "metadata": {
        "id": "a_uKV1PSqrn2",
        "outputId": "dd800ed7-9867-4486-c9cb-3fce6fe58234",
        "colab": {
          "base_uri": "https://localhost:8080/"
        }
      },
      "execution_count": null,
      "outputs": [
        {
          "output_type": "execute_result",
          "data": {
            "text/plain": [
              "array([[16, 24, 31],\n",
              "       [32, 48, 62],\n",
              "       [50, 75, 98]])"
            ]
          },
          "metadata": {},
          "execution_count": 51
        }
      ]
    },
    {
      "cell_type": "code",
      "source": [
        "mat_X = np.dot(mat_c,mat_b)\n",
        "print(mat_X)"
      ],
      "metadata": {
        "id": "FBw1LblAqvtV",
        "outputId": "4fe52fce-4178-45de-ae5c-9f423390a966",
        "colab": {
          "base_uri": "https://localhost:8080/"
        }
      },
      "execution_count": null,
      "outputs": [
        {
          "output_type": "stream",
          "name": "stdout",
          "text": [
            "[[  8  16 -11]\n",
            " [ 16  32 -22]\n",
            " [ 25  50 -28]]\n"
          ]
        }
      ]
    },
    {
      "cell_type": "code",
      "source": [
        "mat_a * mat_b   # คูณตัวตำแหน่งเดียวกัน"
      ],
      "metadata": {
        "id": "JlHisLEiqw-6",
        "outputId": "d29c86df-8e0f-438b-a78e-186048c38160",
        "colab": {
          "base_uri": "https://localhost:8080/"
        }
      },
      "execution_count": null,
      "outputs": [
        {
          "output_type": "execute_result",
          "data": {
            "text/plain": [
              "array([[  2,   6,  25],\n",
              "       [  8,  24, -49]])"
            ]
          },
          "metadata": {},
          "execution_count": 53
        }
      ]
    },
    {
      "cell_type": "markdown",
      "source": [
        "### Matrix Slicing"
      ],
      "metadata": {
        "id": "4JOPvtR_q0bN"
      }
    },
    {
      "cell_type": "code",
      "source": [
        "mat_X[:2,:2]"
      ],
      "metadata": {
        "id": "dVYxR1S-qyer",
        "outputId": "5df412ce-935d-4200-f3b2-dc05c3b872a9",
        "colab": {
          "base_uri": "https://localhost:8080/"
        }
      },
      "execution_count": null,
      "outputs": [
        {
          "output_type": "execute_result",
          "data": {
            "text/plain": [
              "array([[ 8, 16],\n",
              "       [16, 32]])"
            ]
          },
          "metadata": {},
          "execution_count": 54
        }
      ]
    },
    {
      "cell_type": "markdown",
      "source": [
        "HW 3\n",
        "\n",
        "\n",
        "1. สร้าง array ที่เป็นรูป ต้น Christmas\n",
        "\n",
        "2. slice เลข 1 ออกมาจาก array HW3 ด้วยการ slice แค่ครั้งเดียว"
      ],
      "metadata": {
        "id": "z-oiFNgRq4rj"
      }
    },
    {
      "cell_type": "code",
      "source": [
        "HW3 = np.zeros((10,10))\n",
        "HW3"
      ],
      "metadata": {
        "id": "78RGzWzFq2h8",
        "outputId": "6ed1ebec-560f-4c5d-d759-4fc12a0fa28b",
        "colab": {
          "base_uri": "https://localhost:8080/"
        }
      },
      "execution_count": null,
      "outputs": [
        {
          "output_type": "execute_result",
          "data": {
            "text/plain": [
              "array([[0., 0., 0., 0., 0., 0., 0., 0., 0., 0.],\n",
              "       [0., 0., 0., 0., 0., 0., 0., 0., 0., 0.],\n",
              "       [0., 0., 0., 0., 0., 0., 0., 0., 0., 0.],\n",
              "       [0., 0., 0., 0., 0., 0., 0., 0., 0., 0.],\n",
              "       [0., 0., 0., 0., 0., 0., 0., 0., 0., 0.],\n",
              "       [0., 0., 0., 0., 0., 0., 0., 0., 0., 0.],\n",
              "       [0., 0., 0., 0., 0., 0., 0., 0., 0., 0.],\n",
              "       [0., 0., 0., 0., 0., 0., 0., 0., 0., 0.],\n",
              "       [0., 0., 0., 0., 0., 0., 0., 0., 0., 0.],\n",
              "       [0., 0., 0., 0., 0., 0., 0., 0., 0., 0.]])"
            ]
          },
          "metadata": {},
          "execution_count": 55
        }
      ]
    },
    {
      "cell_type": "code",
      "source": [
        "HW3[::4,2] = 1\n",
        "HW3[::4,4] = 1\n",
        "HW3[::4,6] = 1\n",
        "HW3[::4,8] = 1\n",
        "HW3"
      ],
      "metadata": {
        "id": "OVyeeeyjq6eM",
        "outputId": "247b1d2d-a8b4-49b1-8580-743cc8c6cd89",
        "colab": {
          "base_uri": "https://localhost:8080/"
        }
      },
      "execution_count": null,
      "outputs": [
        {
          "output_type": "execute_result",
          "data": {
            "text/plain": [
              "array([[0., 0., 1., 0., 1., 0., 1., 0., 1., 0.],\n",
              "       [0., 0., 0., 0., 0., 0., 0., 0., 0., 0.],\n",
              "       [0., 0., 0., 0., 0., 0., 0., 0., 0., 0.],\n",
              "       [0., 0., 0., 0., 0., 0., 0., 0., 0., 0.],\n",
              "       [0., 0., 1., 0., 1., 0., 1., 0., 1., 0.],\n",
              "       [0., 0., 0., 0., 0., 0., 0., 0., 0., 0.],\n",
              "       [0., 0., 0., 0., 0., 0., 0., 0., 0., 0.],\n",
              "       [0., 0., 0., 0., 0., 0., 0., 0., 0., 0.],\n",
              "       [0., 0., 1., 0., 1., 0., 1., 0., 1., 0.],\n",
              "       [0., 0., 0., 0., 0., 0., 0., 0., 0., 0.]])"
            ]
          },
          "metadata": {},
          "execution_count": 56
        }
      ]
    },
    {
      "cell_type": "code",
      "source": [
        "import numpy as np"
      ],
      "metadata": {
        "id": "gDbYXFzhYqoG"
      },
      "execution_count": 2,
      "outputs": []
    },
    {
      "cell_type": "code",
      "source": [
        "Xmas=11*np.ones((32,17))\n",
        "Xmas[22:,6:9] = 66\n",
        "Xmas[21:22:] =66\n",
        "Xmas[20,1:14] = 66\n",
        "Xmas[19,2:13] = 66\n",
        "Xmas[18,3:12] = 66\n",
        "Xmas[17,4:11] = 66\n",
        "Xmas[16,1:14] = 66\n",
        "Xmas[15,2:13] = 66\n",
        "Xmas[14,3:12] = 66\n",
        "Xmas[13,4:11] = 66\n",
        "Xmas[12,5:10] = 66\n",
        "Xmas[11,2:13] = 66\n",
        "Xmas[10,3:12] = 66\n",
        "Xmas[9,4:11] = 66\n",
        "Xmas[8,5:10] = 66\n",
        "Xmas[7,6:9] = 66\n",
        "Xmas[6,3:12] = 66\n",
        "Xmas[5,4:11] = 66\n",
        "Xmas[4,5:10] = 66\n",
        "Xmas[3,6:9] = 66\n",
        "Xmas[2,7:8] = 66\n",
        "Xmas[1,5:10] = 77\n",
        "Xmas[0,6:9] = 77\n",
        "print(Xmas)"
      ],
      "metadata": {
        "id": "uDIF6NCyYUXC",
        "outputId": "1aec6a10-21b4-41f0-f535-ca31e89f1267",
        "colab": {
          "base_uri": "https://localhost:8080/"
        }
      },
      "execution_count": 39,
      "outputs": [
        {
          "output_type": "stream",
          "name": "stdout",
          "text": [
            "[[11. 11. 11. 11. 11. 11. 77. 77. 77. 11. 11. 11. 11. 11. 11. 11. 11.]\n",
            " [11. 11. 11. 11. 11. 77. 77. 77. 77. 77. 11. 11. 11. 11. 11. 11. 11.]\n",
            " [11. 11. 11. 11. 11. 11. 11. 66. 11. 11. 11. 11. 11. 11. 11. 11. 11.]\n",
            " [11. 11. 11. 11. 11. 11. 66. 66. 66. 11. 11. 11. 11. 11. 11. 11. 11.]\n",
            " [11. 11. 11. 11. 11. 66. 66. 66. 66. 66. 11. 11. 11. 11. 11. 11. 11.]\n",
            " [11. 11. 11. 11. 66. 66. 66. 66. 66. 66. 66. 11. 11. 11. 11. 11. 11.]\n",
            " [11. 11. 11. 66. 66. 66. 66. 66. 66. 66. 66. 66. 11. 11. 11. 11. 11.]\n",
            " [11. 11. 11. 11. 11. 11. 66. 66. 66. 11. 11. 11. 11. 11. 11. 11. 11.]\n",
            " [11. 11. 11. 11. 11. 66. 66. 66. 66. 66. 11. 11. 11. 11. 11. 11. 11.]\n",
            " [11. 11. 11. 11. 66. 66. 66. 66. 66. 66. 66. 11. 11. 11. 11. 11. 11.]\n",
            " [11. 11. 11. 66. 66. 66. 66. 66. 66. 66. 66. 66. 11. 11. 11. 11. 11.]\n",
            " [11. 11. 66. 66. 66. 66. 66. 66. 66. 66. 66. 66. 66. 11. 11. 11. 11.]\n",
            " [11. 11. 11. 11. 11. 66. 66. 66. 66. 66. 11. 11. 11. 11. 11. 11. 11.]\n",
            " [11. 11. 11. 11. 66. 66. 66. 66. 66. 66. 66. 11. 11. 11. 11. 11. 11.]\n",
            " [11. 11. 11. 66. 66. 66. 66. 66. 66. 66. 66. 66. 11. 11. 11. 11. 11.]\n",
            " [11. 11. 66. 66. 66. 66. 66. 66. 66. 66. 66. 66. 66. 11. 11. 11. 11.]\n",
            " [11. 66. 66. 66. 66. 66. 66. 66. 66. 66. 66. 66. 66. 66. 11. 11. 11.]\n",
            " [11. 11. 11. 11. 66. 66. 66. 66. 66. 66. 66. 11. 11. 11. 11. 11. 11.]\n",
            " [11. 11. 11. 66. 66. 66. 66. 66. 66. 66. 66. 66. 11. 11. 11. 11. 11.]\n",
            " [11. 11. 66. 66. 66. 66. 66. 66. 66. 66. 66. 66. 66. 11. 11. 11. 11.]\n",
            " [11. 66. 66. 66. 66. 66. 66. 66. 66. 66. 66. 66. 66. 66. 11. 11. 11.]\n",
            " [66. 66. 66. 66. 66. 66. 66. 66. 66. 66. 66. 66. 66. 66. 66. 66. 66.]\n",
            " [11. 11. 11. 11. 11. 11. 66. 66. 66. 11. 11. 11. 11. 11. 11. 11. 11.]\n",
            " [11. 11. 11. 11. 11. 11. 66. 66. 66. 11. 11. 11. 11. 11. 11. 11. 11.]\n",
            " [11. 11. 11. 11. 11. 11. 66. 66. 66. 11. 11. 11. 11. 11. 11. 11. 11.]\n",
            " [11. 11. 11. 11. 11. 11. 66. 66. 66. 11. 11. 11. 11. 11. 11. 11. 11.]\n",
            " [11. 11. 11. 11. 11. 11. 66. 66. 66. 11. 11. 11. 11. 11. 11. 11. 11.]\n",
            " [11. 11. 11. 11. 11. 11. 66. 66. 66. 11. 11. 11. 11. 11. 11. 11. 11.]\n",
            " [11. 11. 11. 11. 11. 11. 66. 66. 66. 11. 11. 11. 11. 11. 11. 11. 11.]\n",
            " [11. 11. 11. 11. 11. 11. 66. 66. 66. 11. 11. 11. 11. 11. 11. 11. 11.]\n",
            " [11. 11. 11. 11. 11. 11. 66. 66. 66. 11. 11. 11. 11. 11. 11. 11. 11.]\n",
            " [11. 11. 11. 11. 11. 11. 66. 66. 66. 11. 11. 11. 11. 11. 11. 11. 11.]]\n"
          ]
        }
      ]
    },
    {
      "cell_type": "markdown",
      "source": [
        "## Pandas Dataframe (แยกออกไปเป็น Notebook เฉพาะ)"
      ],
      "metadata": {
        "id": "tIVHDgV_q-av"
      }
    },
    {
      "cell_type": "code",
      "source": [
        ""
      ],
      "metadata": {
        "id": "LYK8lz5oq8Cc"
      },
      "execution_count": null,
      "outputs": []
    }
  ]
}